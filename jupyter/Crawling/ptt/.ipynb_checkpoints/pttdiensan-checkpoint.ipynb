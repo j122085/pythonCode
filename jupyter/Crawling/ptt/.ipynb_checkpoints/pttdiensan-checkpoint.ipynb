{
 "cells": [
  {
   "cell_type": "code",
   "execution_count": 1,
   "metadata": {
    "collapsed": true
   },
   "outputs": [],
   "source": [
    "from bs4 import BeautifulSoup as bs\n",
    "import requests\n",
    "import time"
   ]
  },
  {
   "cell_type": "code",
   "execution_count": 2,
   "metadata": {
    "collapsed": true
   },
   "outputs": [],
   "source": [
    "cookiestr = '__cfduid=df4417457002ed1d390cc65a2f7734b9d1494830719; _gat=1; _ga=GA1.2.1333249610.1494830798; _gid=GA1.2.970157078.1502190098'\n",
    "cookies = cookiestr.split(\";\")\n",
    "cookiedata ={}\n",
    "for cookie in cookies:\n",
    "    cookiedata[cookie.split(\"=\")[0]]=cookie.split(\"=\")[1]"
   ]
  },
  {
   "cell_type": "code",
   "execution_count": 3,
   "metadata": {},
   "outputs": [
    {
     "data": {
      "text/plain": [
       "<Response [200]>"
      ]
     },
     "execution_count": 3,
     "metadata": {},
     "output_type": "execute_result"
    }
   ],
   "source": [
    "res =requests.get(\"https://www.ptt.cc/bbs/Taoyuan/index.html\",cookies =cookiedata)\n",
    "res"
   ]
  },
  {
   "cell_type": "code",
   "execution_count": 4,
   "metadata": {},
   "outputs": [
    {
     "data": {
      "text/plain": [
       "2658"
      ]
     },
     "execution_count": 4,
     "metadata": {},
     "output_type": "execute_result"
    }
   ],
   "source": [
    "soup = bs(res.text,\"lxml\")\n",
    "page = soup.select('#action-bar-container > div > div.btn-group.btn-group-paging > a')\n",
    "pages=int(page[1]['href'].split('index')[1].replace('.html',''))+1\n",
    "pages"
   ]
  },
  {
   "cell_type": "code",
   "execution_count": 5,
   "metadata": {
    "collapsed": true
   },
   "outputs": [],
   "source": [
    "res.close()"
   ]
  },
  {
   "cell_type": "code",
   "execution_count": 1,
   "metadata": {
    "scrolled": true
   },
   "outputs": [
    {
     "ename": "NameError",
     "evalue": "name 'time' is not defined",
     "output_type": "error",
     "traceback": [
      "\u001b[1;31m---------------------------------------------------------------------------\u001b[0m",
      "\u001b[1;31mNameError\u001b[0m                                 Traceback (most recent call last)",
      "\u001b[1;32m<ipython-input-1-3c250ff75f18>\u001b[0m in \u001b[0;36m<module>\u001b[1;34m()\u001b[0m\n\u001b[0;32m     23\u001b[0m \u001b[1;31m#########################################\u001b[0m\u001b[1;33m\u001b[0m\u001b[1;33m\u001b[0m\u001b[0m\n\u001b[0;32m     24\u001b[0m \u001b[1;33m\u001b[0m\u001b[0m\n\u001b[1;32m---> 25\u001b[1;33m \u001b[0mstart\u001b[0m \u001b[1;33m=\u001b[0m \u001b[0mtime\u001b[0m\u001b[1;33m.\u001b[0m\u001b[0mtime\u001b[0m\u001b[1;33m(\u001b[0m\u001b[1;33m)\u001b[0m\u001b[1;33m\u001b[0m\u001b[0m\n\u001b[0m\u001b[0;32m     26\u001b[0m \u001b[1;32mwith\u001b[0m \u001b[0mconcurrent\u001b[0m\u001b[1;33m.\u001b[0m\u001b[0mfutures\u001b[0m\u001b[1;33m.\u001b[0m\u001b[0mThreadPoolExecutor\u001b[0m\u001b[1;33m(\u001b[0m\u001b[0mmax_workers\u001b[0m\u001b[1;33m=\u001b[0m\u001b[1;36m8\u001b[0m\u001b[1;33m)\u001b[0m \u001b[1;32mas\u001b[0m \u001b[0mexecutor\u001b[0m\u001b[1;33m:\u001b[0m\u001b[1;33m\u001b[0m\u001b[0m\n\u001b[0;32m     27\u001b[0m     \u001b[0mjobInfo\u001b[0m \u001b[1;33m=\u001b[0m \u001b[1;33m[\u001b[0m\u001b[0mexecutor\u001b[0m\u001b[1;33m.\u001b[0m\u001b[0msubmit\u001b[0m\u001b[1;33m(\u001b[0m\u001b[0mgetptthref\u001b[0m\u001b[1;33m,\u001b[0m \u001b[0mpage\u001b[0m\u001b[1;33m)\u001b[0m \u001b[1;32mfor\u001b[0m \u001b[0mpage\u001b[0m \u001b[1;32min\u001b[0m \u001b[0mrange\u001b[0m\u001b[1;33m(\u001b[0m\u001b[1;36m1\u001b[0m\u001b[1;33m,\u001b[0m\u001b[0mpages\u001b[0m\u001b[1;33m+\u001b[0m\u001b[1;36m1\u001b[0m\u001b[1;33m)\u001b[0m\u001b[1;33m]\u001b[0m\u001b[1;33m\u001b[0m\u001b[0m\n",
      "\u001b[1;31mNameError\u001b[0m: name 'time' is not defined"
     ]
    }
   ],
   "source": [
    "from bs4 import BeautifulSoup\n",
    "import multiprocessing as mp\n",
    "import concurrent.futures\n",
    "\n",
    "pttlist=[]\n",
    "##########################################\n",
    "def getptthref(page):\n",
    "    url='https://www.ptt.cc/bbs/Taoyuan/index%i.html'%page\n",
    "    #print('https://www.ptt.cc/bbs/Taoyuan/index%i.html'%page)\n",
    "    res = requests.get(url,cookies=cookiedata)\n",
    "    res.encoding ='utf-8'\n",
    "    #print(res.text)\n",
    "    #print(res.status_code)\n",
    "    soup=bs(res.text,\"lxml\")\n",
    "    res.close()\n",
    "#     print(\"==============page %s==============\" % (page))\n",
    "    try:\n",
    "        pagelist=['https://www.ptt.cc'+ href.select(\"div.title > a\")[0][\"href\"] +\" \"+\\\n",
    "                  href.select(\"div.title > a\")[0].text+\" \"+  href.select(\"div.meta > div.date\")[0].text +\"\\n\"\\\n",
    "                  for href in soup.select('#main-container > div.r-list-container.action-bar-margin.bbs-screen > div')]\n",
    "        pagelist =[i for i in pagelist if '[食記]' in i and ': ' not in i]\n",
    "    except:\n",
    "        pass\n",
    "    return pagelist\n",
    "#########################################\n",
    "\n",
    "start = time.time()\n",
    "import concurrent.futures\n",
    "with concurrent.futures.ThreadPoolExecutor(max_workers=8) as executor:\n",
    "    jobInfo = [executor.submit(getptthref, page) for page in range(1,pages+1)]\n",
    "    for future in concurrent.futures.as_completed(jobInfo):\n",
    "        try:\n",
    "            lists = future.result()\n",
    "            pttlist+=lists\n",
    "        except Exception as e:\n",
    "#             print(e)\n",
    "            print(\"zzz\")\n",
    "            pass\n",
    "\n",
    "\n",
    "end = time.time()  \n",
    "print(\"-----------------\")\n",
    "print(end-start)\n",
    "pttlist=\"\".join(pttlist)\n",
    "print(pttlist)"
   ]
  },
  {
   "cell_type": "code",
   "execution_count": 2,
   "metadata": {},
   "outputs": [
    {
     "data": {
      "text/plain": [
       "[]"
      ]
     },
     "execution_count": 2,
     "metadata": {},
     "output_type": "execute_result"
    }
   ],
   "source": [
    "pttlist"
   ]
  },
  {
   "cell_type": "code",
   "execution_count": 8,
   "metadata": {
    "collapsed": true
   },
   "outputs": [],
   "source": [
    "with open('./Taoyuan_2657.txt','w',encoding='utf-8') as f :\n",
    "    f.write(pttlist)"
   ]
  },
  {
   "cell_type": "code",
   "execution_count": 5,
   "metadata": {
    "collapsed": true
   },
   "outputs": [],
   "source": [
    "with open('./Taoyuan_2657.txt',encoding='utf-8') as f :\n",
    "    a=f.readlines()"
   ]
  },
  {
   "cell_type": "code",
   "execution_count": 6,
   "metadata": {
    "collapsed": true
   },
   "outputs": [],
   "source": [
    "hrefs=[i.split(\" \")[0] for i in a]"
   ]
  },
  {
   "cell_type": "code",
   "execution_count": 3,
   "metadata": {},
   "outputs": [
    {
     "ename": "NameError",
     "evalue": "name 'hrefs' is not defined",
     "output_type": "error",
     "traceback": [
      "\u001b[1;31m---------------------------------------------------------------------------\u001b[0m",
      "\u001b[1;31mNameError\u001b[0m                                 Traceback (most recent call last)",
      "\u001b[1;32m<ipython-input-3-075d1e1150e5>\u001b[0m in \u001b[0;36m<module>\u001b[1;34m()\u001b[0m\n\u001b[1;32m----> 1\u001b[1;33m \u001b[0mhrefs\u001b[0m\u001b[1;33m\u001b[0m\u001b[0m\n\u001b[0m",
      "\u001b[1;31mNameError\u001b[0m: name 'hrefs' is not defined"
     ]
    }
   ],
   "source": [
    "hrefs"
   ]
  },
  {
   "cell_type": "code",
   "execution_count": 8,
   "metadata": {
    "collapsed": true
   },
   "outputs": [],
   "source": [
    "from bs4 import BeautifulSoup\n",
    "import multiprocessing as mp\n",
    "import concurrent.futures\n",
    "import requests\n",
    "import os"
   ]
  },
  {
   "cell_type": "code",
   "execution_count": 9,
   "metadata": {
    "collapsed": true
   },
   "outputs": [],
   "source": [
    "def savehrefcontent(href,cookies=\"\"):\n",
    "    res=requests.get(href,cookies =cookiedata)\n",
    "    res.content\n",
    "    with open('./ptt_tou/'+href.split('/')[-1],'w',encoding='utf-8') as f :\n",
    "        f.write(res.text)"
   ]
  },
  {
   "cell_type": "code",
   "execution_count": 10,
   "metadata": {},
   "outputs": [
    {
     "name": "stdout",
     "output_type": "stream",
     "text": [
      "-388.0628914833069\n"
     ]
    }
   ],
   "source": [
    "cookiestr = '__cfduid=df4417457002ed1d390cc65a2f7734b9d1494830719; _gat=1; _ga=GA1.2.1333249610.1494830798; _gid=GA1.2.970157078.1502190098'\n",
    "cookies = cookiestr.split(\";\")\n",
    "cookiedata ={}\n",
    "if not os.path.exists('ptt_tou'):\n",
    "    os.makedirs('ptt_tou')\n",
    "for cookie in cookies:\n",
    "    cookiedata[cookie.split(\"=\")[0]]=cookie.split(\"=\")[1]\n",
    "    \n",
    "import time\n",
    "start=time.time()\n",
    "with concurrent.futures.ThreadPoolExecutor(max_workers=8) as executor:\n",
    "    jobInfo = [executor.submit(savehrefcontent, href,cookiedata) for href in hrefs]\n",
    "#     for future in concurrent.futures.as_completed(jobInfo):\n",
    "#         try:\n",
    "#             lists = future.result()\n",
    "#             pttlist+=lists\n",
    "#         except Exception as e:\n",
    "#             print(e)\n",
    "#             print(\"zzz\")\n",
    "#             pass\n",
    "end=time.time()\n",
    "print(start-end)\n",
    "        \n"
   ]
  },
  {
   "cell_type": "code",
   "execution_count": 20,
   "metadata": {
    "collapsed": true
   },
   "outputs": [],
   "source": [
    "cookiestr = '__cfduid=df4417457002ed1d390cc65a2f7734b9d1494830719; _gat=1; _ga=GA1.2.1333249610.1494830798; _gid=GA1.2.970157078.1502190098'\n",
    "cookies = cookiestr.split(\";\")\n",
    "cookiedata ={}\n",
    "for cookie in cookies:\n",
    "    cookiedata[cookie.split(\"=\")[0]]=cookie.split(\"=\")[1]\n",
    "    \n",
    "href=\"https://www.ptt.cc/bbs/Taoyuan/M.1230926669.A.4BA.html\"\n",
    "res=requests.get(href,cookies =cookiedata)\n",
    "res.content\n",
    "with open('./trysave.txt','w',encoding='utf-8') as f :\n",
    "    f.write(res.text)\n"
   ]
  },
  {
   "cell_type": "code",
   "execution_count": 22,
   "metadata": {},
   "outputs": [
    {
     "data": {
      "text/plain": [
       "'M.1230926669.A.4BA.html'"
      ]
     },
     "execution_count": 22,
     "metadata": {},
     "output_type": "execute_result"
    }
   ],
   "source": [
    "href=\"https://www.ptt.cc/bbs/Taoyuan/M.1230926669.A.4BA.html\"\n",
    "href.split('/')[-1]"
   ]
  },
  {
   "cell_type": "code",
   "execution_count": 4,
   "metadata": {},
   "outputs": [
    {
     "ename": "NameError",
     "evalue": "name 'os' is not defined",
     "output_type": "error",
     "traceback": [
      "\u001b[1;31m---------------------------------------------------------------------------\u001b[0m",
      "\u001b[1;31mNameError\u001b[0m                                 Traceback (most recent call last)",
      "\u001b[1;32m<ipython-input-4-a8ace6ea2586>\u001b[0m in \u001b[0;36m<module>\u001b[1;34m()\u001b[0m\n\u001b[0;32m      1\u001b[0m \u001b[0mdatadir\u001b[0m\u001b[1;33m=\u001b[0m\u001b[1;34m'./ptt_tou/'\u001b[0m\u001b[1;33m\u001b[0m\u001b[0m\n\u001b[1;32m----> 2\u001b[1;33m \u001b[1;32mfor\u001b[0m \u001b[0mfilename\u001b[0m \u001b[1;32min\u001b[0m \u001b[0mos\u001b[0m\u001b[1;33m.\u001b[0m\u001b[0mlistdir\u001b[0m\u001b[1;33m(\u001b[0m\u001b[0mdatadir\u001b[0m\u001b[1;33m)\u001b[0m\u001b[1;33m:\u001b[0m\u001b[1;33m\u001b[0m\u001b[0m\n\u001b[0m\u001b[0;32m      3\u001b[0m     \u001b[1;32mwith\u001b[0m \u001b[0mopen\u001b[0m\u001b[1;33m(\u001b[0m\u001b[0mdatadir\u001b[0m\u001b[1;33m+\u001b[0m\u001b[0mfilename\u001b[0m\u001b[1;33m,\u001b[0m\u001b[0mencoding\u001b[0m\u001b[1;33m=\u001b[0m\u001b[1;34m'utf-8'\u001b[0m\u001b[1;33m)\u001b[0m \u001b[1;32mas\u001b[0m \u001b[0mdata\u001b[0m\u001b[1;33m:\u001b[0m\u001b[1;33m\u001b[0m\u001b[0m\n\u001b[0;32m      4\u001b[0m         \u001b[0msoup\u001b[0m\u001b[1;33m=\u001b[0m\u001b[0mBeautifulSoup\u001b[0m\u001b[1;33m(\u001b[0m\u001b[0mdata\u001b[0m\u001b[1;33m.\u001b[0m\u001b[0mread\u001b[0m\u001b[1;33m(\u001b[0m\u001b[1;33m)\u001b[0m\u001b[1;33m,\u001b[0m\u001b[1;34m'lxml'\u001b[0m\u001b[1;33m)\u001b[0m\u001b[1;33m\u001b[0m\u001b[0m\n\u001b[0;32m      5\u001b[0m         \u001b[0mprint\u001b[0m\u001b[1;33m(\u001b[0m\u001b[0msoup\u001b[0m\u001b[1;33m.\u001b[0m\u001b[0mselect\u001b[0m\u001b[1;33m(\u001b[0m\u001b[1;34m\"#main-content\"\u001b[0m\u001b[1;33m)\u001b[0m\u001b[1;33m)\u001b[0m\u001b[1;33m\u001b[0m\u001b[0m\n",
      "\u001b[1;31mNameError\u001b[0m: name 'os' is not defined"
     ]
    }
   ],
   "source": [
    "datadir='./ptt_tou/'\n",
    "for filename in os.listdir(datadir):\n",
    "    with open(datadir+filename,encoding='utf-8') as data:\n",
    "        soup=BeautifulSoup(data.read(),'lxml')\n",
    "        print(soup.select(\"#main-content\"))"
   ]
  },
  {
   "cell_type": "code",
   "execution_count": null,
   "metadata": {
    "collapsed": true
   },
   "outputs": [],
   "source": [
    "from bs4 import BeautifulSoup\n",
    "import multiprocessing as mp\n",
    "import concurrent.futures\n",
    "list=[台北,致中]\n",
    "\n",
    "\n",
    "pttlist=[]\n",
    "##########################################\n",
    "def getptthref(page):\n",
    "    url='https://www.ptt.cc/bbs/Taoyuan/index%i.html'%page\n",
    "    #print('https://www.ptt.cc/bbs/Taoyuan/index%i.html'%page)\n",
    "    res = requests.get(url,cookies=cookiedata)\n",
    "    res.encoding ='utf-8'\n",
    "    #print(res.text)\n",
    "    #print(res.status_code)\n",
    "    soup=bs(res.text,\"lxml\")\n",
    "    res.close()\n",
    "#     print(\"==============page %s==============\" % (page))\n",
    "    try:\n",
    "        pagelist=['https://www.ptt.cc'+ href.select(\"div.title > a\")[0][\"href\"] +\" \"+\\\n",
    "                  href.select(\"div.title > a\")[0].text+\" \"+  href.select(\"div.meta > div.date\")[0].text +\"\\n\"\\\n",
    "                  for href in soup.select('#main-container > div.r-list-container.action-bar-margin.bbs-screen > div')]\n",
    "        pagelist =[i for i in pagelist if '[食記]' in i and ': ' not in i]\n",
    "    except:\n",
    "        pass\n",
    "    return pagelist\n",
    "#########################################\n",
    "for l in list:\n",
    "    res(l'lxml')\n",
    "    #enter l\n",
    "    start = time.time()\n",
    "    with concurrent.futures.ThreadPoolExecutor(max_workers=8) as executor:\n",
    "        jobInfo = [executor.submit(getptthref, page) for page in range(1,pages+1)]\n",
    "        for future in concurrent.futures.as_completed(jobInfo):\n",
    "            try:\n",
    "                lists = future.result()\n",
    "                pttlist+=lists\n",
    "            except Exception as e:\n",
    "    #             print(e)\n",
    "                print(\"zzz\")\n",
    "                pass\n",
    "\n",
    "\n",
    "    end = time.time()  \n",
    "    print(\"-----------------\")\n",
    "    print(end-start)\n",
    "    pttlist=\"\".join(pttlist)\n",
    "    print(pttlist)"
   ]
  }
 ],
 "metadata": {
  "kernelspec": {
   "display_name": "Python 3",
   "language": "python",
   "name": "python3"
  },
  "language_info": {
   "codemirror_mode": {
    "name": "ipython",
    "version": 3
   },
   "file_extension": ".py",
   "mimetype": "text/x-python",
   "name": "python",
   "nbconvert_exporter": "python",
   "pygments_lexer": "ipython3",
   "version": "3.6.1"
  }
 },
 "nbformat": 4,
 "nbformat_minor": 2
}

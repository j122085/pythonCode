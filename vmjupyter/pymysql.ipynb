{
 "cells": [
  {
   "cell_type": "code",
   "execution_count": 69,
   "metadata": {
    "collapsed": true
   },
   "outputs": [],
   "source": [
    "import pymysql\n",
    "import redis\n",
    "import json \n",
    "import numpy as np\n",
    "import pandas as pd\n",
    "import pprint\n",
    "from collections import Counter"
   ]
  },
  {
   "cell_type": "code",
   "execution_count": 70,
   "metadata": {
    "collapsed": true
   },
   "outputs": [],
   "source": [
    "conn = pymysql.connect(host='172.17.0.4', port=3306, user='j122085', passwd='850605', db='db')"
   ]
  },
  {
   "cell_type": "code",
   "execution_count": 71,
   "metadata": {
    "collapsed": true
   },
   "outputs": [],
   "source": [
    "cur =conn.cursor()"
   ]
  },
  {
   "cell_type": "code",
   "execution_count": 72,
   "metadata": {
    "collapsed": true
   },
   "outputs": [],
   "source": [
    "row_2 = cursor.fetchmany(3)"
   ]
  },
  {
   "cell_type": "code",
   "execution_count": 73,
   "metadata": {},
   "outputs": [
    {
     "data": {
      "text/plain": [
       "()"
      ]
     },
     "execution_count": 73,
     "metadata": {},
     "output_type": "execute_result"
    }
   ],
   "source": [
    "row_2"
   ]
  },
  {
   "cell_type": "code",
   "execution_count": 74,
   "metadata": {},
   "outputs": [
    {
     "data": {
      "text/plain": [
       "0"
      ]
     },
     "execution_count": 74,
     "metadata": {},
     "output_type": "execute_result"
    }
   ],
   "source": [
    "cur.execute('''DROP TABLE `db`.`tainan`''')"
   ]
  },
  {
   "cell_type": "code",
   "execution_count": 75,
   "metadata": {
    "scrolled": true
   },
   "outputs": [
    {
     "data": {
      "text/plain": [
       "0"
      ]
     },
     "execution_count": 75,
     "metadata": {},
     "output_type": "execute_result"
    }
   ],
   "source": [
    "cur.execute('''CREATE TABLE IF NOT EXISTS `db`.`tainan` (\n",
    "  `name` VARCHAR(200) NOT NULL,\n",
    "  `lat` FLOAT NULL,\n",
    "  `lng` FLOAT NULL,\n",
    "  `introduction` VARCHAR(10000) NOT NULL DEFAULT 'no intro',\n",
    "  `score` FLOAT ZEROFILL NULL DEFAULT 0,\n",
    "  `style` VARCHAR(200) NOT NULL DEFAULT 'other food',\n",
    "  PRIMARY KEY (`name`))\n",
    "  DEFAULT CHARACTER SET = utf8mb4;;''')"
   ]
  },
  {
   "cell_type": "code",
   "execution_count": 76,
   "metadata": {
    "collapsed": true
   },
   "outputs": [],
   "source": [
    "with open('./jsondata/bigtable_1.2.json') as f:\n",
    "    bigTable=json.load(f)"
   ]
  },
  {
   "cell_type": "code",
   "execution_count": 77,
   "metadata": {
    "scrolled": true
   },
   "outputs": [
    {
     "data": {
      "text/plain": [
       "0"
      ]
     },
     "execution_count": 77,
     "metadata": {},
     "output_type": "execute_result"
    }
   ],
   "source": [
    "cur.execute('''SELECT * FROM db.tainan;''')"
   ]
  },
  {
   "cell_type": "code",
   "execution_count": null,
   "metadata": {
    "collapsed": true
   },
   "outputs": [],
   "source": []
  },
  {
   "cell_type": "code",
   "execution_count": 78,
   "metadata": {
    "collapsed": true
   },
   "outputs": [],
   "source": [
    "connection = pymysql.connect(host='172.17.0.4',\n",
    "                             user='root',\n",
    "                             password='850605',\n",
    "                             db='db',\n",
    "                             charset='utf8mb4',\n",
    "                             cursorclass=pymysql.cursors.DictCursor)"
   ]
  },
  {
   "cell_type": "code",
   "execution_count": 79,
   "metadata": {
    "collapsed": true
   },
   "outputs": [],
   "source": [
    "    try:\n",
    "        for dien in bigTable:\n",
    "            with connection.cursor() as cursor:\n",
    "                # Create a new record\n",
    "                sql = \"INSERT INTO `db`.`tainan` (`name`, `lat`, `lng`, `introduction`, `score`, `style`) VALUES (%s, %s, %s, %s, %s, %s)\"\n",
    "                try:\n",
    "                    cursor.execute(sql, (dien['name'], dien['coordinate']['lat'],\n",
    "                                         dien['coordinate']['lng'], dien['introduction'], dien['score'], dien['style']))\n",
    "                except:\n",
    "                    pass\n",
    "\n",
    "            # connection is not autocommit by default. So you must commit to save\n",
    "            # your changes.\n",
    "        connection.commit()\n",
    "    finally:\n",
    "        connection.close()"
   ]
  },
  {
   "cell_type": "code",
   "execution_count": 80,
   "metadata": {},
   "outputs": [
    {
     "data": {
      "text/plain": [
       "0"
      ]
     },
     "execution_count": 80,
     "metadata": {},
     "output_type": "execute_result"
    }
   ],
   "source": [
    "cur.execute('''SELECT * FROM db.tainan;''')"
   ]
  },
  {
   "cell_type": "code",
   "execution_count": 81,
   "metadata": {},
   "outputs": [
    {
     "name": "stdout",
     "output_type": "stream",
     "text": [
      "(('name', 253, None, 200, 200, 0, False), ('lat', 4, None, 12, 12, 31, True), ('lng', 4, None, 12, 12, 31, True), ('introduction', 253, None, 10000, 10000, 0, False), ('score', 4, None, 12, 12, 31, True), ('style', 253, None, 200, 200, 0, False))\n"
     ]
    }
   ],
   "source": [
    "print(cur.description)"
   ]
  },
  {
   "cell_type": "code",
   "execution_count": 82,
   "metadata": {
    "collapsed": true
   },
   "outputs": [],
   "source": [
    "# try:\n",
    "#     with connection.cursor() as cursor:\n",
    "#         # Create a new record\n",
    "#         sql = \"INSERT INTO `users` (`email`, `password`) VALUES (%s, %s)\"\n",
    "#         cursor.execute(sql, ('webmaster@python.org', 'very-secret'))\n",
    "\n",
    "#     # connection is not autocommit by default. So you must commit to save\n",
    "#     # your changes.\n",
    "#     connection.commit()\n",
    "\n",
    "#     with connection.cursor() as cursor:\n",
    "#         # Read a single record\n",
    "#         sql = \"SELECT `id`, `password` FROM `users` WHERE `email`=%s\"\n",
    "#         cursor.execute(sql, ('webmaster@python.org',))\n",
    "#         result = cursor.fetchone()\n",
    "#         print(result)\n",
    "# finally:\n",
    "#     connection.close()"
   ]
  },
  {
   "cell_type": "code",
   "execution_count": 83,
   "metadata": {},
   "outputs": [
    {
     "data": {
      "text/plain": [
       "0"
      ]
     },
     "execution_count": 83,
     "metadata": {},
     "output_type": "execute_result"
    }
   ],
   "source": [
    "cur.execute('select * from `db`.`tainan`')"
   ]
  },
  {
   "cell_type": "code",
   "execution_count": 84,
   "metadata": {},
   "outputs": [
    {
     "data": {
      "text/plain": [
       "(('name', 253, None, 200, 200, 0, False),\n",
       " ('lat', 4, None, 12, 12, 31, True),\n",
       " ('lng', 4, None, 12, 12, 31, True),\n",
       " ('introduction', 253, None, 10000, 10000, 0, False),\n",
       " ('score', 4, None, 12, 12, 31, True),\n",
       " ('style', 253, None, 200, 200, 0, False))"
      ]
     },
     "execution_count": 84,
     "metadata": {},
     "output_type": "execute_result"
    }
   ],
   "source": [
    "cur.description"
   ]
  },
  {
   "cell_type": "code",
   "execution_count": 85,
   "metadata": {
    "collapsed": true
   },
   "outputs": [],
   "source": [
    "for row in cur:\n",
    "    print(row)"
   ]
  },
  {
   "cell_type": "code",
   "execution_count": 87,
   "metadata": {
    "collapsed": true
   },
   "outputs": [],
   "source": [
    "conn.close()"
   ]
  },
  {
   "cell_type": "code",
   "execution_count": null,
   "metadata": {
    "collapsed": true
   },
   "outputs": [],
   "source": []
  }
 ],
 "metadata": {
  "kernelspec": {
   "display_name": "Python 3",
   "language": "python",
   "name": "python3"
  },
  "language_info": {
   "codemirror_mode": {
    "name": "ipython",
    "version": 3
   },
   "file_extension": ".py",
   "mimetype": "text/x-python",
   "name": "python",
   "nbconvert_exporter": "python",
   "pygments_lexer": "ipython3",
   "version": "3.6.2"
  }
 },
 "nbformat": 4,
 "nbformat_minor": 2
}

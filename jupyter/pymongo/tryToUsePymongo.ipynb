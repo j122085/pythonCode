{
 "cells": [
  {
   "cell_type": "code",
   "execution_count": 47,
   "metadata": {
    "collapsed": true
   },
   "outputs": [],
   "source": [
    "import pymongo\n",
    "from pymongo import MongoClient"
   ]
  },
  {
   "cell_type": "code",
   "execution_count": 53,
   "metadata": {
    "collapsed": true
   },
   "outputs": [],
   "source": [
    "#連進pymongo(ip+port) 創造db跟colle\n",
    "client = MongoClient('10.120.27.4', 27017)\n",
    "db = client.test_database\n",
    "collection = db.test_collection"
   ]
  },
  {
   "cell_type": "code",
   "execution_count": 67,
   "metadata": {
    "collapsed": true
   },
   "outputs": [],
   "source": [
    "import datetime\n",
    "\n",
    "post = {\"author\": \"Mike\",\"text\": \"My first blog post!\",\n",
    "        \"tags\": [\"mongodb\", \"python\", \"pymongo\"],\n",
    "        \"date\": datetime.datetime.utcnow()}\n",
    "#這是建立colle\n",
    "posts = db.posts"
   ]
  },
  {
   "cell_type": "code",
   "execution_count": 68,
   "metadata": {},
   "outputs": [
    {
     "data": {
      "text/plain": [
       "ObjectId('5989c45faadaed13d88f5b68')"
      ]
     },
     "execution_count": 68,
     "metadata": {},
     "output_type": "execute_result"
    }
   ],
   "source": [
    "#insert動作\n",
    "post_id = posts.insert_one(post).inserted_id\n",
    "post_id"
   ]
  },
  {
   "cell_type": "code",
   "execution_count": 71,
   "metadata": {},
   "outputs": [
    {
     "data": {
      "text/plain": [
       "['test_collection', 'posts', 'test-collection']"
      ]
     },
     "execution_count": 71,
     "metadata": {},
     "output_type": "execute_result"
    }
   ],
   "source": [
    "#顯示collename\n",
    "db.collection_names(include_system_collections=False)"
   ]
  },
  {
   "cell_type": "code",
   "execution_count": 72,
   "metadata": {
    "collapsed": true
   },
   "outputs": [],
   "source": [
    "import pprint"
   ]
  },
  {
   "cell_type": "code",
   "execution_count": 73,
   "metadata": {},
   "outputs": [
    {
     "name": "stdout",
     "output_type": "stream",
     "text": [
      "{'_id': ObjectId('5989c1c0aadaed13d88f5b66'),\n",
      " 'author': 'Mike',\n",
      " 'date': datetime.datetime(2017, 8, 8, 13, 50, 54, 363000),\n",
      " 'tags': ['mongodb', 'python', 'pymongo'],\n",
      " 'text': 'My first blog post!'}\n"
     ]
    }
   ],
   "source": [
    "pprint.pprint(posts.find_one())"
   ]
  },
  {
   "cell_type": "code",
   "execution_count": 74,
   "metadata": {},
   "outputs": [
    {
     "name": "stdout",
     "output_type": "stream",
     "text": [
      "{'_id': ObjectId('5989c1c0aadaed13d88f5b66'),\n",
      " 'author': 'Mike',\n",
      " 'date': datetime.datetime(2017, 8, 8, 13, 50, 54, 363000),\n",
      " 'tags': ['mongodb', 'python', 'pymongo'],\n",
      " 'text': 'My first blog post!'}\n"
     ]
    }
   ],
   "source": [
    "pprint.pprint(posts.find_one({\"author\": \"Mike\"}))"
   ]
  },
  {
   "cell_type": "code",
   "execution_count": 75,
   "metadata": {
    "collapsed": true
   },
   "outputs": [],
   "source": [
    "posts.find_one({\"author\": \"Eliot\"})"
   ]
  },
  {
   "cell_type": "code",
   "execution_count": 82,
   "metadata": {},
   "outputs": [
    {
     "data": {
      "text/plain": [
       "ObjectId('5989c45faadaed13d88f5b68')"
      ]
     },
     "execution_count": 82,
     "metadata": {},
     "output_type": "execute_result"
    }
   ],
   "source": [
    "post_id"
   ]
  },
  {
   "cell_type": "code",
   "execution_count": 77,
   "metadata": {},
   "outputs": [
    {
     "name": "stdout",
     "output_type": "stream",
     "text": [
      "{'_id': ObjectId('5989c45faadaed13d88f5b68'),\n",
      " 'author': 'Mike',\n",
      " 'date': datetime.datetime(2017, 8, 8, 14, 2, 6, 406000),\n",
      " 'tags': ['mongodb', 'python', 'pymongo'],\n",
      " 'text': 'My first blog post!'}\n"
     ]
    }
   ],
   "source": [
    " pprint.pprint(posts.find_one({\"_id\": post_id}))"
   ]
  },
  {
   "cell_type": "code",
   "execution_count": 78,
   "metadata": {
    "collapsed": true
   },
   "outputs": [],
   "source": [
    "post_id_as_str = str(post_id)"
   ]
  },
  {
   "cell_type": "code",
   "execution_count": 79,
   "metadata": {
    "collapsed": true
   },
   "outputs": [],
   "source": [
    "#_id不是string 因此改用字串搜索不可行\n",
    "posts.find_one({\"_id\": post_id_as_str})"
   ]
  },
  {
   "cell_type": "code",
   "execution_count": 83,
   "metadata": {
    "collapsed": true
   },
   "outputs": [],
   "source": [
    "from bson.objectid import ObjectId"
   ]
  },
  {
   "cell_type": "code",
   "execution_count": 89,
   "metadata": {
    "collapsed": true
   },
   "outputs": [],
   "source": [
    "def get(post_id):\n",
    "    document = client.db.collection.find_one({'_id': ObjectId(post_id)})"
   ]
  },
  {
   "cell_type": "code",
   "execution_count": 90,
   "metadata": {
    "collapsed": true
   },
   "outputs": [],
   "source": [
    "get(post_id)"
   ]
  },
  {
   "cell_type": "code",
   "execution_count": 91,
   "metadata": {
    "collapsed": true
   },
   "outputs": [],
   "source": [
    "#多筆json可以一次insert\n",
    "new_posts = [{\"author\": \"Mike\",\n",
    "...               \"text\": \"Another post!\",\n",
    "...               \"tags\": [\"bulk\", \"insert\"],\n",
    "...               \"date\": datetime.datetime(2009, 11, 12, 11, 14)},\n",
    "...              {\"author\": \"Eliot\",\n",
    "...               \"title\": \"MongoDB is fun\",\n",
    "...               \"text\": \"and pretty easy too!\",\n",
    "...               \"date\": datetime.datetime(2009, 11, 10, 10, 45)}]"
   ]
  },
  {
   "cell_type": "code",
   "execution_count": 92,
   "metadata": {
    "collapsed": true
   },
   "outputs": [],
   "source": [
    "result = posts.insert_many(new_posts)"
   ]
  },
  {
   "cell_type": "code",
   "execution_count": 93,
   "metadata": {},
   "outputs": [
    {
     "data": {
      "text/plain": [
       "[ObjectId('5989c769aadaed13d88f5b69'), ObjectId('5989c769aadaed13d88f5b6a')]"
      ]
     },
     "execution_count": 93,
     "metadata": {},
     "output_type": "execute_result"
    }
   ],
   "source": [
    "result.inserted_ids"
   ]
  },
  {
   "cell_type": "code",
   "execution_count": 100,
   "metadata": {},
   "outputs": [
    {
     "name": "stdout",
     "output_type": "stream",
     "text": [
      "{'_id': ObjectId('5989c1c0aadaed13d88f5b66'),\n",
      " 'author': 'Mike',\n",
      " 'date': datetime.datetime(2017, 8, 8, 13, 50, 54, 363000),\n",
      " 'tags': ['mongodb', 'python', 'pymongo'],\n",
      " 'text': 'My first blog post!'}\n",
      "{'_id': ObjectId('5989c201aadaed13d88f5b67'),\n",
      " 'author': 'Mike',\n",
      " 'date': datetime.datetime(2017, 8, 8, 13, 51, 59, 642000),\n",
      " 'tags': ['mongodb', 'python', 'pymongo'],\n",
      " 'text': 'My first blog post!'}\n",
      "{'_id': ObjectId('5989c45faadaed13d88f5b68'),\n",
      " 'author': 'Mike',\n",
      " 'date': datetime.datetime(2017, 8, 8, 14, 2, 6, 406000),\n",
      " 'tags': ['mongodb', 'python', 'pymongo'],\n",
      " 'text': 'My first blog post!'}\n",
      "{'_id': ObjectId('5989c769aadaed13d88f5b69'),\n",
      " 'author': 'Mike',\n",
      " 'date': datetime.datetime(2009, 11, 12, 11, 14),\n",
      " 'tags': ['bulk', 'insert'],\n",
      " 'text': 'Another post!'}\n",
      "{'_id': ObjectId('5989c769aadaed13d88f5b6a'),\n",
      " 'author': 'Eliot',\n",
      " 'date': datetime.datetime(2009, 11, 10, 10, 45),\n",
      " 'text': 'and pretty easy too!',\n",
      " 'title': 'MongoDB is fun'}\n"
     ]
    }
   ],
   "source": [
    "for post in posts.find():\n",
    "...   pprint.pprint(post)\n",
    "#     print(post)"
   ]
  },
  {
   "cell_type": "code",
   "execution_count": 98,
   "metadata": {},
   "outputs": [
    {
     "name": "stdout",
     "output_type": "stream",
     "text": [
      "{'_id': ObjectId('5989c1c0aadaed13d88f5b66'),\n",
      " 'author': 'Mike',\n",
      " 'date': datetime.datetime(2017, 8, 8, 13, 50, 54, 363000),\n",
      " 'tags': ['mongodb', 'python', 'pymongo'],\n",
      " 'text': 'My first blog post!'}\n",
      "{'_id': ObjectId('5989c201aadaed13d88f5b67'),\n",
      " 'author': 'Mike',\n",
      " 'date': datetime.datetime(2017, 8, 8, 13, 51, 59, 642000),\n",
      " 'tags': ['mongodb', 'python', 'pymongo'],\n",
      " 'text': 'My first blog post!'}\n",
      "{'_id': ObjectId('5989c45faadaed13d88f5b68'),\n",
      " 'author': 'Mike',\n",
      " 'date': datetime.datetime(2017, 8, 8, 14, 2, 6, 406000),\n",
      " 'tags': ['mongodb', 'python', 'pymongo'],\n",
      " 'text': 'My first blog post!'}\n",
      "{'_id': ObjectId('5989c769aadaed13d88f5b69'),\n",
      " 'author': 'Mike',\n",
      " 'date': datetime.datetime(2009, 11, 12, 11, 14),\n",
      " 'tags': ['bulk', 'insert'],\n",
      " 'text': 'Another post!'}\n"
     ]
    }
   ],
   "source": [
    "for post in posts.find({\"author\": \"Mike\"}):\n",
    "...   pprint.pprint(post)"
   ]
  },
  {
   "cell_type": "code",
   "execution_count": 99,
   "metadata": {},
   "outputs": [
    {
     "data": {
      "text/plain": [
       "5"
      ]
     },
     "execution_count": 99,
     "metadata": {},
     "output_type": "execute_result"
    }
   ],
   "source": [
    "#顯示資料筆數\n",
    "posts.count()"
   ]
  },
  {
   "cell_type": "code",
   "execution_count": 101,
   "metadata": {},
   "outputs": [
    {
     "data": {
      "text/plain": [
       "4"
      ]
     },
     "execution_count": 101,
     "metadata": {},
     "output_type": "execute_result"
    }
   ],
   "source": [
    " posts.find({\"author\": \"Mike\"}).count()"
   ]
  },
  {
   "cell_type": "code",
   "execution_count": 102,
   "metadata": {
    "collapsed": true
   },
   "outputs": [],
   "source": [
    "d = datetime.datetime(2009, 11, 12, 12)"
   ]
  },
  {
   "cell_type": "code",
   "execution_count": 106,
   "metadata": {},
   "outputs": [
    {
     "name": "stdout",
     "output_type": "stream",
     "text": [
      "{'_id': ObjectId('5989c769aadaed13d88f5b6a'),\n",
      " 'author': 'Eliot',\n",
      " 'date': datetime.datetime(2009, 11, 10, 10, 45),\n",
      " 'text': 'and pretty easy too!',\n",
      " 'title': 'MongoDB is fun'}\n",
      "{'_id': ObjectId('5989c769aadaed13d88f5b69'),\n",
      " 'author': 'Mike',\n",
      " 'date': datetime.datetime(2009, 11, 12, 11, 14),\n",
      " 'tags': ['bulk', 'insert'],\n",
      " 'text': 'Another post!'}\n"
     ]
    }
   ],
   "source": [
    "#顯示20091112之前的項目，並以author排序\n",
    "for post in posts.find({\"date\": {\"$lt\": d}}).sort(\"author\"):\n",
    "    pprint.pprint(post)"
   ]
  },
  {
   "cell_type": "code",
   "execution_count": 107,
   "metadata": {
    "collapsed": true
   },
   "outputs": [],
   "source": [
    "result = db.profiles.create_index([('user_id', pymongo.ASCENDING)],\n",
    "...                                   unique=True)"
   ]
  },
  {
   "cell_type": "code",
   "execution_count": 108,
   "metadata": {
    "scrolled": true
   },
   "outputs": [
    {
     "data": {
      "text/plain": [
       "['_id_', 'user_id_1']"
      ]
     },
     "execution_count": 108,
     "metadata": {},
     "output_type": "execute_result"
    }
   ],
   "source": [
    "#秀出有建立index的項目\n",
    "sorted(list(db.profiles.index_information()))"
   ]
  },
  {
   "cell_type": "markdown",
   "metadata": {},
   "source": [
    "# aggregate"
   ]
  },
  {
   "cell_type": "code",
   "execution_count": 102,
   "metadata": {
    "collapsed": true
   },
   "outputs": [],
   "source": [
    "from pymongo import MongoClient"
   ]
  },
  {
   "cell_type": "code",
   "execution_count": 103,
   "metadata": {
    "collapsed": true
   },
   "outputs": [],
   "source": [
    "db = MongoClient().aggregation_example"
   ]
  },
  {
   "cell_type": "code",
   "execution_count": 104,
   "metadata": {},
   "outputs": [
    {
     "data": {
      "text/plain": [
       "[ObjectId('598a78d9aadaed1d2cd3a344'),\n",
       " ObjectId('598a78d9aadaed1d2cd3a345'),\n",
       " ObjectId('598a78d9aadaed1d2cd3a346'),\n",
       " ObjectId('598a78d9aadaed1d2cd3a347')]"
      ]
     },
     "execution_count": 104,
     "metadata": {},
     "output_type": "execute_result"
    }
   ],
   "source": [
    "result = db.things.insert_many([{\"x\": 1, \"tags\": [\"dog\", \"cat\"]},\n",
    "...                                 {\"x\": 2, \"tags\": [\"cat\"]},\n",
    "...                                 {\"x\": 2, \"tags\": [\"mouse\", \"cat\", \"dog\"]},\n",
    "...                                 {\"x\": 3, \"tags\": []}])\n",
    "result.inserted_ids"
   ]
  },
  {
   "cell_type": "code",
   "execution_count": 105,
   "metadata": {},
   "outputs": [],
   "source": [
    "#放BSON的dict?(不確定)\n",
    "from bson.son import SON"
   ]
  },
  {
   "cell_type": "code",
   "execution_count": 106,
   "metadata": {
    "collapsed": true
   },
   "outputs": [],
   "source": [
    "pipeline = [\n",
    "...     {\"$unwind\": \"$tags\"},\n",
    "...     {\"$group\": {\"_id\": \"$tags\", \"count\": {\"$sum\": 1}}},\n",
    "...     {\"$sort\": SON([(\"count\", -1), (\"_id\", -1)])}\n",
    "... ]"
   ]
  },
  {
   "cell_type": "code",
   "execution_count": 107,
   "metadata": {},
   "outputs": [
    {
     "data": {
      "text/plain": [
       "[{'$unwind': '$tags'},\n",
       " {'$group': {'_id': '$tags', 'count': {'$sum': 1}}},\n",
       " {'$sort': SON([('count', -1), ('_id', -1)])}]"
      ]
     },
     "execution_count": 107,
     "metadata": {},
     "output_type": "execute_result"
    }
   ],
   "source": [
    "pipeline"
   ]
  },
  {
   "cell_type": "code",
   "execution_count": 108,
   "metadata": {},
   "outputs": [
    {
     "name": "stdout",
     "output_type": "stream",
     "text": [
      "{'_id': 'cat', 'count': 3}\n",
      "{'_id': 'dog', 'count': 2}\n",
      "{'_id': 'mouse', 'count': 1}\n",
      "[{'_id': 'cat', 'count': 3},\n",
      " {'_id': 'dog', 'count': 2},\n",
      " {'_id': 'mouse', 'count': 1}]\n"
     ]
    }
   ],
   "source": [
    "#db.things.aggregate(pipeline)為可迭代物件\n",
    "for i in db.things.aggregate(pipeline):\n",
    "    print(i)\n",
    "#或將它變成list\n",
    "pprint.pprint(list(db.things.aggregate(pipeline)))"
   ]
  },
  {
   "cell_type": "code",
   "execution_count": 109,
   "metadata": {},
   "outputs": [
    {
     "data": {
      "text/plain": [
       "{'ok': 1.0,\n",
       " 'stages': [{'$cursor': {'fields': {'_id': 0, 'tags': 1},\n",
       "    'query': {},\n",
       "    'queryPlanner': {'indexFilterSet': False,\n",
       "     'namespace': 'aggregation_example.things',\n",
       "     'parsedQuery': {},\n",
       "     'plannerVersion': 1,\n",
       "     'rejectedPlans': [],\n",
       "     'winningPlan': {'direction': 'forward', 'stage': 'COLLSCAN'}}}},\n",
       "  {'$unwind': {'path': '$tags'}},\n",
       "  {'$group': {'_id': '$tags', 'count': {'$sum': {'$const': 1}}}},\n",
       "  {'$sort': {'sortKey': {'_id': -1, 'count': -1}}}]}"
      ]
     },
     "execution_count": 109,
     "metadata": {},
     "output_type": "execute_result"
    }
   ],
   "source": [
    "db.command('aggregate', 'things', pipeline=pipeline, explain=True)\n"
   ]
  },
  {
   "cell_type": "markdown",
   "metadata": {},
   "source": [
    "# mapreduce\n",
    "#db.things.map_reduce(mapper, reducer, \"myresults\", full_response=True)"
   ]
  },
  {
   "cell_type": "code",
   "execution_count": 123,
   "metadata": {},
   "outputs": [],
   "source": [
    "from bson.code import Code\n",
    "#this=這個集合的每一筆，這裡用tag做案例\n",
    "\n",
    "##emit：返回一个键值对。emit的第一个参数是key，\n",
    "##就是分组的依据，这是自然是age了，后一个是value，\n",
    "##可以是要统计的数据，下面会说明，value可以是JSON对象。\n",
    "\n",
    "mapper = Code(\"\"\"\n",
    "               function () {\n",
    "                 this.tags.forEach(function(z) {\n",
    "                   emit(z, 1);\n",
    "                 });\n",
    "               }\n",
    "               \"\"\")\n",
    "reducer = Code(\"\"\"\n",
    "                function (key, values) {\n",
    "                  var total = 0;\n",
    "                  for (var i = 0; i < values.length; i++) {\n",
    "                    total += values[i];\n",
    "                  }\n",
    "                  return total;\n",
    "                }\n",
    "                \"\"\")"
   ]
  },
  {
   "cell_type": "code",
   "execution_count": 124,
   "metadata": {
    "collapsed": true
   },
   "outputs": [],
   "source": [
    "##將結果資料存進collection-myresults裡面\n",
    "result = db.things.map_reduce(mapper, reducer, \"myresults\")"
   ]
  },
  {
   "cell_type": "code",
   "execution_count": 125,
   "metadata": {},
   "outputs": [
    {
     "name": "stdout",
     "output_type": "stream",
     "text": [
      "{'_id': 'cat', 'value': 3.0}\n",
      "{'_id': 'dog', 'value': 2.0}\n",
      "{'_id': 'mouse', 'value': 1.0}\n"
     ]
    }
   ],
   "source": [
    "for doc in result.find():\n",
    "...   pprint.pprint(doc)"
   ]
  },
  {
   "cell_type": "code",
   "execution_count": 126,
   "metadata": {},
   "outputs": [
    {
     "name": "stdout",
     "output_type": "stream",
     "text": [
      "{'counts': {'emit': 6, 'input': 4, 'output': 3, 'reduce': 2},\n",
      " 'ok': 1.0,\n",
      " 'result': 'myresults',\n",
      " 'timeMillis': 364}\n"
     ]
    }
   ],
   "source": [
    "pprint.pprint(\n",
    "...     db.things.map_reduce(mapper, reducer, \"myresults\", full_response=True))"
   ]
  },
  {
   "cell_type": "code",
   "execution_count": 127,
   "metadata": {
    "collapsed": true
   },
   "outputs": [],
   "source": [
    "results = db.things.map_reduce(\n",
    "...     mapper, reducer, \"myresults\", query={\"x\": {\"$lt\": 2}})"
   ]
  },
  {
   "cell_type": "code",
   "execution_count": 117,
   "metadata": {},
   "outputs": [
    {
     "name": "stdout",
     "output_type": "stream",
     "text": [
      "{'_id': 'cat', 'value': 1.0}\n",
      "{'_id': 'dog', 'value': 1.0}\n"
     ]
    }
   ],
   "source": [
    "for doc in results.find():\n",
    "...   pprint.pprint(doc)"
   ]
  },
  {
   "cell_type": "code",
   "execution_count": 131,
   "metadata": {},
   "outputs": [
    {
     "name": "stdout",
     "output_type": "stream",
     "text": [
      "{'counts': {'emit': 6, 'input': 4, 'output': 3, 'reduce': 2},\n",
      " 'ok': 1.0,\n",
      " 'result': {'collection': 'results', 'db': 'outdb'},\n",
      " 'timeMillis': 370}\n"
     ]
    }
   ],
   "source": [
    "from bson.son import SON\n",
    "pprint.pprint(\n",
    "        db.things.map_reduce(\n",
    "        mapper,\n",
    "        reducer,\n",
    "        out=SON([(\"replace\", \"results\"), (\"db\", \"outdb\")]),\n",
    "        full_response=True))"
   ]
  },
  {
   "cell_type": "code",
   "execution_count": null,
   "metadata": {
    "collapsed": true
   },
   "outputs": [],
   "source": []
  },
  {
   "cell_type": "code",
   "execution_count": null,
   "metadata": {
    "collapsed": true
   },
   "outputs": [],
   "source": []
  },
  {
   "cell_type": "code",
   "execution_count": null,
   "metadata": {
    "collapsed": true
   },
   "outputs": [],
   "source": []
  },
  {
   "cell_type": "code",
   "execution_count": null,
   "metadata": {
    "collapsed": true
   },
   "outputs": [],
   "source": []
  },
  {
   "cell_type": "code",
   "execution_count": null,
   "metadata": {
    "collapsed": true
   },
   "outputs": [],
   "source": []
  },
  {
   "cell_type": "code",
   "execution_count": null,
   "metadata": {
    "collapsed": true
   },
   "outputs": [],
   "source": []
  },
  {
   "cell_type": "code",
   "execution_count": null,
   "metadata": {
    "collapsed": true
   },
   "outputs": [],
   "source": []
  },
  {
   "cell_type": "code",
   "execution_count": null,
   "metadata": {
    "collapsed": true
   },
   "outputs": [],
   "source": []
  }
 ],
 "metadata": {
  "kernelspec": {
   "display_name": "Python 3",
   "language": "python",
   "name": "python3"
  },
  "language_info": {
   "codemirror_mode": {
    "name": "ipython",
    "version": 3
   },
   "file_extension": ".py",
   "mimetype": "text/x-python",
   "name": "python",
   "nbconvert_exporter": "python",
   "pygments_lexer": "ipython3",
   "version": "3.6.1"
  }
 },
 "nbformat": 4,
 "nbformat_minor": 2
}

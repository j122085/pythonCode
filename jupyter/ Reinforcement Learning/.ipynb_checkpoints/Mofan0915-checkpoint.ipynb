{
 "cells": [
  {
   "cell_type": "markdown",
   "metadata": {},
   "source": [
    "# -o---T\n",
    "# T 就是宝藏的位置, o 是探索者的位置"
   ]
  },
  {
   "cell_type": "code",
   "execution_count": null,
   "metadata": {
    "collapsed": true
   },
   "outputs": [],
   "source": [
    "# Q-learning 是一种记录行为值 (Q value) 的方法, 每种在一定状态的行为都会有一个值 Q(s, a),\n",
    "# 就是说 行为 a 在 s 状态的值是 Q(s, a). s 在上面的探索者游戏中, 就是 o 所在的地点了. 而每一个地点探索者都能做出两个行为 left/right,\n",
    "# 这就是探索者的所有可行的 a 啦.\n",
    "\n",
    "# 如果在某个地点 s1, 探索者计算了他能有的两个行为, a1/a2=left/right, 计算结果是 Q(s1, a1) > Q(s1, a2),\n",
    "# 那么探索者就会选择 left 这个行为. 这就是 Q learning 的行为选择简单规则.\n",
    "\n",
    "# 当然我们还会细说更具体的规则. 在之后的教程中, 我们会更加详细得讲解 RL 中的各种方法, 下面的内容,\n",
    "# 大家大概看看就行, 有个大概的 RL 概念就行, 知道 RL 的一些关键步骤就行, 这节的算法不用仔细研究."
   ]
  },
  {
   "cell_type": "markdown",
   "metadata": {},
   "source": [
    "# 预设值\n",
    "\n",
    "# 这一次需要的模块和参数设置:"
   ]
  },
  {
   "cell_type": "code",
   "execution_count": 1,
   "metadata": {
    "collapsed": true
   },
   "outputs": [],
   "source": [
    "import numpy as np\n",
    "import pandas as pd\n",
    "import time\n",
    "\n",
    "N_STATES = 6   # 1维世界的宽度------\n",
    "ACTIONS = ['left', 'right']     # 探索者的可用动作\n",
    "EPSILON = 0.9   # 贪婪度 greedy\n",
    "ALPHA = 0.1     # 学习率\n",
    "GAMMA = 0.9    # 奖励递减值\n",
    "MAX_EPISODES = 13   # 最大回合数\n",
    "FRESH_TIME = 0.3    # 移动间隔时间"
   ]
  },
  {
   "cell_type": "code",
   "execution_count": null,
   "metadata": {
    "collapsed": true
   },
   "outputs": [],
   "source": [
    "# Q 表\n",
    "\n",
    "# 对于 tabular Q learning, 我们必须将所有的 Q values (行为值) 放在 q_table 中,\n",
    "# 更新 q_table 也是在更新他的行为准则. q_table 的 index 是所有对应的 state (探索者位置), columns 是对应的 action (探索者行为)."
   ]
  },
  {
   "cell_type": "code",
   "execution_count": 2,
   "metadata": {},
   "outputs": [
    {
     "data": {
      "text/plain": [
       "'\\n   left  right\\n0   0.0    0.0\\n1   0.0    0.0\\n2   0.0    0.0\\n3   0.0    0.0\\n4   0.0    0.0\\n5   0.0    0.0\\n'"
      ]
     },
     "execution_count": 2,
     "metadata": {},
     "output_type": "execute_result"
    }
   ],
   "source": [
    "def build_q_table(n_states, actions):\n",
    "    table = pd.DataFrame(\n",
    "        np.zeros((n_states, len(actions))),     # q_table 全 0 初始\n",
    "        columns=actions,    # columns 对应的是行为名称\n",
    "    )\n",
    "    return table\n",
    "\n",
    "# q_table:\n",
    "\"\"\"\n",
    "   left  right\n",
    "0   0.0    0.0\n",
    "1   0.0    0.0\n",
    "2   0.0    0.0\n",
    "3   0.0    0.0\n",
    "4   0.0    0.0\n",
    "5   0.0    0.0\n",
    "\"\"\""
   ]
  },
  {
   "cell_type": "code",
   "execution_count": null,
   "metadata": {
    "collapsed": true
   },
   "outputs": [],
   "source": [
    "# 定义动作\n",
    "\n",
    "# 接着定义探索者是如何挑选行为的. 这是我们引入 epsilon greedy 的概念. 因为在初始阶段, 随机的探索环境,\n",
    "# 往往比固定的行为模式要好, 所以这也是累积经验的阶段, 我们希望探索者不会那么贪婪(greedy).\n",
    "# 所以 EPSILON 就是用来控制贪婪程度的值. EPSILON 可以随着探索时间不断提升(越来越贪婪), 不过在这个例子中,\n",
    "# 我们就固定成 EPSILON = 0.9, 90% 的时间是选择最优策略, 10% 的时间来探索."
   ]
  },
  {
   "cell_type": "code",
   "execution_count": 3,
   "metadata": {
    "collapsed": true
   },
   "outputs": [],
   "source": [
    "# 在某个 state 地点, 选择行为\n",
    "def choose_action(state, q_table):\n",
    "    state_actions = q_table.iloc[state, :]  # 选出这个 state 的所有 action 值\n",
    "    if (np.random.uniform() > EPSILON) or (state_actions.all() == 0):  # 非贪婪 or 或者这个 state 还没有探索过\n",
    "        action_name = np.random.choice(ACTIONS)\n",
    "    else:\n",
    "        action_name = state_actions.argmax()    # 贪婪模式\n",
    "    return action_name"
   ]
  },
  {
   "cell_type": "code",
   "execution_count": 7,
   "metadata": {},
   "outputs": [],
   "source": [
    "# 做出行为后, 环境也要给我们的行为一个反馈, 反馈出下个 state (S_) 和 在上个 state (S) 做出 action (A) 所得到的 reward (R).\n",
    "# 这里定义的规则就是, 只有当 o 移动到了 T, 探索者才会得到唯一的一个奖励, 奖励值 R=1, 其他情况都没有奖励."
   ]
  },
  {
   "cell_type": "code",
   "execution_count": 8,
   "metadata": {
    "collapsed": true
   },
   "outputs": [],
   "source": [
    "def get_env_feedback(S, A):\n",
    "    # This is how agent will interact with the environment\n",
    "    if A == 'right':    # move right\n",
    "        if S == N_STATES - 2:   # terminate\n",
    "            S_ = 'terminal'\n",
    "            R = 1\n",
    "        else:\n",
    "            S_ = S + 1\n",
    "            R = 0\n",
    "    else:   # move left\n",
    "        R = 0\n",
    "        if S == 0:\n",
    "            S_ = S  # reach the wall\n",
    "        else:\n",
    "            S_ = S - 1\n",
    "    return S_, R"
   ]
  },
  {
   "cell_type": "code",
   "execution_count": null,
   "metadata": {
    "collapsed": true
   },
   "outputs": [],
   "source": [
    "# 环境更新\n",
    "\n",
    "# 接下来就是环境的更新了, 不用细看."
   ]
  },
  {
   "cell_type": "code",
   "execution_count": 9,
   "metadata": {
    "collapsed": true
   },
   "outputs": [],
   "source": [
    "def update_env(S, episode, step_counter):\n",
    "    # This is how environment be updated\n",
    "    env_list = ['-']*(N_STATES-1) + ['T']   # '---------T' our environment\n",
    "    if S == 'terminal':\n",
    "        interaction = 'Episode %s: total_steps = %s' % (episode+1, step_counter)\n",
    "        print('\\r{}'.format(interaction), end='')\n",
    "        time.sleep(2)\n",
    "        print('\\r                                ', end='')\n",
    "    else:\n",
    "        env_list[S] = 'o'\n",
    "        interaction = ''.join(env_list)\n",
    "        print('\\r{}'.format(interaction), end='')\n",
    "        time.sleep(FRESH_TIME)"
   ]
  },
  {
   "cell_type": "code",
   "execution_count": null,
   "metadata": {
    "collapsed": true
   },
   "outputs": [],
   "source": [
    "# 强化学习主循环\n",
    "\n",
    "# 最重要的地方就在这里. 你定义的 RL 方法都在这里体现. 在之后的教程中, 我们会更加详细得讲解 RL 中的各种方法,\n",
    "# 下面的内容, 大家大概看看就行, 这节内容不用仔细研究."
   ]
  },
  {
   "cell_type": "code",
   "execution_count": 10,
   "metadata": {
    "collapsed": true
   },
   "outputs": [],
   "source": [
    "def rl():\n",
    "    q_table = build_q_table(N_STATES, ACTIONS)  # 初始 q table\n",
    "    for episode in range(MAX_EPISODES):     # 回合\n",
    "        step_counter = 0\n",
    "        S = 0   # 回合初始位置\n",
    "        is_terminated = False   # 是否回合结束\n",
    "        update_env(S, episode, step_counter)    # 环境更新\n",
    "        while not is_terminated:\n",
    "\n",
    "            A = choose_action(S, q_table)   # 选行为\n",
    "            S_, R = get_env_feedback(S, A)  # 实施行为并得到环境的反馈\n",
    "            q_predict = q_table.ix[S, A]    # 估算的(状态-行为)值\n",
    "            if S_ != 'terminal':\n",
    "                q_target = R + GAMMA * q_table.iloc[S_, :].max()   #  实际的(状态-行为)值 (回合没结束)\n",
    "            else:\n",
    "                q_target = R     #  实际的(状态-行为)值 (回合结束)\n",
    "                is_terminated = True    # terminate this episode\n",
    "\n",
    "            q_table.ix[S, A] += ALPHA * (q_target - q_predict)  #  q_table 更新\n",
    "            S = S_  # 探索者移动到下一个 state\n",
    "\n",
    "            update_env(S, episode, step_counter+1)  # 环境更新\n",
    "\n",
    "            step_counter += 1\n",
    "    return q_table"
   ]
  },
  {
   "cell_type": "code",
   "execution_count": 11,
   "metadata": {
    "collapsed": true
   },
   "outputs": [],
   "source": [
    "# 写好所有的评估和更新准则后, 我们就能开始训练了, 把探索者丢到环境中, 让它自己去玩吧."
   ]
  },
  {
   "cell_type": "code",
   "execution_count": 13,
   "metadata": {},
   "outputs": [
    {
     "name": "stdout",
     "output_type": "stream",
     "text": [
      "\r",
      "o----T"
     ]
    },
    {
     "name": "stderr",
     "output_type": "stream",
     "text": [
      "D:\\Anaconda3\\lib\\site-packages\\ipykernel_launcher.py:12: DeprecationWarning: \n",
      ".ix is deprecated. Please use\n",
      ".loc for label based indexing or\n",
      ".iloc for positional indexing\n",
      "\n",
      "See the documentation here:\n",
      "http://pandas.pydata.org/pandas-docs/stable/indexing.html#deprecate_ix\n",
      "  if sys.path[0] == '':\n"
     ]
    },
    {
     "name": "stdout",
     "output_type": "stream",
     "text": [
      "                                \n",
      "Q-table:\n",
      "\n",
      "       left     right\n",
      "0  0.002047  0.010971\n",
      "1  0.001577  0.034190\n",
      "2  0.001563  0.121947\n",
      "3  0.004796  0.345873\n",
      "4  0.002268  0.745813\n",
      "5  0.000000  0.000000\n"
     ]
    }
   ],
   "source": [
    "if __name__ == \"__main__\":\n",
    "    q_table = rl()\n",
    "    print('\\r\\nQ-table:\\n')\n",
    "    print(q_table)"
   ]
  },
  {
   "cell_type": "code",
   "execution_count": 129,
   "metadata": {
    "scrolled": true
   },
   "outputs": [
    {
     "name": "stdout",
     "output_type": "stream",
     "text": [
      "\r",
      "o----T"
     ]
    },
    {
     "name": "stderr",
     "output_type": "stream",
     "text": [
      "D:\\Anaconda3\\lib\\site-packages\\ipykernel_launcher.py:71: DeprecationWarning: \n",
      ".ix is deprecated. Please use\n",
      ".loc for label based indexing or\n",
      ".iloc for positional indexing\n",
      "\n",
      "See the documentation here:\n",
      "http://pandas.pydata.org/pandas-docs/stable/indexing.html#deprecate_ix\n"
     ]
    },
    {
     "name": "stdout",
     "output_type": "stream",
     "text": [
      "                           \n",
      "   left  right\n",
      "0   0.0    0.0\n",
      "1   0.0    0.0\n",
      "2   0.0    0.0\n",
      "3   0.0    0.0\n",
      "4   0.0    0.1\n",
      "5   0.0    0.0\n",
      "--------------------------------------------------0-7\n",
      "                           \n",
      "   left  right\n",
      "0   0.0  0.000\n",
      "1   0.0  0.000\n",
      "2   0.0  0.000\n",
      "3   0.0  0.009\n",
      "4   0.0  0.190\n",
      "5   0.0  0.000\n",
      "--------------------------------------------------1-42\n",
      "                           \n",
      "       left    right\n",
      "0  0.000000  0.00000\n",
      "1  0.000000  0.00000\n",
      "2  0.000000  0.00081\n",
      "3  0.000000  0.03978\n",
      "4  0.002268  0.27100\n",
      "5  0.000000  0.00000\n",
      "--------------------------------------------------2-17\n",
      "                           \n",
      "       left     right\n",
      "0  0.000000  0.000000\n",
      "1  0.000000  0.000139\n",
      "2  0.000007  0.007458\n",
      "3  0.000388  0.078563\n",
      "4  0.007458  0.343900\n",
      "5  0.000000  0.000000\n",
      "--------------------------------------------------3-12\n",
      "                           \n",
      "       left     right\n",
      "0  0.000002  0.000034\n",
      "1  0.000003  0.000796\n",
      "2  0.000007  0.013783\n",
      "3  0.000388  0.101658\n",
      "4  0.007458  0.409510\n",
      "5  0.000000  0.000000\n",
      "--------------------------------------------------4-16\n",
      "                           \n",
      "       left     right\n",
      "0  0.000002  0.000102\n",
      "1  0.000003  0.001957\n",
      "2  0.000007  0.021554\n",
      "3  0.000388  0.128348\n",
      "4  0.007458  0.468559\n",
      "5  0.000000  0.000000\n",
      "--------------------------------------------------5-5\n",
      "                           \n",
      "       left     right\n",
      "0  0.000002  0.000268\n",
      "1  0.000003  0.003701\n",
      "2  0.000007  0.030950\n",
      "3  0.000388  0.157683\n",
      "4  0.007458  0.521703\n",
      "5  0.000000  0.000000\n",
      "--------------------------------------------------6-5\n",
      "                           \n",
      "       left     right\n",
      "0  0.000002  0.000574\n",
      "1  0.000003  0.006116\n",
      "2  0.000007  0.042046\n",
      "3  0.000388  0.188868\n",
      "4  0.007458  0.569533\n",
      "5  0.000000  0.000000\n",
      "--------------------------------------------------7-5\n",
      "                           \n",
      "       left     right\n",
      "0  0.000002  0.001067\n",
      "1  0.000003  0.009289\n",
      "2  0.000007  0.054840\n",
      "3  0.000388  0.221239\n",
      "4  0.007458  0.612580\n",
      "5  0.000000  0.000000\n",
      "--------------------------------------------------8-5\n",
      "                           \n",
      "       left     right\n",
      "0  0.000002  0.002453\n",
      "1  0.000165  0.013296\n",
      "2  0.000007  0.069268\n",
      "3  0.000388  0.254248\n",
      "4  0.007458  0.651322\n",
      "5  0.000000  0.000000\n",
      "--------------------------------------------------9-7\n",
      "                           \n",
      "       left     right\n",
      "0  0.000002  0.003404\n",
      "1  0.000165  0.022614\n",
      "2  0.001644  0.099583\n",
      "3  0.008019  0.287442\n",
      "4  0.007458  0.686189\n",
      "5  0.000000  0.000000\n",
      "--------------------------------------------------10-9\n",
      "                           \n",
      "       left     right\n",
      "0  0.000002  0.006624\n",
      "1  0.000607  0.029315\n",
      "2  0.001644  0.115494\n",
      "3  0.008019  0.320455\n",
      "4  0.007458  0.717570\n",
      "5  0.000000  0.000000\n",
      "--------------------------------------------------11-7\n",
      "                           \n",
      "       left     right\n",
      "0  0.000598  0.008600\n",
      "1  0.000607  0.036778\n",
      "2  0.001644  0.132786\n",
      "3  0.008019  0.352990\n",
      "4  0.007458  0.745813\n",
      "5  0.000000  0.000000\n",
      "--------------------------------------------------12-6\n",
      "\n",
      "Q-table:\n",
      "\n",
      "       left     right\n",
      "0  0.000598  0.008600\n",
      "1  0.000607  0.036778\n",
      "2  0.001644  0.132786\n",
      "3  0.008019  0.352990\n",
      "4  0.007458  0.745813\n",
      "5  0.000000  0.000000\n"
     ]
    }
   ],
   "source": [
    "import numpy as np\n",
    "import pandas as pd\n",
    "import time\n",
    "\n",
    "\n",
    "\n",
    "\n",
    "\n",
    "'''o----T'''  #o為子機 可用左或又操作，目標是到達T\n",
    "import numpy as np\n",
    "import pandas as pd\n",
    "import time\n",
    "n_states=6#關卡長度\n",
    "actions=['left','right']#操作(左右)\n",
    "epsilon=0.9\n",
    "alpha=0.1\n",
    "gamma=0.9\n",
    "max_episodes=13#玩13次\n",
    "fresh_time=0.3#每0.3秒做一次動作\n",
    "\n",
    "q_table=pd.DataFrame(np.zeros((n_states,len(actions))),columns=actions)\n",
    "for episode in range(max_episodes):#執行13次\n",
    "#     print(episode)\n",
    "    #初始狀態設定\n",
    "    step_counter=0#做幾次操作?\n",
    "    S=0  #一開始在關卡最左邊(用數字表達位置，如果到達終點，改為terminal字) >位置狀態\n",
    "    is_terminated=False#一開始不在終點(terminated)\n",
    "    \n",
    "    \n",
    "    #狀態更新\n",
    "    env_list=['-']*(n_states-1)+['T']#目前遊戲畫面(狀態)\n",
    "    \n",
    "    if S=='terminal': #如果到達終點了 這樣呈獻\n",
    "        interaction='episode $s: total_steps=%s'%(episode+1, step_counter)\n",
    "        print('\\r{}'.format(interaction), end='')\n",
    "        time.sleep(1)\n",
    "        print('\\r                          ',end=' ')\n",
    "    else: #如果沒到達終點，顯示位置\n",
    "        env_list[S]='o'\n",
    "        interaction=''.join(env_list)\n",
    "        print('\\r{}'.format(interaction), end='')#這樣的寫法會在同一個位置印出，覆蓋舊\n",
    "        time.sleep(fresh_time)\n",
    "        \n",
    "        \n",
    "        \n",
    "    while not is_terminated:#如果還沒到達終點 做以下事\n",
    "        \n",
    "        #確認動作\n",
    "        state_actions = q_table.iloc[S, :]#在S位置的q-table的値及型別\n",
    "        if(np.random.uniform()>epsilon) or (state_actions.all()==0): \n",
    "            A=np.random.choice(actions) # 1給定10%機率讓它隨機亂走 # 2如果這個位置(S)還沒探索過就隨機亂走\n",
    "        else:\n",
    "            A=state_actions.argmax()#否則走值比較大的那個值\n",
    "        \n",
    "        #執行動作後的新狀態產生\n",
    "        if A=='right':\n",
    "            if S== n_states-2: #如果你目前在終點的左邊一格 往右走>到達終點!!!\n",
    "                S_='terminal' #S_代表新狀態位置\n",
    "                R=1 #R代表獎勵!!\n",
    "            else:\n",
    "                S_=S+1\n",
    "                R=0\n",
    "        else:\n",
    "            R=0\n",
    "            if S==0:\n",
    "                S_=S #在起點不能在往左走，所以位置不變\n",
    "            else:\n",
    "                S_=S-1\n",
    "                \n",
    "#         做某位置狀態做行為估算 #尚不懂意義 (估算的 位置_行為 值)\n",
    "        q_predict=q_table.ix[S,A]#dataframe的ix為篩選用 這裡是篩出 原S位置(row) A動作(col)的値\n",
    "        \n",
    "        if S_ != 'terminal': #將獎勵+0.9*該位置較大的値\n",
    "            q_target=R+gamma*q_table.iloc[S_, :].max() #將獎勵+0.9*該新位置S_較大的値做為q-target #實際 位置_行為 值(回合未結數)\n",
    "        else:\n",
    "            q_target=R #實際位置_行為 值(回合結速)\n",
    "            is_terminated=True\n",
    "            \n",
    "        q_table.ix[S,A]+=alpha*(q_target-q_predict) #以0.1*(新位置_數值較大的動作 -舊位置_動作數值)做為新的 舊位置_動作數值\n",
    "        S=S_ #位置更新的成位置\n",
    "        \n",
    "        #狀態更新\n",
    "        env_list=['-']*(n_states-1)+['T']#新遊戲畫面(狀態)\n",
    "    \n",
    "        if S=='terminal': #如果到達終點了 這樣呈獻\n",
    "            interaction='episode %s: total_steps=%s'%(episode+1, step_counter+1)\n",
    "            print('\\r{}'.format(interaction), end='')\n",
    "            time.sleep(2)\n",
    "            print('\\r                          ',end=' ')\n",
    "        else: #如果沒到達終點，顯示位置\n",
    "            env_list[S]='o'\n",
    "            interaction=''.join(env_list)\n",
    "            print('\\r{}'.format(interaction), end='')#這樣的寫法會在同一個位置印出，覆蓋舊\n",
    "            time.sleep(fresh_time)\n",
    "        step_counter += 1\n",
    "    print('\\r')#重第一格開始print 不管前面有什麼\n",
    "    print(q_table)\n",
    "    print(\"-\"*50+str(episode)+'-'+ str(step_counter))\n",
    "\n",
    "print('\\r\\nQ-table:\\n')\n",
    "print(q_table)       \n",
    "        \n"
   ]
  }
 ],
 "metadata": {
  "kernelspec": {
   "display_name": "Python 3",
   "language": "python",
   "name": "python3"
  },
  "language_info": {
   "codemirror_mode": {
    "name": "ipython",
    "version": 3
   },
   "file_extension": ".py",
   "mimetype": "text/x-python",
   "name": "python",
   "nbconvert_exporter": "python",
   "pygments_lexer": "ipython3",
   "version": "3.6.1"
  }
 },
 "nbformat": 4,
 "nbformat_minor": 2
}

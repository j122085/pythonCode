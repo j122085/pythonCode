{
 "cells": [
  {
   "cell_type": "code",
   "execution_count": 1,
   "metadata": {},
   "outputs": [
    {
     "name": "stdout",
     "output_type": "stream",
     "text": [
      "<!DOCTYPE html>\n",
      "<html lang=\"en\">\n",
      "<head>\n",
      "    <meta charset=\"UTF-8\">\n",
      "    <title>消失的文字</title>\n",
      "</head>\n",
      "<body>\n",
      "    <div id=\"word\"></div>\n",
      "    <p>其實上面還有段文字<p>\n",
      "    <script type=\"text/javascript\" src=\"example.js\"></script>\n",
      "</body>\n",
      "</html>\n"
     ]
    }
   ],
   "source": [
    "import requests\n",
    "res = requests.get('http://pala.tw/js-example/')\n",
    "print(res.text)"
   ]
  },
  {
   "cell_type": "code",
   "execution_count": 7,
   "metadata": {},
   "outputs": [
    {
     "name": "stdout",
     "output_type": "stream",
     "text": [
      "<!DOCTYPE html><html lang=\"en\"><head>\n",
      "    <meta charset=\"UTF-8\">\n",
      "    <title>消失的文字</title>\n",
      "</head>\n",
      "<body>\n",
      "    <div id=\"word\">JavaScript渲染才看得到這行</div>\n",
      "    <p>其實上面還有段文字</p><p>\n",
      "    <script type=\"text/javascript\" src=\"example.js\"></script>\n",
      "\n",
      "</p></body></html>\n"
     ]
    }
   ],
   "source": [
    "from selenium import webdriver\n",
    "\n",
    "driver = webdriver.PhantomJS(executable_path=r'D:\\Driver\\phantomjs\\phantomjs-2.1.1-windows\\bin\\phantomjs.exe')  # PhantomJs\n",
    "driver.get('http://pala.tw/js-example/')  # 輸入範例網址，交給瀏覽器 \n",
    "pageSource = driver.page_source  # 取得網頁原始碼\n",
    "print(pageSource)"
   ]
  },
  {
   "cell_type": "code",
   "execution_count": null,
   "metadata": {
    "collapsed": true
   },
   "outputs": [],
   "source": []
  }
 ],
 "metadata": {
  "kernelspec": {
   "display_name": "Python 3",
   "language": "python",
   "name": "python3"
  },
  "language_info": {
   "codemirror_mode": {
    "name": "ipython",
    "version": 3
   },
   "file_extension": ".py",
   "mimetype": "text/x-python",
   "name": "python",
   "nbconvert_exporter": "python",
   "pygments_lexer": "ipython3",
   "version": "3.6.1"
  }
 },
 "nbformat": 4,
 "nbformat_minor": 2
}

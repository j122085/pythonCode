{
 "cells": [
  {
   "cell_type": "code",
   "execution_count": 2,
   "metadata": {},
   "outputs": [
    {
     "ename": "IndentationError",
     "evalue": "expected an indented block (<ipython-input-2-b7b1527494c6>, line 6)",
     "output_type": "error",
     "traceback": [
      "\u001b[1;36m  File \u001b[1;32m\"<ipython-input-2-b7b1527494c6>\"\u001b[1;36m, line \u001b[1;32m6\u001b[0m\n\u001b[1;33m    def choose_action(self, observation):\u001b[0m\n\u001b[1;37m      ^\u001b[0m\n\u001b[1;31mIndentationError\u001b[0m\u001b[1;31m:\u001b[0m expected an indented block\n"
     ]
    }
   ],
   "source": [
    "# class QLearningTable:\n",
    "#     # 初始化\n",
    "#     def __init__(self, actions, learning_rate=0.01, reward_decay=0.9, e_greedy=0.9):\n",
    "\n",
    "#     # 选行为\n",
    "#     def choose_action(self, observation):\n",
    "\n",
    "#     # 学习更新参数\n",
    "#     def learn(self, s, a, r, s_):\n",
    "\n",
    "#     # 检测 state 是否存在\n",
    "#     def check_state_exist(self, state):"
   ]
  },
  {
   "cell_type": "code",
   "execution_count": 3,
   "metadata": {
    "collapsed": true
   },
   "outputs": [],
   "source": [
    "import numpy as np\n",
    "import pandas as pd\n",
    "\n",
    "\n",
    "class QLearningTable:\n",
    "    def __init__(self, actions, learning_rate=0.01, reward_decay=0.9, e_greedy=0.9):\n",
    "        self.actions = actions  # a action list\n",
    "        self.lr = learning_rate # 学习率\n",
    "        self.gamma = reward_decay   # 奖励衰减\n",
    "        self.epsilon = e_greedy     # 贪婪度\n",
    "        self.q_table = pd.DataFrame(columns=self.actions)   # 初始 q_table\n",
    "    def choose_action(self, observation):\n",
    "        self.check_state_exist(observation) # 检测本 state 是否在 q_table 中存在(见后面标题内容)\n",
    "\n",
    "        # 选择 action\n",
    "        if np.random.uniform() < self.epsilon:  # 选择 Q value 最高的 action\n",
    "            state_action = self.q_table.ix[observation, :]\n",
    "\n",
    "            # 同一个 state, 可能会有多个相同的 Q action value, 所以我们乱序一下\n",
    "            state_action = state_action.reindex(np.random.permutation(state_action.index))\n",
    "            action = state_action.argmax()\n",
    "\n",
    "        else:   # 随机选择 action\n",
    "            action = np.random.choice(self.actions)\n",
    "        return action\n",
    "    \n",
    "    def learn(self, s, a, r, s_):\n",
    "        self.check_state_exist(s_)  # 检测 q_table 中是否存在 s_ (见后面标题内容)\n",
    "        q_predict = self.q_table.ix[s, a]\n",
    "        if s_ != 'terminal':\n",
    "            q_target = r + self.gamma * self.q_table.ix[s_, :].max()  # 下个 state 不是 终止符\n",
    "        else:\n",
    "            q_target = r  # 下个 state 是终止符\n",
    "        self.q_table.ix[s, a] += self.lr * (q_target - q_predict)  # 更新对应的 state-action 值\n",
    "    def check_state_exist(self, state):\n",
    "        if state not in self.q_table.index:\n",
    "            # append new state to q table\n",
    "            self.q_table = self.q_table.append(\n",
    "                pd.Series(\n",
    "                    [0]*len(self.actions),\n",
    "                    index=self.q_table.columns,\n",
    "                    name=state,\n",
    "                )\n",
    "            )"
   ]
  },
  {
   "cell_type": "code",
   "execution_count": null,
   "metadata": {
    "collapsed": true
   },
   "outputs": [],
   "source": []
  }
 ],
 "metadata": {
  "kernelspec": {
   "display_name": "Python 3",
   "language": "python",
   "name": "python3"
  },
  "language_info": {
   "codemirror_mode": {
    "name": "ipython",
    "version": 3
   },
   "file_extension": ".py",
   "mimetype": "text/x-python",
   "name": "python",
   "nbconvert_exporter": "python",
   "pygments_lexer": "ipython3",
   "version": "3.6.1"
  }
 },
 "nbformat": 4,
 "nbformat_minor": 2
}

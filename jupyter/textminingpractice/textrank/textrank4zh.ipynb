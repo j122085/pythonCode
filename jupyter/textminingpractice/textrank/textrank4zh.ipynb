{
 "cells": [
  {
   "cell_type": "code",
   "execution_count": 1,
   "metadata": {
    "scrolled": true
   },
   "outputs": [
    {
     "name": "stdout",
     "output_type": "stream",
     "text": [
      "Collecting textrank4zh\n",
      "  Downloading textrank4zh-0.3.zip\n",
      "Requirement already satisfied: jieba>=0.35 in d:\\anaconda3\\lib\\site-packages (from textrank4zh)\n",
      "Requirement already satisfied: numpy>=1.7.1 in d:\\anaconda3\\lib\\site-packages (from textrank4zh)\n",
      "Requirement already satisfied: networkx>=1.9.1 in d:\\anaconda3\\lib\\site-packages (from textrank4zh)\n",
      "Requirement already satisfied: decorator>=3.4.0 in d:\\anaconda3\\lib\\site-packages (from networkx>=1.9.1->textrank4zh)\n",
      "Building wheels for collected packages: textrank4zh\n",
      "  Running setup.py bdist_wheel for textrank4zh: started\n",
      "  Running setup.py bdist_wheel for textrank4zh: finished with status 'done'\n",
      "  Stored in directory: C:\\Users\\Java\\AppData\\Local\\pip\\Cache\\wheels\\f7\\47\\0d\\96d8eaa812b9a02bf1ce9beb69e9cb4f62527446783ba66fce\n",
      "Successfully built textrank4zh\n",
      "Installing collected packages: textrank4zh\n",
      "Successfully installed textrank4zh-0.3\n"
     ]
    }
   ],
   "source": [
    "!pip install textrank4zh --user\n"
   ]
  },
  {
   "cell_type": "code",
   "execution_count": 14,
   "metadata": {
    "collapsed": true
   },
   "outputs": [],
   "source": [
    "import json\n",
    "with open(r'D:\\Data\\JsonData\\TainanFood\\final_tainan.json') as f:\n",
    "    rawdata=json.load(f)\n"
   ]
  },
  {
   "cell_type": "code",
   "execution_count": 19,
   "metadata": {
    "collapsed": true
   },
   "outputs": [],
   "source": [
    "# text= rawdata[0]['comment'][0]['content']\n",
    "text=','.join([i['content'] for i in rawdata[0]['comment']][:5])\n",
    "# sampleTextlist=[i['content'] for i in rawdata[0]['comment']]"
   ]
  },
  {
   "cell_type": "code",
   "execution_count": 21,
   "metadata": {},
   "outputs": [
    {
     "name": "stdout",
     "output_type": "stream",
     "text": [
      "关键词：\n",
      "豆花 0.04515539803888165\n",
      "安平 0.024953645174647467\n",
      "來 0.01995171585081112\n",
      "吃 0.017540793473200825\n",
      "紅豆 0.013856598500784245\n",
      "珍珠 0.012674347041174504\n",
      "傳統 0.010844283669495549\n",
      "台南 0.010719848158299308\n",
      "店 0.009959764057321428\n",
      "鍋 0.008346428959888625\n",
      "記 0.007925397366017438\n",
      "名人 0.0069824399651749955\n",
      "香氣 0.006957393012424293\n",
      "來到 0.006919033080741063\n",
      "賣 0.006671166730347572\n",
      "入口 0.006482403567232796\n",
      "超 0.006434776656497554\n",
      "左豪 0.006314354659434409\n",
      "口感 0.0062529293490701625\n",
      "推薦 0.006251207171728777\n",
      "\n",
      "关键短语：\n",
      "來吃\n",
      "安平豆花\n",
      "記安平豆花\n",
      "豆花店\n",
      "豆花吃\n",
      "紅豆豆花\n",
      "珍珠豆花\n",
      "吃豆花\n",
      "\n",
      "摘要：\n",
      "19 0.050160466654801644 同記安平豆花(總店)(09:00~23:00)台南市安平區安北路433號(06-3915385‧3915057)http://www.tongji.com.tw/,來到台南就來試試這家老字號豆花店古早味啊非常有名的一家店裡面人也很多但我不懂哈哈我覺得吃起來跟其他店沒甚麼差別拉可能又是我舌頭頓吧老字號自然歷史悠久牆上掛滿了名人照可以家不同料配豆花我們點了紅豆小珍珠綠豆豆花很軟入口即化湯特別甜,這家是在地人推薦的安平豆花喔老字號豆花當然要來嘗試ㄧ下阿在這炎熱的天氣裡最需要來ㄧ碗甜品了阿這天是平日的暑假店裡還是很多人來朝聖呢牆上滿滿的照片都是很多名人和電視來專訪的喔看來這間真的很夯喔這是我吃得珍珠豆花珍珠超級無敵小顆的比外面飲料的小珍珠還小顆呢滿Q的但是吃進去就沒什麼口感有點可惜這個豆花吃起來很滑嫩豆味也滿香的整體吃起來還不錯,這間上過電視好幾次的周記安平豆花，老婆在台南唸書時也來吃過好幾次，反而是我第一次造訪，一來就充滿了人潮，果然是人氣豆花店，酷熱吃一點豆花好消暑\n",
      "29 0.03307670882843474 同記豆花吃起來有淡淡的黃豆味，兩種豆花我覺得紅豆的表現比珠珍更有香氣，，感覺檸檬豆花也不少人吃，來到安平可以吃豆花歇腳一下\n",
      "34 0.030136791130958136 嗯~來吃鍋燒麵+豆花\n",
      "6 0.029346018095919028 牆上擺的是這些年來到過安平豆花的名人，真的是不少\n",
      "30 0.029293077759310605 --------------------------------------店家名稱:同記安平豆花（安平總店）店家地址:臺南市安平區安北路433號店家電話:06-3915385營業時間:AM09:00～PM23:00--------------------------------------台南美食&旅遊相關連結:台南美食整理區南部旅遊整理區,ㄟ~~肚子餓的嘰哩咕嚕叫的我們..怎麼來到安平豆花咧..\n",
      "20 0.02896220427632696 -------------------------------------------------------★左豪★痞客邦(更多吃吃喝喝):http://permio1.pixnet.net/blog★左豪★FB粉絲團(一起來歡樂):www.facebook.com/permio1台南美食整理區、南部旅遊整理區-------------------------------------------------------有分內用區跟外帶區，豆花主要有：原味、紅豆、綠豆、珍珠、檸檬豆花\n"
     ]
    }
   ],
   "source": [
    "from __future__ import print_function\n",
    "\n",
    "import sys\n",
    "try:\n",
    "    reload(sys)\n",
    "    sys.setdefaultencoding('utf-8')\n",
    "except:\n",
    "    pass\n",
    "\n",
    "import codecs\n",
    "from textrank4zh import TextRank4Keyword, TextRank4Sentence\n",
    "\n",
    "\n",
    "\n",
    "# text = codecs.open('../test/doc/01.txt', 'r', 'utf-8').read()\n",
    "\n",
    "\n",
    "\n",
    "\n",
    "tr4w = TextRank4Keyword()\n",
    "\n",
    "tr4w.analyze(text=text, lower=True, window=2)  # py2中text必须是utf8编码的str或者unicode对象，py3中必须是utf8编码的bytes或者str对象\n",
    "\n",
    "print( '关键词：' )\n",
    "for item in tr4w.get_keywords(20, word_min_len=1):\n",
    "    print(item.word, item.weight)\n",
    "\n",
    "print()\n",
    "print( '关键短语：' )\n",
    "for phrase in tr4w.get_keyphrases(keywords_num=20, min_occur_num= 2):\n",
    "    print(phrase)\n",
    "\n",
    "tr4s = TextRank4Sentence()\n",
    "tr4s.analyze(text=text, lower=True, source = 'all_filters')\n",
    "\n",
    "print()\n",
    "print( '摘要：' )\n",
    "for item in tr4s.get_key_sentences(num=6):\n",
    "    print(item.index, item.weight, item.sentence)  # index是语句在文本中位置，weight是权重"
   ]
  },
  {
   "cell_type": "code",
   "execution_count": 26,
   "metadata": {},
   "outputs": [
    {
     "data": {
      "text/plain": [
       "'來到台南就來試試這家老字號豆花店古早味啊非常有名的一家店裡面人也很多但我不懂哈哈,我覺得吃起來跟其他店沒甚麼差別拉可能又是我舌頭頓吧,老字號自然歷史悠久牆上掛滿了名人照可以家不同料配豆花我們點了紅豆小珍珠綠豆豆花很軟入口即化湯特別甜'"
      ]
     },
     "execution_count": 26,
     "metadata": {},
     "output_type": "execute_result"
    }
   ],
   "source": [
    "'''來到台南就來試試這家老字號豆花店古早味啊非常有名的一家店裡面人也很多但我不懂哈哈,我覺得吃起來跟其他店沒甚麼差別拉可能又是我舌頭頓吧,老字號自然歷史悠久牆上掛滿了名人照可以家不同料配豆花我們點了紅豆小珍珠綠豆豆花很軟入口即化湯特別甜'''"
   ]
  },
  {
   "cell_type": "code",
   "execution_count": null,
   "metadata": {
    "collapsed": true
   },
   "outputs": [],
   "source": []
  }
 ],
 "metadata": {
  "kernelspec": {
   "display_name": "Python 3",
   "language": "python",
   "name": "python3"
  },
  "language_info": {
   "codemirror_mode": {
    "name": "ipython",
    "version": 3
   },
   "file_extension": ".py",
   "mimetype": "text/x-python",
   "name": "python",
   "nbconvert_exporter": "python",
   "pygments_lexer": "ipython3",
   "version": "3.6.1"
  }
 },
 "nbformat": 4,
 "nbformat_minor": 2
}

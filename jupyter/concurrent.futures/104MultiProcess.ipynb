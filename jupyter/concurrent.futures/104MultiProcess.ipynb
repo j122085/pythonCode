{
 "cells": [
  {
   "cell_type": "code",
   "execution_count": 1,
   "metadata": {
    "collapsed": true
   },
   "outputs": [],
   "source": [
    "import json\n",
    "import math\n",
    "import re\n",
    "import time\n",
    "import multiprocessing as mp\n",
    "\n",
    "from bs4 import BeautifulSoup\n",
    "import requests\n",
    "\n",
    "# 找出你要的頁面數(連結)\n",
    "def getJobInfo(href):\n",
    "    jobInfo = dict()\n",
    "    res = requests.get(href)\n",
    "    soup = BeautifulSoup(res.text, 'lxml')\n",
    "    # 將找到的資料放入dicrtionary\n",
    "    jobInfo[\"title\"] = soup.select_one(\"header > div > h1\").contents[0].replace(\"\\r\\n\", \"\").strip(\" \")\n",
    "    jobInfo[\"company\"] = soup.select_one(\"a.cn\").text\n",
    "    jobInfo[\"content\"] = soup.select_one(\"div.content > p\").text.replace(\"\\r\", \"\").replace(\" \", \"\")\n",
    "    jobInfo[\"tools\"] = soup.select(\"dd.tool\")[0].text\n",
    "    jobInfo[\"skills\"] = soup.select(\"dd.tool\")[1].text\n",
    "    jobInfo[\"post_date\"] = soup.select_one(\"time.update\").text.split(\"：\")[1]\n",
    "    jobInfo[\"other_condition\"] = soup.select(\"section.info\")[1].select(\"dl > dd \")[-1].text.replace(\"\\r\",\"\").replace(\" \",\"\")\n",
    "    res.close()\n",
    "    return jobInfo\n",
    "\n",
    "def saveData(data,fileName = \"data.json\"):\n",
    "    # 輸出成json檔\n",
    "    with open(fileName, 'w') as f:\n",
    "        json.dump(data, f)\n",
    "\n",
    "def readLink(dataLink,fileName = \"data.txt\"):\n",
    "    with open(fileName) as f:\n",
    "        links=f.read().split(\",\")\n",
    "        for link in links:\n",
    "            dataLink.append(link)\n",
    "    return dataLink\n"
   ]
  },
  {
   "cell_type": "code",
   "execution_count": 2,
   "metadata": {
    "collapsed": true
   },
   "outputs": [],
   "source": [
    "def doMP(data,dataLink):\n",
    "    link = dataLink.pop()\n",
    "    jobInfo = getJobInfo(link)\n",
    "    data.append(jobInfo)\n",
    "    "
   ]
  },
  {
   "cell_type": "code",
   "execution_count": 3,
   "metadata": {},
   "outputs": [
    {
     "ename": "FileNotFoundError",
     "evalue": "[Errno 2] No such file or directory: '104Link.txt'",
     "output_type": "error",
     "traceback": [
      "\u001b[1;31m---------------------------------------------------------------------------\u001b[0m",
      "\u001b[1;31mFileNotFoundError\u001b[0m                         Traceback (most recent call last)",
      "\u001b[1;32m<ipython-input-3-785d83284334>\u001b[0m in \u001b[0;36m<module>\u001b[1;34m()\u001b[0m\n\u001b[0;32m      1\u001b[0m \u001b[0mdataLink\u001b[0m \u001b[1;33m=\u001b[0m \u001b[1;33m[\u001b[0m\u001b[1;33m]\u001b[0m\u001b[1;33m\u001b[0m\u001b[0m\n\u001b[1;32m----> 2\u001b[1;33m \u001b[0mreadLink\u001b[0m\u001b[1;33m(\u001b[0m\u001b[0mdataLink\u001b[0m\u001b[1;33m,\u001b[0m\u001b[1;34m\"104Link.txt\"\u001b[0m\u001b[1;33m)\u001b[0m\u001b[1;33m\u001b[0m\u001b[0m\n\u001b[0m",
      "\u001b[1;32m<ipython-input-1-bfb2831a37bc>\u001b[0m in \u001b[0;36mreadLink\u001b[1;34m(dataLink, fileName)\u001b[0m\n\u001b[0;32m     30\u001b[0m \u001b[1;33m\u001b[0m\u001b[0m\n\u001b[0;32m     31\u001b[0m \u001b[1;32mdef\u001b[0m \u001b[0mreadLink\u001b[0m\u001b[1;33m(\u001b[0m\u001b[0mdataLink\u001b[0m\u001b[1;33m,\u001b[0m\u001b[0mfileName\u001b[0m \u001b[1;33m=\u001b[0m \u001b[1;34m\"data.txt\"\u001b[0m\u001b[1;33m)\u001b[0m\u001b[1;33m:\u001b[0m\u001b[1;33m\u001b[0m\u001b[0m\n\u001b[1;32m---> 32\u001b[1;33m     \u001b[1;32mwith\u001b[0m \u001b[0mopen\u001b[0m\u001b[1;33m(\u001b[0m\u001b[0mfileName\u001b[0m\u001b[1;33m)\u001b[0m \u001b[1;32mas\u001b[0m \u001b[0mf\u001b[0m\u001b[1;33m:\u001b[0m\u001b[1;33m\u001b[0m\u001b[0m\n\u001b[0m\u001b[0;32m     33\u001b[0m         \u001b[0mlinks\u001b[0m\u001b[1;33m=\u001b[0m\u001b[0mf\u001b[0m\u001b[1;33m.\u001b[0m\u001b[0mread\u001b[0m\u001b[1;33m(\u001b[0m\u001b[1;33m)\u001b[0m\u001b[1;33m.\u001b[0m\u001b[0msplit\u001b[0m\u001b[1;33m(\u001b[0m\u001b[1;34m\",\"\u001b[0m\u001b[1;33m)\u001b[0m\u001b[1;33m\u001b[0m\u001b[0m\n\u001b[0;32m     34\u001b[0m         \u001b[1;32mfor\u001b[0m \u001b[0mlink\u001b[0m \u001b[1;32min\u001b[0m \u001b[0mlinks\u001b[0m\u001b[1;33m:\u001b[0m\u001b[1;33m\u001b[0m\u001b[0m\n",
      "\u001b[1;31mFileNotFoundError\u001b[0m: [Errno 2] No such file or directory: '104Link.txt'"
     ]
    }
   ],
   "source": [
    "dataLink = []\n",
    "readLink(dataLink,\"104Link.txt\")"
   ]
  },
  {
   "cell_type": "code",
   "execution_count": 4,
   "metadata": {
    "collapsed": true
   },
   "outputs": [],
   "source": [
    "import concurrent.futures\n",
    "import urllib.request\n",
    "\n",
    "import requests"
   ]
  },
  {
   "cell_type": "code",
   "execution_count": 5,
   "metadata": {
    "collapsed": true
   },
   "outputs": [],
   "source": [
    "def getJobInfo(href):\n",
    "    jobInfo = dict()\n",
    "    res = requests.get(href)\n",
    "    soup = BeautifulSoup(res.text, 'lxml')\n",
    "    # 將找到的資料放入dicrtionary\n",
    "    jobInfo[\"title\"] = soup.select_one(\"header > div > h1\").contents[0].replace(\"\\r\\n\", \"\").strip(\" \")\n",
    "    jobInfo[\"company\"] = soup.select_one(\"a.cn\").text\n",
    "    jobInfo[\"content\"] = soup.select_one(\"div.content > p\").text.replace(\"\\r\", \"\").replace(\" \", \"\")\n",
    "    jobInfo[\"tools\"] = soup.select(\"dd.tool\")[0].text\n",
    "    jobInfo[\"skills\"] = soup.select(\"dd.tool\")[1].text\n",
    "    jobInfo[\"post_date\"] = soup.select_one(\"time.update\").text.split(\"：\")[1]\n",
    "    jobInfo[\"other_condition\"] = soup.select(\"section.info\")[1].select(\"dl > dd \")[-1].text.replace(\"\\r\",\"\").replace(\" \",\"\")\n",
    "    res.close()\n",
    "    return jobInfo"
   ]
  },
  {
   "cell_type": "code",
   "execution_count": 6,
   "metadata": {
    "collapsed": true
   },
   "outputs": [],
   "source": [
    "def load_url(url, timeout):\n",
    "    with urllib.request.urlopen(url, timeout=timeout) as conn:\n",
    "        return conn.read()"
   ]
  },
  {
   "cell_type": "code",
   "execution_count": 7,
   "metadata": {},
   "outputs": [
    {
     "ename": "NameError",
     "evalue": "name 'dataLink' is not defined",
     "output_type": "error",
     "traceback": [
      "\u001b[1;31m---------------------------------------------------------------------------\u001b[0m",
      "\u001b[1;31mNameError\u001b[0m                                 Traceback (most recent call last)",
      "\u001b[1;32m<ipython-input-7-96b269757168>\u001b[0m in \u001b[0;36m<module>\u001b[1;34m()\u001b[0m\n\u001b[0;32m      2\u001b[0m \u001b[0mstart\u001b[0m \u001b[1;33m=\u001b[0m \u001b[0mtime\u001b[0m\u001b[1;33m.\u001b[0m\u001b[0mtime\u001b[0m\u001b[1;33m(\u001b[0m\u001b[1;33m)\u001b[0m\u001b[1;33m\u001b[0m\u001b[0m\n\u001b[0;32m      3\u001b[0m \u001b[1;32mwith\u001b[0m \u001b[0mconcurrent\u001b[0m\u001b[1;33m.\u001b[0m\u001b[0mfutures\u001b[0m\u001b[1;33m.\u001b[0m\u001b[0mThreadPoolExecutor\u001b[0m\u001b[1;33m(\u001b[0m\u001b[0mmax_workers\u001b[0m\u001b[1;33m=\u001b[0m\u001b[1;36m5\u001b[0m\u001b[1;33m)\u001b[0m \u001b[1;32mas\u001b[0m \u001b[0mexecutor\u001b[0m\u001b[1;33m:\u001b[0m\u001b[1;33m\u001b[0m\u001b[0m\n\u001b[1;32m----> 4\u001b[1;33m     \u001b[0mjobInfo\u001b[0m \u001b[1;33m=\u001b[0m \u001b[1;33m[\u001b[0m\u001b[0mexecutor\u001b[0m\u001b[1;33m.\u001b[0m\u001b[0msubmit\u001b[0m\u001b[1;33m(\u001b[0m\u001b[0mgetJobInfo\u001b[0m\u001b[1;33m,\u001b[0m \u001b[0murl\u001b[0m\u001b[1;33m)\u001b[0m \u001b[1;32mfor\u001b[0m \u001b[0murl\u001b[0m \u001b[1;32min\u001b[0m \u001b[0mdataLink\u001b[0m\u001b[1;33m]\u001b[0m\u001b[1;33m\u001b[0m\u001b[0m\n\u001b[0m\u001b[0;32m      5\u001b[0m     \u001b[1;32mfor\u001b[0m \u001b[0mfuture\u001b[0m \u001b[1;32min\u001b[0m \u001b[0mconcurrent\u001b[0m\u001b[1;33m.\u001b[0m\u001b[0mfutures\u001b[0m\u001b[1;33m.\u001b[0m\u001b[0mas_completed\u001b[0m\u001b[1;33m(\u001b[0m\u001b[0mjobInfo\u001b[0m\u001b[1;33m)\u001b[0m\u001b[1;33m:\u001b[0m\u001b[1;33m\u001b[0m\u001b[0m\n\u001b[0;32m      6\u001b[0m         \u001b[1;32mtry\u001b[0m\u001b[1;33m:\u001b[0m\u001b[1;33m\u001b[0m\u001b[0m\n",
      "\u001b[1;31mNameError\u001b[0m: name 'dataLink' is not defined"
     ]
    }
   ],
   "source": [
    "dataList=[]\n",
    "start = time.time()\n",
    "with concurrent.futures.ThreadPoolExecutor(max_workers=5) as executor:\n",
    "    jobInfo = [executor.submit(getJobInfo, url) for url in dataLink]\n",
    "    for future in concurrent.futures.as_completed(jobInfo):\n",
    "        try:\n",
    "            data = future.result()\n",
    "            dataList.append(data)\n",
    "        except Exception as e:\n",
    "            print(e)\n",
    "            print(\"zzz\")\n",
    "            pass\n",
    "        \n",
    "end = time.time()  \n",
    "print(\"-----------------\")\n",
    "print(end-start)"
   ]
  },
  {
   "cell_type": "code",
   "execution_count": 19,
   "metadata": {
    "collapsed": true
   },
   "outputs": [],
   "source": [
    "saveData(dataList,\"104_1.json\")"
   ]
  },
  {
   "cell_type": "code",
   "execution_count": 20,
   "metadata": {},
   "outputs": [
    {
     "name": "stdout",
     "output_type": "stream",
     "text": [
      "b\n",
      "'NoneType' object has no attribute 'contents'\n",
      "b\n",
      "Failed to parse: www.104.com.twjavascript:void(0)\n",
      "b\n",
      "HTTPSConnectionPool(host='www.104.com.twhttp', port=443): Max retries exceeded with url: //tutor.104.com.tw/trans_job_to_case.cfm?frompage=joblist&jobno=9266337 (Caused by NewConnectionError('<requests.packages.urllib3.connection.VerifiedHTTPSConnection object at 0x0000000008AF2FD0>: Failed to establish a new connection: [Errno 11004] getaddrinfo failed',))\n",
      "b\n",
      "Invalid URL '': No schema supplied. Perhaps you meant http://?\n",
      "-----------------\n",
      "163.35174298286438\n"
     ]
    }
   ],
   "source": [
    "dataList=[]\n",
    "start = time.time()\n",
    "for link in dataLink:\n",
    "    try:\n",
    "        jobInfo = getJobInfo(link)\n",
    "        dataList.append(jobInfo)\n",
    "#         time.sleep(3)\n",
    "    except Exception as e:\n",
    "        print(\"b\")\n",
    "        print(e)\n",
    "        pass\n",
    "end = time.time() \n",
    "print(\"-----------------\")\n",
    "print(end-start)\n",
    "saveData(dataList,\"104_2.json\")"
   ]
  }
 ],
 "metadata": {
  "kernelspec": {
   "display_name": "Python 3",
   "language": "python",
   "name": "python3"
  },
  "language_info": {
   "codemirror_mode": {
    "name": "ipython",
    "version": 3
   },
   "file_extension": ".py",
   "mimetype": "text/x-python",
   "name": "python",
   "nbconvert_exporter": "python",
   "pygments_lexer": "ipython3",
   "version": "3.6.1"
  }
 },
 "nbformat": 4,
 "nbformat_minor": 2
}

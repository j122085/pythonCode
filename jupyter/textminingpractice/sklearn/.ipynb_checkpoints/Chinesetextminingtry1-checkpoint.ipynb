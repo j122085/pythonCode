{
 "cells": [
  {
   "cell_type": "code",
   "execution_count": 153,
   "metadata": {},
   "outputs": [],
   "source": [
    "import json \n",
    "\n",
    "with open(r\"D:\\PractiseText\\AnalyzeTable.json\") as f:\n",
    "    allcontent=json.load(f)\n",
    "with open(\"D:\\詞庫\\jieba_dict\\stopwords.txt\",encoding=\"utf-8\") as st:\n",
    "    stopwords=st.read()\n",
    "stopwords=stopwords.split(\"\\n\")\n",
    "import jieba\n",
    "for i in allcontent:\n",
    "    try:\n",
    "        del i['TF_IDF'][i['name']]\n",
    "        del i['TF_IDF']['']\n",
    "    except:\n",
    "        pass"
   ]
  },
  {
   "cell_type": "code",
   "execution_count": 154,
   "metadata": {},
   "outputs": [],
   "source": [
    "from collections import Counter\n",
    "for i in allcontent:   \n",
    "    i[\"tag\"]=\"、\".join([j[0] for j in Counter(i[\"TF_IDF\"]).most_common(5)])"
   ]
  },
  {
   "cell_type": "code",
   "execution_count": 155,
   "metadata": {},
   "outputs": [],
   "source": [
    "for i in allcontent:\n",
    "    if i[\"tag\"]==\"\":\n",
    "        i[\"tag\"]=i[\"style\"]"
   ]
  },
  {
   "cell_type": "code",
   "execution_count": 156,
   "metadata": {
    "scrolled": true
   },
   "outputs": [
    {
     "data": {
      "text/plain": [
       "[('其他小吃', 110),\n",
       " ('麵食點心', 84),\n",
       " ('飲料專賣店', 71),\n",
       " ('複合式', 62),\n",
       " ('咖啡專賣', 52),\n",
       " ('中式', 43),\n",
       " ('西點烘焙、麵包', 39),\n",
       " ('其他鍋類', 36),\n",
       " ('美式料理', 31),\n",
       " ('其它中式料理', 30),\n",
       " ('海鮮餐廳', 25),\n",
       " ('熱炒、快炒', 23),\n",
       " ('炭烤串燒', 23),\n",
       " ('綜合日式料理', 20),\n",
       " ('義式料理', 19),\n",
       " ('剉冰、豆花', 18),\n",
       " ('其他美食', 18),\n",
       " ('休閒零食', 15),\n",
       " ('其他日式料理', 14),\n",
       " ('西式早餐', 14)]"
      ]
     },
     "execution_count": 156,
     "metadata": {},
     "output_type": "execute_result"
    }
   ],
   "source": [
    "Counter(i[\"tag\"] for i in allcontent).most_common(20)"
   ]
  },
  {
   "cell_type": "code",
   "execution_count": 157,
   "metadata": {},
   "outputs": [],
   "source": [
    "from sklearn.feature_extraction.text import CountVectorizer\n",
    "from sklearn.feature_extraction.text import TfidfTransformer\n",
    "from pprint import pprint\n",
    "from sklearn.neighbors.nearest_centroid import NearestCentroid"
   ]
  },
  {
   "cell_type": "code",
   "execution_count": 159,
   "metadata": {},
   "outputs": [],
   "source": [
    "contentcuts=[i['contentcut'] for i in allcontent]\n",
    "tags=[i['tag'] for i in allcontent]"
   ]
  },
  {
   "cell_type": "code",
   "execution_count": 160,
   "metadata": {},
   "outputs": [],
   "source": [
    "count_vect=CountVectorizer()\n",
    "X_train_counts=count_vect.fit_transform(contentcuts)"
   ]
  },
  {
   "cell_type": "code",
   "execution_count": 161,
   "metadata": {
    "collapsed": true
   },
   "outputs": [],
   "source": [
    "tfidf_transformer=TfidfTransformer()\n",
    "X_train_tfidf = tfidf_transformer.fit_transform(X_train_counts)"
   ]
  },
  {
   "cell_type": "code",
   "execution_count": 162,
   "metadata": {
    "collapsed": true
   },
   "outputs": [],
   "source": [
    "from sklearn.neighbors.nearest_centroid import NearestCentroid\n",
    "clf = NearestCentroid().fit(X_train_tfidf,tags)"
   ]
  },
  {
   "cell_type": "code",
   "execution_count": 163,
   "metadata": {
    "scrolled": true
   },
   "outputs": [
    {
     "name": "stderr",
     "output_type": "stream",
     "text": [
      "Building prefix dict from D:\\pyCharm\\dict.txt.big ...\n",
      "Loading model from cache C:\\Users\\Java\\AppData\\Local\\Temp\\jieba.u7703f7d693910582bfd805122717dd59.cache\n",
      "Loading model cost 1.083 seconds.\n",
      "Prefix dict has been built succesfully.\n"
     ]
    }
   ],
   "source": [
    "def cutwords(textlist):\n",
    "    textcutlist=[]\n",
    "    import jieba\n",
    "    jieba.set_dictionary('D:/pyCharm/dict.txt.big')\n",
    "    stopwordset = set()\n",
    "    with open('D:/pyCharm/stopwords.txt', 'r', encoding='utf-8') as sw:\n",
    "        for line in sw:\n",
    "            stopwordset.add(line.strip('\\n'))\n",
    "    for text in textlist:\n",
    "        words = jieba.cut(text, cut_all=False)\n",
    "        cuttext = \"\"\n",
    "        for word in words:\n",
    "            if word not in stopwordset and '\\u4e00' <= word <= '\\u9fff':\n",
    "                cuttext += word + \" \"\n",
    "\n",
    "        textcutlist.append(cuttext)\n",
    "    return textcutlist\n",
    "\n",
    "docs_new=['今天 的飯 很好吃 那家 排骨 便當','''老五鍋貼牛肉麵在板橋當地享有高人氣，\n",
    "店內除了鍋貼和牛肉麵兩項明星餐點外，\n",
    "我覺得酢醬麵也很值得一試喔，麵條和拌料調配的剛剛好，\n",
    "是我近期吃到最最最滿意的麵食呢～\n",
    "要是這間店開在我家附近的話，我願意每周報到，酢醬麵實在太合我胃口啦''','''搭捷運的時候恰好瞄到這家小川拉麵，上網查了一下評價似乎還不差，不過中間好像有休\n",
    "\n",
    "業一陣子調整狀態，索性晚餐就去那裡試試。店內是採日本常見的食券制，比較不容易有\n",
    "\n",
    "收帳糾紛且衛生也好一點，整間店就拉麵店來說算是明亮乾淨的，第一印象還不算差。\n",
    "\n",
    "\n",
    "\n",
    "店內的拉麵種類其實蠻單一而好選，都是濃厚鹽味豚骨拉麵，只要考慮是叉燒多一點還是\n",
    "\n",
    "海苔多一點的加價品項，另外麵體、湯頭濃淡與油量都可以調整，其實這點在這幾年的拉\n",
    "\n",
    "麵店也都可以客製化了不算特別，這邊比較特別的是可以選叉燒肉，分別有梅花肉跟五花\n",
    "\n",
    "肉兩種，而想多嚐試的朋友也可以選綜合。\n",
    "\n",
    "\n",
    "\n",
    "小川較讓我驚豔的是湯頭，白濁又略帶火色的湯面下特別地濃稠又不帶有豬骨臭，尤其豚\n",
    "\n",
    "骨的厚度與甜度格外鮮明，跟在九州嚐到的幾間名店像久留米或一幸舎相比也不會差，是\n",
    "\n",
    "相當理想的湯頭，只是湯要趁熱喝才好入口，冷掉以後雖然不帶腥臭但甜度比較不顯且口\n",
    "\n",
    "感較黏，相較遜色不少。\n",
    "\n",
    "\n",
    "\n",
    "麵體是豚骨拉麵常見的細直麵，這種麵體泡一下就容易軟，吃得慢的朋友建議跟我一樣選\n",
    "\n",
    "硬一點，而在撈麵起來的時候很容易沾附表層的油脂，混著蔥花一起吃特別清甜，是標準\n",
    "\n",
    "的豚骨拉麵路線。\n",
    "\n",
    "\n",
    "\n",
    "叉燒其實有點微妙，雖然分了兩種類型卻有著極為相似的口感，主要是肉質實在太像燉肉\n",
    "\n",
    "的那種綿爛，普遍在台灣大家都喜歡扎實肉感的嚼口，因此這種太過軟爛的說實在不算討\n",
    "\n",
    "喜，不過五花肉倒是燉到像東坡肉那般，油脂甜份都有煨出來，撥散了配麵一起吃倒也不\n",
    "\n",
    "錯。\n",
    "\n",
    "\n",
    "\n",
    "煎餃其實也很不錯，不過不是九州那種一口餃子的類型，是台灣比較常見的大小，皮的咬\n",
    "\n",
    "勁很好底皮也金脆，餡料也清甜不差，價格以日式煎餃雖不算太貴，但建議點個3顆泡著\n",
    "\n",
    "湯吃一下過過癮就好了。整體說來推薦點最一般的拉麵就好叉燒不算是重點，湯頭與其他\n",
    "\n",
    "的搭配比較亮眼。''']\n",
    "docs_new=cutwords(docs_new) \n",
    "X_new_counts= count_vect.transform(docs_new)\n",
    "\n"
   ]
  },
  {
   "cell_type": "code",
   "execution_count": 164,
   "metadata": {
    "collapsed": true
   },
   "outputs": [],
   "source": [
    "x_new_tfidf=tfidf_transformer.transform(X_new_counts)"
   ]
  },
  {
   "cell_type": "code",
   "execution_count": 165,
   "metadata": {},
   "outputs": [],
   "source": [
    "predicted =clf.predict(x_new_tfidf)"
   ]
  },
  {
   "cell_type": "code",
   "execution_count": 166,
   "metadata": {},
   "outputs": [
    {
     "name": "stdout",
     "output_type": "stream",
     "text": [
      "'今天 飯 很好吃 家 排骨 便當 '=>排骨、便當、鱈魚、前路、不乾才\n",
      "'老五 鍋貼 牛肉 麵 板橋 當地 享有 高 人氣 店內 鍋貼 牛肉 麵 兩項 明星 餐點 外 覺得 酢 醬 麵 值得 一試 喔 麵 條和拌料 調配 剛剛 好 近期 吃 最最 最 滿意 麵 食 這間 店開 我家 附近 願意 每周 報到 酢 醬 麵 實在 太合 胃口 '=>\n",
      "'搭 捷運 瞄到 這家 小川 拉麵 上網 查 一下 評價 似乎 還不差 中間 好像 有休 業 一陣子 調整 狀態 索性 晚餐 試試 店內 是採 日本 常見 食券制 比較 容易 收帳 糾紛 衛生 一點 整間 店 拉麵 店 來說 算是 明亮 乾淨 第一印象 不算 差 店內 拉麵 種類 單一 好 選 濃厚 鹽味 豚 骨 拉麵 考慮 叉燒 多一點 海苔 多一點 加價 品項 麵 體 湯頭 濃淡 油量 調整 這點 幾年 拉 麵 店 客 製 化 不算 特別 比較 特別 選 叉燒 肉 分別 梅花 肉 五花 肉 兩種 想 嚐試 朋友 選 綜合 小川 驚豔 湯頭 白濁 略帶 火色 湯面 下 特別 濃稠 帶有 豬骨 尤其 豚 骨 厚度 甜度 鮮明 九州 嚐到 幾間 名店 久留 米 一幸 舎 相比 差 相當 理想 湯頭 湯要 喝 好 入口 冷掉 以後 不帶 腥臭 甜度 比較 顯且 口 感較 黏 相 遜色 麵 體是 豚 骨 拉麵 常見 細直 麵 這種 麵 體泡 一下 容易 軟 吃 慢 朋友 建議 選 硬 一點 撈 麵 容易 沾 附 表層 油脂 混著 蔥花 一起 吃 特別 清甜 標準 豚 骨 拉麵 路線 叉燒 有點 微妙 分 兩種 類型 卻 著極 相似 口感 主要 肉質 實在太 燉肉 那種 綿爛 普遍 台灣 喜歡 扎實 肉感 嚼 口 這種 太過 軟爛 說 實在 不算 討 喜 五花肉 倒 燉 東坡肉 那般 油脂 甜份 煨 撥散 配 麵 一起 吃 倒也不 錯 煎餃 不錯 九州 那種 一口 餃子 類型 台灣 比較 常見 大小 皮 咬 勁 好底 皮 金脆 餡料 清甜 差 價格 日式 煎餃 不算 太貴 建議 點個 顆泡 湯吃 一下 過過癮 好 整體 說來 推薦 點最 拉麵 好 叉燒 不算 重點 湯頭 搭配 比較 亮眼 '=>\n"
     ]
    }
   ],
   "source": [
    "for doc,category in zip(docs_new,predicted):\n",
    "    print(\"%r=>%s\"%(doc,category))"
   ]
  },
  {
   "cell_type": "code",
   "execution_count": 167,
   "metadata": {},
   "outputs": [
    {
     "data": {
      "text/plain": [
       "array(['排骨、便當、鱈魚、前路、不乾才', '', ''],\n",
       "      dtype='<U25')"
      ]
     },
     "execution_count": 167,
     "metadata": {},
     "output_type": "execute_result"
    }
   ],
   "source": [
    "predicted"
   ]
  },
  {
   "cell_type": "code",
   "execution_count": null,
   "metadata": {
    "collapsed": true
   },
   "outputs": [],
   "source": []
  },
  {
   "cell_type": "code",
   "execution_count": null,
   "metadata": {
    "collapsed": true
   },
   "outputs": [],
   "source": []
  },
  {
   "cell_type": "code",
   "execution_count": null,
   "metadata": {
    "collapsed": true
   },
   "outputs": [],
   "source": []
  },
  {
   "cell_type": "code",
   "execution_count": null,
   "metadata": {
    "collapsed": true
   },
   "outputs": [],
   "source": []
  },
  {
   "cell_type": "code",
   "execution_count": null,
   "metadata": {
    "collapsed": true
   },
   "outputs": [],
   "source": []
  },
  {
   "cell_type": "code",
   "execution_count": null,
   "metadata": {
    "collapsed": true
   },
   "outputs": [],
   "source": []
  },
  {
   "cell_type": "code",
   "execution_count": null,
   "metadata": {
    "collapsed": true
   },
   "outputs": [],
   "source": []
  },
  {
   "cell_type": "code",
   "execution_count": null,
   "metadata": {
    "collapsed": true
   },
   "outputs": [],
   "source": []
  },
  {
   "cell_type": "code",
   "execution_count": null,
   "metadata": {
    "collapsed": true
   },
   "outputs": [],
   "source": []
  },
  {
   "cell_type": "code",
   "execution_count": null,
   "metadata": {
    "collapsed": true
   },
   "outputs": [],
   "source": []
  }
 ],
 "metadata": {
  "kernelspec": {
   "display_name": "Python 3",
   "language": "python",
   "name": "python3"
  },
  "language_info": {
   "codemirror_mode": {
    "name": "ipython",
    "version": 3
   },
   "file_extension": ".py",
   "mimetype": "text/x-python",
   "name": "python",
   "nbconvert_exporter": "python",
   "pygments_lexer": "ipython3",
   "version": "3.6.1"
  }
 },
 "nbformat": 4,
 "nbformat_minor": 2
}

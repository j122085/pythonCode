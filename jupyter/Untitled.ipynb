{
 "cells": [
  {
   "cell_type": "code",
   "execution_count": 35,
   "metadata": {
    "collapsed": true
   },
   "outputs": [],
   "source": [
    "from PIL import Image"
   ]
  },
  {
   "cell_type": "code",
   "execution_count": 39,
   "metadata": {},
   "outputs": [
    {
     "ename": "TypeError",
     "evalue": "list indices must be integers or slices, not float",
     "output_type": "error",
     "traceback": [
      "\u001b[1;31m---------------------------------------------------------------------------\u001b[0m",
      "\u001b[1;31mTypeError\u001b[0m                                 Traceback (most recent call last)",
      "\u001b[1;32m<ipython-input-39-918764467903>\u001b[0m in \u001b[0;36m<module>\u001b[1;34m()\u001b[0m\n\u001b[0;32m     53\u001b[0m \u001b[1;33m\u001b[0m\u001b[0m\n\u001b[0;32m     54\u001b[0m     \u001b[0mimage_file_path\u001b[0m \u001b[1;33m=\u001b[0m \u001b[0msys\u001b[0m\u001b[1;33m.\u001b[0m\u001b[0margv\u001b[0m\u001b[1;33m[\u001b[0m\u001b[1;36m1\u001b[0m\u001b[1;33m]\u001b[0m\u001b[1;33m\u001b[0m\u001b[0m\n\u001b[1;32m---> 55\u001b[1;33m     \u001b[0mhandle_image_conversion\u001b[0m\u001b[1;33m(\u001b[0m\u001b[1;34mr'D:\\Data\\GraphData\\circle\\35331817_p0_master1200.jpg'\u001b[0m\u001b[1;33m)\u001b[0m\u001b[1;33m\u001b[0m\u001b[0m\n\u001b[0m",
      "\u001b[1;32m<ipython-input-39-918764467903>\u001b[0m in \u001b[0;36mhandle_image_conversion\u001b[1;34m(image_filepath)\u001b[0m\n\u001b[0;32m     46\u001b[0m         \u001b[1;32mpass\u001b[0m\u001b[1;33m\u001b[0m\u001b[0m\n\u001b[0;32m     47\u001b[0m \u001b[1;33m\u001b[0m\u001b[0m\n\u001b[1;32m---> 48\u001b[1;33m     \u001b[0mimage_ascii\u001b[0m \u001b[1;33m=\u001b[0m \u001b[0mconvert_image_to_ascii\u001b[0m\u001b[1;33m(\u001b[0m\u001b[0mimage\u001b[0m\u001b[1;33m)\u001b[0m\u001b[1;33m\u001b[0m\u001b[0m\n\u001b[0m\u001b[0;32m     49\u001b[0m     \u001b[0mprint\u001b[0m\u001b[1;33m(\u001b[0m\u001b[0mimage_ascii\u001b[0m\u001b[1;33m)\u001b[0m\u001b[1;33m\u001b[0m\u001b[0m\n\u001b[0;32m     50\u001b[0m \u001b[1;33m\u001b[0m\u001b[0m\n",
      "\u001b[1;32m<ipython-input-39-918764467903>\u001b[0m in \u001b[0;36mconvert_image_to_ascii\u001b[1;34m(image, new_width)\u001b[0m\n\u001b[0;32m     31\u001b[0m     \u001b[0mimage\u001b[0m \u001b[1;33m=\u001b[0m \u001b[0mconvert_to_grayscale\u001b[0m\u001b[1;33m(\u001b[0m\u001b[0mimage\u001b[0m\u001b[1;33m)\u001b[0m\u001b[1;33m\u001b[0m\u001b[0m\n\u001b[0;32m     32\u001b[0m \u001b[1;33m\u001b[0m\u001b[0m\n\u001b[1;32m---> 33\u001b[1;33m     \u001b[0mpixels_to_chars\u001b[0m \u001b[1;33m=\u001b[0m \u001b[0mmap_pixels_to_ascii_chars\u001b[0m\u001b[1;33m(\u001b[0m\u001b[0mimage\u001b[0m\u001b[1;33m)\u001b[0m\u001b[1;33m\u001b[0m\u001b[0m\n\u001b[0m\u001b[0;32m     34\u001b[0m     \u001b[0mlen_pixels_to_chars\u001b[0m \u001b[1;33m=\u001b[0m \u001b[0mlen\u001b[0m\u001b[1;33m(\u001b[0m\u001b[0mpixels_to_chars\u001b[0m\u001b[1;33m)\u001b[0m\u001b[1;33m\u001b[0m\u001b[0m\n\u001b[0;32m     35\u001b[0m \u001b[1;33m\u001b[0m\u001b[0m\n",
      "\u001b[1;32m<ipython-input-39-918764467903>\u001b[0m in \u001b[0;36mmap_pixels_to_ascii_chars\u001b[1;34m(image, range_width)\u001b[0m\n\u001b[0;32m     23\u001b[0m     \u001b[0mpixels_in_image\u001b[0m \u001b[1;33m=\u001b[0m \u001b[0mlist\u001b[0m\u001b[1;33m(\u001b[0m\u001b[0mimage\u001b[0m\u001b[1;33m.\u001b[0m\u001b[0mgetdata\u001b[0m\u001b[1;33m(\u001b[0m\u001b[1;33m)\u001b[0m\u001b[1;33m)\u001b[0m\u001b[1;33m\u001b[0m\u001b[0m\n\u001b[0;32m     24\u001b[0m     pixels_to_chars = [ASCII_CHARS[pixel_value/range_width] for pixel_value in\n\u001b[1;32m---> 25\u001b[1;33m             pixels_in_image]\n\u001b[0m\u001b[0;32m     26\u001b[0m \u001b[1;33m\u001b[0m\u001b[0m\n\u001b[0;32m     27\u001b[0m     \u001b[1;32mreturn\u001b[0m \u001b[1;34m\"\"\u001b[0m\u001b[1;33m.\u001b[0m\u001b[0mjoin\u001b[0m\u001b[1;33m(\u001b[0m\u001b[0mpixels_to_chars\u001b[0m\u001b[1;33m)\u001b[0m\u001b[1;33m\u001b[0m\u001b[0m\n",
      "\u001b[1;32m<ipython-input-39-918764467903>\u001b[0m in \u001b[0;36m<listcomp>\u001b[1;34m(.0)\u001b[0m\n\u001b[0;32m     22\u001b[0m \u001b[1;33m\u001b[0m\u001b[0m\n\u001b[0;32m     23\u001b[0m     \u001b[0mpixels_in_image\u001b[0m \u001b[1;33m=\u001b[0m \u001b[0mlist\u001b[0m\u001b[1;33m(\u001b[0m\u001b[0mimage\u001b[0m\u001b[1;33m.\u001b[0m\u001b[0mgetdata\u001b[0m\u001b[1;33m(\u001b[0m\u001b[1;33m)\u001b[0m\u001b[1;33m)\u001b[0m\u001b[1;33m\u001b[0m\u001b[0m\n\u001b[1;32m---> 24\u001b[1;33m     pixels_to_chars = [ASCII_CHARS[pixel_value/range_width] for pixel_value in\n\u001b[0m\u001b[0;32m     25\u001b[0m             pixels_in_image]\n\u001b[0;32m     26\u001b[0m \u001b[1;33m\u001b[0m\u001b[0m\n",
      "\u001b[1;31mTypeError\u001b[0m: list indices must be integers or slices, not float"
     ]
    }
   ],
   "source": [
    "ASCII_CHARS = [ '#', '?', '%', '.', 'S', '+', '.', '*', ':', ',', '@']\n",
    "\n",
    "def scale_image(image, new_width=100):\n",
    "    \"\"\"Resizes an image preserving the aspect ratio.\n",
    "    \"\"\"\n",
    "    (original_width, original_height) = image.size\n",
    "    aspect_ratio = original_height/float(original_width)\n",
    "    new_height = int(aspect_ratio * new_width)\n",
    "\n",
    "    new_image = image.resize((new_width, new_height))\n",
    "    return new_image\n",
    "\n",
    "def convert_to_grayscale(image):\n",
    "    return image.convert('L')\n",
    "\n",
    "def map_pixels_to_ascii_chars(image, range_width=25):\n",
    "    \"\"\"Maps each pixel to an ascii char based on the range\n",
    "    in which it lies.\n",
    "\n",
    "    0-255 is divided into 11 ranges of 25 pixels each.\n",
    "    \"\"\"\n",
    "\n",
    "    pixels_in_image = list(image.getdata())\n",
    "    pixels_to_chars = [ASCII_CHARS[pixel_value/range_width] for pixel_value in\n",
    "            pixels_in_image]\n",
    "\n",
    "    return \"\".join(pixels_to_chars)\n",
    "\n",
    "def convert_image_to_ascii(image, new_width=100):\n",
    "    image = scale_image(image)\n",
    "    image = convert_to_grayscale(image)\n",
    "\n",
    "    pixels_to_chars = map_pixels_to_ascii_chars(image)\n",
    "    len_pixels_to_chars = len(pixels_to_chars)\n",
    "\n",
    "    image_ascii = [pixels_to_chars[index: index + new_width] for index in\n",
    "            xrange(0, len_pixels_to_chars, new_width)]\n",
    "\n",
    "    return \"\\n\".join(image_ascii)\n",
    "\n",
    "def handle_image_conversion(image_filepath):\n",
    "    image = None\n",
    "    try:\n",
    "        image = Image.open(image_filepath)\n",
    "    except:\n",
    "        pass\n",
    "\n",
    "    image_ascii = convert_image_to_ascii(image)\n",
    "    print(image_ascii)\n",
    "\n",
    "if __name__=='__main__':\n",
    "    import sys\n",
    "\n",
    "    image_file_path = sys.argv[1]\n",
    "    handle_image_conversion(r'D:\\Data\\GraphData\\circle\\35331817_p0_master1200.jpg')"
   ]
  },
  {
   "cell_type": "code",
   "execution_count": null,
   "metadata": {
    "collapsed": true
   },
   "outputs": [],
   "source": []
  }
 ],
 "metadata": {
  "kernelspec": {
   "display_name": "Python 3",
   "language": "python",
   "name": "python3"
  },
  "language_info": {
   "codemirror_mode": {
    "name": "ipython",
    "version": 3
   },
   "file_extension": ".py",
   "mimetype": "text/x-python",
   "name": "python",
   "nbconvert_exporter": "python",
   "pygments_lexer": "ipython3",
   "version": "3.6.1"
  }
 },
 "nbformat": 4,
 "nbformat_minor": 2
}

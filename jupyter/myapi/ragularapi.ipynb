{
 "cells": [
  {
   "cell_type": "code",
   "execution_count": 1,
   "metadata": {
    "collapsed": true
   },
   "outputs": [],
   "source": [
    "# #you should install re and jieba\n",
    "# class judgeChinesr():\n",
    "#     # 判断一个unicode是否是汉字\n",
    "#     def is_chinese(uchar):         \n",
    "#         if '\\u4e00' <= uchar<='\\u9fff':\n",
    "#             return True\n",
    "#         else:\n",
    "#             return False\n",
    "\n",
    "#     # 判断一个unicode是否是数字\n",
    "#     def is_number(uchar):\n",
    "#         if '\\u0030' <=uchar and uchar<='\\u0039':\n",
    "#             return True\n",
    "#         else:\n",
    "#             return False\n",
    "\n",
    "#     # 判断一个unicode是否是英文字母\n",
    "#     def is_alphabet(uchar):         \n",
    "#         if ('\\u0041' <= uchar<='\\u005a') or ('\\u0061' <= uchar<='\\u007a'):\n",
    "#             return True\n",
    "#         else:\n",
    "#             return False\n",
    "\n",
    "#     # 判断是否非汉字，数字和英文字符\n",
    "#     def is_other(uchar):\n",
    "#         if not (is_chinese(uchar) or is_number(uchar) or is_alphabet(uchar)):\n",
    "#             return True\n",
    "#         else:\n",
    "#             return False\n",
    "class getTool():\n",
    "    def getaddress(text):\n",
    "        import re\n",
    "        return re.findall(\"..[市|縣]..?.?.?[區|市]..?.?.?[街|巷|路|地段][0-9]+[號|巷|弄]\",text)[0]\n",
    "    def getTele(text):\n",
    "        import re\n",
    "        return re.findall(\"(06[0-9]{7}|09[0-9]{8})\",text)[0] #只是用台南市或手機\n",
    "    def getDate(text):\n",
    "        import re\n",
    "        return re.findall(\"[0-2]?[09]?[0-9][0-9][-\\/.][01]?[0-9][-\\/.][0-3]?[0-9]\",text)[0]\n",
    "    def showRegular(StringList):\n",
    "        print(\"You can try it by https://regex101.com/\")\n",
    "        print(\"1.每一項都有的文字，可直接使用其文字\")\n",
    "        print(\"2.*，代表隨機字0-多\")\n",
    "        print(\"3.+，代表左邊的字1-多\")\n",
    "        print(\"4.?，代表左邊有或沒有\")\n",
    "        print(\"5.[a|b]，代表a或b其中1個\")\n",
    "        print(\"6.我的名字是(天才|笨蛋)OK?，表只抓()內文字 笨蛋或天才\")\n",
    "        print(\"import re>>>>re.findall(regular,str)\")\n",
    "        print(\"-------------------以下regular參考--------------------\")\n",
    "        import re\n",
    "        for AnyString in StringList:\n",
    "            listword=[]\n",
    "            for i in AnyString:\n",
    "                if '\\u4e00' <= i <='\\u9fff':\n",
    "                    listword.append(\".\")\n",
    "                elif '\\u0030' <=i and i<='\\u0039':\n",
    "                    listword.append(\"[0-9]\")\n",
    "                elif ('\\u0041' <= i<='\\u005a'):\n",
    "                    listword.append(\"[A-Z]\")\n",
    "                elif ('\\u0061' <= i<='\\u007a'):\n",
    "                    listword.append(\"[a-z]\")\n",
    "                else:\n",
    "                    listword.append(\"\\\\\"+str(i))\n",
    "            goodlist=[]\n",
    "            goodplus=[]\n",
    "            count=0\n",
    "            n=1\n",
    "            for i in range(0,len(listword)):\n",
    "            #     print(i)\n",
    "                if i >0:\n",
    "                    if listword[i]==listword[i-1]:\n",
    "                        n+=1\n",
    "                        if i==len(listword)-1:\n",
    "                            if n>2:\n",
    "                                goodlist.append(\"{\"+str(n)+\"}\")\n",
    "                                goodplus.append(\"+\")\n",
    "                            else:\n",
    "                                goodlist.append(\"{\"+str(n)+\"}\")\n",
    "                                goodplus.append(\"{\"+str(n)+\"}\")\n",
    "                    else:\n",
    "                        if n > 1:\n",
    "                            goodlist.append(\"{\"+str(n)+\"}\")\n",
    "                        goodlist.append(listword[i])\n",
    "                        if n > 2:\n",
    "                            goodplus.append(\"+\")\n",
    "                        elif n > 1:\n",
    "                            goodplus.append(\"{\"+str(n)+\"}\")\n",
    "                        goodplus.append(listword[i])\n",
    "                        n=1\n",
    "\n",
    "                else:\n",
    "                    goodlist.append(listword[i])\n",
    "                    goodplus.append(listword[i])\n",
    "            print(AnyString+\": \"+\"\".join(goodlist))\n",
    "            print(AnyString+\": \"+\"\".join(goodplus))\n",
    "            print(\"--\"*20)\n",
    "\n",
    "\n"
   ]
  },
  {
   "cell_type": "code",
   "execution_count": 2,
   "metadata": {
    "scrolled": true
   },
   "outputs": [
    {
     "name": "stdout",
     "output_type": "stream",
     "text": [
      "You can try it by https://regex101.com/\n",
      "1.每一項都有的文字，可直接使用其文字\n",
      "2.*，代表隨機字0-多\n",
      "3.+，代表左邊的字1-多\n",
      "4.?，代表左邊有或沒有\n",
      "5.[a|b]，代表a或b其中1個\n",
      "6.我的名字是(天才|笨蛋)OK?，表只抓()內文字 笨蛋或天才\n",
      "import re>>>>re.findall(regular,str)\n",
      "-------------------以下regular參考--------------------\n",
      "桃園市中壢區永泰街110號: .{9}[0-9]{3}.\n",
      "桃園市中壢區永泰街110號: .+[0-9]+.\n",
      "----------------------------------------\n",
      "03-4522697: [0-9]{2}\\-[0-9]{7}\n",
      "03-4522697: [0-9]{2}\\-[0-9]+\n",
      "----------------------------------------\n",
      "0953564878: [0-9]{10}\n",
      "0953564878: [0-9]+\n",
      "----------------------------------------\n",
      "a4fhgT@gmail.com: [a-z][0-9][a-z]{3}[A-Z]\\@[a-z]{5}\\.[a-z]{3}\n",
      "a4fhgT@gmail.com: [a-z][0-9][a-z]+[A-Z]\\@[a-z]+\\.[a-z]+\n",
      "----------------------------------------\n"
     ]
    }
   ],
   "source": [
    "import re\n",
    "text=[\"桃園市中壢區永泰街110號\",\"03-4522697\",\"0953564878\",\"a4fhgT@gmail.com\"]\n",
    "getTool.showRegular(text)"
   ]
  },
  {
   "cell_type": "code",
   "execution_count": 3,
   "metadata": {
    "collapsed": true
   },
   "outputs": [],
   "source": [
    "import jieba"
   ]
  },
  {
   "cell_type": "code",
   "execution_count": 4,
   "metadata": {},
   "outputs": [
    {
     "ename": "FileNotFoundError",
     "evalue": "[Errno 2] No such file or directory: 'D:\\\\pyCharm\\\\Aipingjsonfinish/finishAipinwanFood台南.json'",
     "output_type": "error",
     "traceback": [
      "\u001b[1;31m---------------------------------------------------------------------------\u001b[0m",
      "\u001b[1;31mFileNotFoundError\u001b[0m                         Traceback (most recent call last)",
      "\u001b[1;32m<ipython-input-4-fec81924f48f>\u001b[0m in \u001b[0;36m<module>\u001b[1;34m()\u001b[0m\n\u001b[0;32m      5\u001b[0m \u001b[1;32mfrom\u001b[0m \u001b[0mcollections\u001b[0m \u001b[1;32mimport\u001b[0m \u001b[0mCounter\u001b[0m\u001b[1;33m\u001b[0m\u001b[0m\n\u001b[0;32m      6\u001b[0m \u001b[1;31m# for filename in os.listdir(\"D:/pyCharm/Aipingjsonfinish/\"):\u001b[0m\u001b[1;33m\u001b[0m\u001b[1;33m\u001b[0m\u001b[0m\n\u001b[1;32m----> 7\u001b[1;33m \u001b[1;32mwith\u001b[0m \u001b[0mopen\u001b[0m\u001b[1;33m(\u001b[0m\u001b[1;34m\"D:\\pyCharm\\Aipingjsonfinish/finishAipinwanFood台南.json\"\u001b[0m\u001b[1;33m)\u001b[0m \u001b[1;32mas\u001b[0m \u001b[0mjf\u001b[0m\u001b[1;33m:\u001b[0m\u001b[1;33m\u001b[0m\u001b[0m\n\u001b[0m\u001b[0;32m      8\u001b[0m     \u001b[0mjsonContent\u001b[0m\u001b[1;33m=\u001b[0m\u001b[0mjson\u001b[0m\u001b[1;33m.\u001b[0m\u001b[0mload\u001b[0m\u001b[1;33m(\u001b[0m\u001b[0mjf\u001b[0m\u001b[1;33m)\u001b[0m\u001b[1;33m\u001b[0m\u001b[0m\n\u001b[0;32m      9\u001b[0m     \u001b[0mprint\u001b[0m\u001b[1;33m(\u001b[0m\u001b[0mlen\u001b[0m\u001b[1;33m(\u001b[0m\u001b[0mjsonContent\u001b[0m\u001b[1;33m)\u001b[0m\u001b[1;33m)\u001b[0m\u001b[1;33m\u001b[0m\u001b[0m\n",
      "\u001b[1;31mFileNotFoundError\u001b[0m: [Errno 2] No such file or directory: 'D:\\\\pyCharm\\\\Aipingjsonfinish/finishAipinwanFood台南.json'"
     ]
    }
   ],
   "source": [
    "import pprint\n",
    "import os\n",
    "import json\n",
    "import jieba\n",
    "from collections import Counter\n",
    "# for filename in os.listdir(\"D:/pyCharm/Aipingjsonfinish/\"):\n",
    "with open(\"D:\\pyCharm\\Aipingjsonfinish/finishAipinwanFood台南.json\") as jf:\n",
    "    jsonContent=json.load(jf)\n",
    "    print(len(jsonContent))\n",
    "    a=jsonContent[5]['comment'][0]['content']\n",
    "#     pprint.pprint(Counter([len(i[\"comment\"]) for i in jsonContent]))"
   ]
  },
  {
   "cell_type": "code",
   "execution_count": 5,
   "metadata": {},
   "outputs": [
    {
     "ename": "AttributeError",
     "evalue": "type object 'getTool' has no attribute 'getChineseWords'",
     "output_type": "error",
     "traceback": [
      "\u001b[1;31m---------------------------------------------------------------------------\u001b[0m",
      "\u001b[1;31mAttributeError\u001b[0m                            Traceback (most recent call last)",
      "\u001b[1;32m<ipython-input-5-292ba4ac29ff>\u001b[0m in \u001b[0;36m<module>\u001b[1;34m()\u001b[0m\n\u001b[1;32m----> 1\u001b[1;33m \u001b[0mgetTool\u001b[0m\u001b[1;33m.\u001b[0m\u001b[0mgetChineseWords\u001b[0m\u001b[1;33m(\u001b[0m\u001b[0ma\u001b[0m\u001b[1;33m)\u001b[0m\u001b[1;33m\u001b[0m\u001b[0m\n\u001b[0m",
      "\u001b[1;31mAttributeError\u001b[0m: type object 'getTool' has no attribute 'getChineseWords'"
     ]
    }
   ],
   "source": [
    "getTool.getChineseWords(a)"
   ]
  },
  {
   "cell_type": "code",
   "execution_count": 6,
   "metadata": {},
   "outputs": [
    {
     "ename": "NameError",
     "evalue": "name 'a' is not defined",
     "output_type": "error",
     "traceback": [
      "\u001b[1;31m---------------------------------------------------------------------------\u001b[0m",
      "\u001b[1;31mNameError\u001b[0m                                 Traceback (most recent call last)",
      "\u001b[1;32m<ipython-input-6-26f96bc89c5f>\u001b[0m in \u001b[0;36m<module>\u001b[1;34m()\u001b[0m\n\u001b[0;32m      2\u001b[0m \u001b[1;31m# jieba.add_word('抹茶')\u001b[0m\u001b[1;33m\u001b[0m\u001b[1;33m\u001b[0m\u001b[0m\n\u001b[0;32m      3\u001b[0m \u001b[1;31m# jieba.suggest_freq('台中', True)\u001b[0m\u001b[1;33m\u001b[0m\u001b[1;33m\u001b[0m\u001b[0m\n\u001b[1;32m----> 4\u001b[1;33m \u001b[0mco\u001b[0m\u001b[1;33m=\u001b[0m\u001b[0mCounter\u001b[0m\u001b[1;33m(\u001b[0m\u001b[0mjieba\u001b[0m\u001b[1;33m.\u001b[0m\u001b[0mcut\u001b[0m\u001b[1;33m(\u001b[0m\u001b[0ma\u001b[0m\u001b[1;33m)\u001b[0m\u001b[1;33m)\u001b[0m\u001b[1;33m\u001b[0m\u001b[0m\n\u001b[0m",
      "\u001b[1;31mNameError\u001b[0m: name 'a' is not defined"
     ]
    }
   ],
   "source": [
    "from collections import Counter\n",
    "# jieba.add_word('抹茶')\n",
    "# jieba.suggest_freq('台中', True)\n",
    "co=Counter(jieba.cut(a))\n"
   ]
  },
  {
   "cell_type": "code",
   "execution_count": 7,
   "metadata": {},
   "outputs": [
    {
     "ename": "NameError",
     "evalue": "name 'co' is not defined",
     "output_type": "error",
     "traceback": [
      "\u001b[1;31m---------------------------------------------------------------------------\u001b[0m",
      "\u001b[1;31mNameError\u001b[0m                                 Traceback (most recent call last)",
      "\u001b[1;32m<ipython-input-7-477b20d2952a>\u001b[0m in \u001b[0;36m<module>\u001b[1;34m()\u001b[0m\n\u001b[1;32m----> 1\u001b[1;33m \u001b[0mco\u001b[0m\u001b[1;33m.\u001b[0m\u001b[0mmost_common\u001b[0m\u001b[1;33m(\u001b[0m\u001b[1;36m50\u001b[0m\u001b[1;33m)\u001b[0m\u001b[1;33m\u001b[0m\u001b[0m\n\u001b[0m\u001b[0;32m      2\u001b[0m \u001b[1;33m\u001b[0m\u001b[0m\n\u001b[0;32m      3\u001b[0m \u001b[1;32mwith\u001b[0m \u001b[0mopen\u001b[0m\u001b[1;33m(\u001b[0m\u001b[1;34m\"D:\\pyCharm\\stopwords-zh.txt\"\u001b[0m\u001b[1;33m,\u001b[0m\u001b[0mencoding\u001b[0m\u001b[1;33m=\u001b[0m\u001b[1;34m\"utf-8\"\u001b[0m\u001b[1;33m)\u001b[0m \u001b[1;32mas\u001b[0m \u001b[0mf\u001b[0m\u001b[1;33m:\u001b[0m\u001b[1;33m\u001b[0m\u001b[0m\n\u001b[0;32m      4\u001b[0m     \u001b[0ma\u001b[0m\u001b[1;33m=\u001b[0m\u001b[0mf\u001b[0m\u001b[1;33m.\u001b[0m\u001b[0mread\u001b[0m\u001b[1;33m(\u001b[0m\u001b[1;33m)\u001b[0m\u001b[1;33m\u001b[0m\u001b[0m\n\u001b[0;32m      5\u001b[0m     \u001b[0mstopwords\u001b[0m\u001b[1;33m=\u001b[0m\u001b[0ma\u001b[0m\u001b[1;33m.\u001b[0m\u001b[0msplit\u001b[0m\u001b[1;33m(\u001b[0m\u001b[1;34m\"\\n\"\u001b[0m\u001b[1;33m)\u001b[0m\u001b[1;33m\u001b[0m\u001b[0m\n",
      "\u001b[1;31mNameError\u001b[0m: name 'co' is not defined"
     ]
    }
   ],
   "source": [
    "co.most_common(50)\n",
    "\n",
    "with open(\"D:\\pyCharm\\stopwords-zh.txt\",encoding=\"utf-8\") as f:\n",
    "    a=f.read()\n",
    "    stopwords=a.split(\"\\n\")"
   ]
  },
  {
   "cell_type": "code",
   "execution_count": 8,
   "metadata": {},
   "outputs": [
    {
     "ename": "NameError",
     "evalue": "name 'co' is not defined",
     "output_type": "error",
     "traceback": [
      "\u001b[1;31m---------------------------------------------------------------------------\u001b[0m",
      "\u001b[1;31mNameError\u001b[0m                                 Traceback (most recent call last)",
      "\u001b[1;32m<ipython-input-8-94fefa748c8b>\u001b[0m in \u001b[0;36m<module>\u001b[1;34m()\u001b[0m\n\u001b[1;32m----> 1\u001b[1;33m \u001b[0mcou\u001b[0m\u001b[1;33m=\u001b[0m\u001b[0mCounter\u001b[0m\u001b[1;33m(\u001b[0m\u001b[1;33m{\u001b[0m\u001b[0mi\u001b[0m\u001b[1;33m:\u001b[0m\u001b[0mco\u001b[0m\u001b[1;33m[\u001b[0m\u001b[0mi\u001b[0m\u001b[1;33m]\u001b[0m \u001b[1;32mfor\u001b[0m \u001b[0mi\u001b[0m \u001b[1;32min\u001b[0m \u001b[0mco\u001b[0m \u001b[1;32mif\u001b[0m \u001b[0mi\u001b[0m \u001b[1;32mnot\u001b[0m \u001b[1;32min\u001b[0m \u001b[0mstopwords\u001b[0m\u001b[1;33m}\u001b[0m\u001b[1;33m)\u001b[0m\u001b[1;33m\u001b[0m\u001b[0m\n\u001b[0m",
      "\u001b[1;31mNameError\u001b[0m: name 'co' is not defined"
     ]
    }
   ],
   "source": [
    "cou=Counter({i:co[i] for i in co if i not in stopwords})"
   ]
  },
  {
   "cell_type": "code",
   "execution_count": 9,
   "metadata": {
    "scrolled": true
   },
   "outputs": [
    {
     "ename": "NameError",
     "evalue": "name 'cou' is not defined",
     "output_type": "error",
     "traceback": [
      "\u001b[1;31m---------------------------------------------------------------------------\u001b[0m",
      "\u001b[1;31mNameError\u001b[0m                                 Traceback (most recent call last)",
      "\u001b[1;32m<ipython-input-9-d60be73b1931>\u001b[0m in \u001b[0;36m<module>\u001b[1;34m()\u001b[0m\n\u001b[1;32m----> 1\u001b[1;33m \u001b[0mcou\u001b[0m\u001b[1;33m.\u001b[0m\u001b[0mmost_common\u001b[0m\u001b[1;33m(\u001b[0m\u001b[1;36m50\u001b[0m\u001b[1;33m)\u001b[0m\u001b[1;33m\u001b[0m\u001b[0m\n\u001b[0m",
      "\u001b[1;31mNameError\u001b[0m: name 'cou' is not defined"
     ]
    }
   ],
   "source": [
    "cou.most_common(50)"
   ]
  },
  {
   "cell_type": "code",
   "execution_count": 14,
   "metadata": {
    "collapsed": true
   },
   "outputs": [],
   "source": [
    "text='''餐廳名稱：[松山區] 昆明園 穆斯林餐廳\n",
    "   消費時間：2015年1月\n",
    "   地址：台北市松山區復興北路81巷26號\n",
    "   電話：02-2751-6776\n",
    "   營業時間：11:30-14:00、17:30-21:30\n",
    "   每人平均價位：餐點$150-300\n",
    "   可否刷卡：可\n",
    "   有無包廂：有\n",
    "   推薦菜色：咖哩羊肉、恰巴帝(印度烤餅)、沙母沙(印度素餃)\n",
    "   官網：http://kunming-islamic.myweb.hinet.net/\n",
    "   部落格：http://ohyaohno7531.pixnet.net/blog/post/410991412\n",
    "   (圖多無音樂好閱讀)\n",
    "\n",
    "這間位於巷弄內的異國料理，是同事豎起大姆指推薦的餐廳\n",
    "\n",
    "交通上也非常便利，就在文湖線的南京復興站八號出口，對面全家的巷子進去就可以找到了\n",
    "\n",
    "\n",
    "\n",
    "店內頗有中東文化的氣息，連頭頂上的燈飾，牆上也有充滿異國情調的雕刻作品\n",
    "\n",
    "\n",
    "\n",
    "若是有事先訂位的話，店內有提供2桌的包廂(約莫20人的座位)，比較不會受到鄰座客人的影響喔\n",
    "\n",
    "特別的是，我們都是使用盤子來呈裝菜飯的喔~杯子也是銀製的~\n",
    "\n",
    "\n",
    "\n",
    "菜單的底色非常搶眼，除了中英文外，還有阿拉伯文，非常的多元化\n",
    "\n",
    "\n",
    "\n",
    "因為偏重口味，所以建議一定要搭配飯一起吃，布來亞尼飯(印度長米飯)$120\n",
    "\n",
    "飯的口感很特別，不會黏黏的，吃起來偏乾，雖然顏色深但沒什麼味道\n",
    "\n",
    "\n",
    "\n",
    "他們還有提供素餐點，這頁還有一些沙拉、青菜類、炸薯條和南洋煎蛋\n",
    "\n",
    "\n",
    "\n",
    "沙母沙(印度素餃)$180，網頁上看到的價格是$160，這份有小小的調漲$20\n",
    "\n",
    "春捲皮包馬鈴薯，沾醬有點像酸奶一般，這道是所有裡面我最喜愛的\n",
    "\n",
    "\n",
    "\n",
    "涼拌茶葉泥(緬式)$180，這道有生菜、蕃茄、花生和香料，是道很適合配飯的菜\n",
    "\n",
    "\n",
    "\n",
    "咖哩黃豆$200，這除了可以配飯外，也可以用印度烤餅沾來吃~\n",
    "\n",
    "\n",
    "\n",
    "昆明園裡，有雞、牛、羊肉，就是沒有提供豬肉，穆斯林基本上是不吃豬的\n",
    "\n",
    "\n",
    "\n",
    "田都里烤雞$300，用小豆蔻、茴香等香料及優格來醃製的雞肉，吃起來感覺很有層次\n",
    "\n",
    "\n",
    "\n",
    "穆沙卡(茄子燴牛肉-土耳其式)$260，裡頭有茄子、青椒、蕃茄醬及胡椒，\n",
    "\n",
    "從網路新聞看到原來這道，原來版本的奶油還會加得更多呢~\n",
    "\n",
    "所以我們現在吃的這個，已經調整成台灣人可以接受的口味，也變得比較清爽一些\n",
    "\n",
    "\n",
    "\n",
    "咖哩羊肉$270，恰巴帝(印度烤餅)$50，他們雞肉處理的很軟爛，肉裡也非常入味，但也不會太辣喔~\n",
    "\n",
    "羊肉是選用澳洲進口綿羊和馬薩拉香料，難怪吃起來真的很難以形容呀~\n",
    "\n",
    "\n",
    "\n",
    "魚蝦類、湯、甜點飲料是在最後一頁，他們的甜點也算是十分道地的喔~\n",
    "\n",
    "\n",
    "\n",
    "炸魚$300，是將爐魚、薑蒜及特殊醬料一起醃漬五小時以上，魚上面還有放一塊檸檬片，每次來必點的就是這條炸魚\n",
    "\n",
    "\n",
    "\n",
    "辣醬蝦$260，蝦子都已去殼，因此料理後，辣醬伴隨著蝦子沾來吃，吃到第1就覺得好辣\n",
    "\n",
    "\n",
    "\n",
    "昆明園算是台灣相當正統的穆斯林餐廳，招牌上標有「HALAL」，就代表它是符合認證標章的喔\n",
    "\n",
    "而且他們所料理的肉，也都是屬於有念經過後，才進行宰殺，是非常虔誠的伊斯蘭文化~\n",
    "\n",
    "這樣特別的餐廳，在包羅萬象的餐廳選擇當中，能前來嚐試看看，也是一種很豐富的經驗唷!!\n",
    "\n",
    "\n",
    "\n",
    "地址：台北市松山區復興北路81巷26號\n",
    "\n",
    "官網：http://kunming-islamic.myweb.hinet.net/\n",
    "\n",
    "電話：  02-2751-6776\n",
    "\n",
    "營業時間：11:30-14:00、17:30-21:30\n",
    "\n",
    "消費方式：餐點$150-300\n",
    "\n",
    "餐點：飯、沙拉、青菜類、雞、牛、羊肉、魚蝦類、湯、甜點飲料'''"
   ]
  },
  {
   "cell_type": "code",
   "execution_count": 17,
   "metadata": {},
   "outputs": [
    {
     "data": {
      "text/plain": [
       "[]"
      ]
     },
     "execution_count": 17,
     "metadata": {},
     "output_type": "execute_result"
    }
   ],
   "source": [
    "re.findall(\"..[市|縣]..?.?.?[區|市]..?.?.?[街|巷|路|地段][0-9]+[號|巷|弄]\",text)\n",
    "#台南市電話或手機\n",
    "re.findall(\"(06[0-9]{7}|09[0-9]{8})\",text)"
   ]
  },
  {
   "cell_type": "code",
   "execution_count": 16,
   "metadata": {},
   "outputs": [
    {
     "data": {
      "text/plain": [
       "'餐廳名稱：[松山區] 昆明園 穆斯林餐廳\\n   消費時間：2015年1月\\n   地址：台北市松山區復興北路81巷26號\\n   電話：02-2751-6776\\n   營業時間：11:30-14:00、17:30-21:30\\n   每人平均價位：餐點$150-300\\n   可否刷卡：可\\n   有無包廂：有\\n   推薦菜色：咖哩羊肉、恰巴帝(印度烤餅)、沙母沙(印度素餃)\\n   官網：http://kunming-islamic.myweb.hinet.net/\\n   部落格：http://ohyaohno7531.pixnet.net/blog/post/410991412\\n   (圖多無音樂好閱讀)\\n\\n這間位於巷弄內的異國料理，是同事豎起大姆指推薦的餐廳\\n\\n交通上也非常便利，就在文湖線的南京復興站八號出口，對面全家的巷子進去就可以找到了\\n\\n\\n\\n店內頗有中東文化的氣息，連頭頂上的燈飾，牆上也有充滿異國情調的雕刻作品\\n\\n\\n\\n若是有事先訂位的話，店內有提供2桌的包廂(約莫20人的座位)，比較不會受到鄰座客人的影響喔\\n\\n特別的是，我們都是使用盤子來呈裝菜飯的喔~杯子也是銀製的~\\n\\n\\n\\n菜單的底色非常搶眼，除了中英文外，還有阿拉伯文，非常的多元化\\n\\n\\n\\n因為偏重口味，所以建議一定要搭配飯一起吃，布來亞尼飯(印度長米飯)$120\\n\\n飯的口感很特別，不會黏黏的，吃起來偏乾，雖然顏色深但沒什麼味道\\n\\n\\n\\n他們還有提供素餐點，這頁還有一些沙拉、青菜類、炸薯條和南洋煎蛋\\n\\n\\n\\n沙母沙(印度素餃)$180，網頁上看到的價格是$160，這份有小小的調漲$20\\n\\n春捲皮包馬鈴薯，沾醬有點像酸奶一般，這道是所有裡面我最喜愛的\\n\\n\\n\\n涼拌茶葉泥(緬式)$180，這道有生菜、蕃茄、花生和香料，是道很適合配飯的菜\\n\\n\\n\\n咖哩黃豆$200，這除了可以配飯外，也可以用印度烤餅沾來吃~\\n\\n\\n\\n昆明園裡，有雞、牛、羊肉，就是沒有提供豬肉，穆斯林基本上是不吃豬的\\n\\n\\n\\n田都里烤雞$300，用小豆蔻、茴香等香料及優格來醃製的雞肉，吃起來感覺很有層次\\n\\n\\n\\n穆沙卡(茄子燴牛肉-土耳其式)$260，裡頭有茄子、青椒、蕃茄醬及胡椒，\\n\\n從網路新聞看到原來這道，原來版本的奶油還會加得更多呢~\\n\\n所以我們現在吃的這個，已經調整成台灣人可以接受的口味，也變得比較清爽一些\\n\\n\\n\\n咖哩羊肉$270，恰巴帝(印度烤餅)$50，他們雞肉處理的很軟爛，肉裡也非常入味，但也不會太辣喔~\\n\\n羊肉是選用澳洲進口綿羊和馬薩拉香料，難怪吃起來真的很難以形容呀~\\n\\n\\n\\n魚蝦類、湯、甜點飲料是在最後一頁，他們的甜點也算是十分道地的喔~\\n\\n\\n\\n炸魚$300，是將爐魚、薑蒜及特殊醬料一起醃漬五小時以上，魚上面還有放一塊檸檬片，每次來必點的就是這條炸魚\\n\\n\\n\\n辣醬蝦$260，蝦子都已去殼，因此料理後，辣醬伴隨著蝦子沾來吃，吃到第1就覺得好辣\\n\\n\\n\\n昆明園算是台灣相當正統的穆斯林餐廳，招牌上標有「HALAL」，就代表它是符合認證標章的喔\\n\\n而且他們所料理的肉，也都是屬於有念經過後，才進行宰殺，是非常虔誠的伊斯蘭文化~\\n\\n這樣特別的餐廳，在包羅萬象的餐廳選擇當中，能前來嚐試看看，也是一種很豐富的經驗唷!!\\n\\n\\n\\n地址：台北市松山區復興北路81巷26號\\n\\n官網：http://kunming-islamic.myweb.hinet.net/\\n\\n電話：  02-2751-6776\\n\\n營業時間：11:30-14:00、17:30-21:30\\n\\n消費方式：餐點$150-300\\n\\n餐點：飯、沙拉、青菜類、雞、牛、羊肉、魚蝦類、湯、甜點飲料'"
      ]
     },
     "execution_count": 16,
     "metadata": {},
     "output_type": "execute_result"
    }
   ],
   "source": [
    "text"
   ]
  },
  {
   "cell_type": "code",
   "execution_count": null,
   "metadata": {
    "collapsed": true
   },
   "outputs": [],
   "source": []
  },
  {
   "cell_type": "code",
   "execution_count": null,
   "metadata": {
    "collapsed": true
   },
   "outputs": [],
   "source": []
  },
  {
   "cell_type": "code",
   "execution_count": null,
   "metadata": {
    "collapsed": true
   },
   "outputs": [],
   "source": []
  },
  {
   "cell_type": "code",
   "execution_count": null,
   "metadata": {
    "collapsed": true
   },
   "outputs": [],
   "source": []
  },
  {
   "cell_type": "code",
   "execution_count": null,
   "metadata": {
    "collapsed": true
   },
   "outputs": [],
   "source": []
  },
  {
   "cell_type": "code",
   "execution_count": null,
   "metadata": {
    "collapsed": true
   },
   "outputs": [],
   "source": []
  },
  {
   "cell_type": "code",
   "execution_count": null,
   "metadata": {
    "collapsed": true
   },
   "outputs": [],
   "source": []
  }
 ],
 "metadata": {
  "kernelspec": {
   "display_name": "Python 3",
   "language": "python",
   "name": "python3"
  },
  "language_info": {
   "codemirror_mode": {
    "name": "ipython",
    "version": 3
   },
   "file_extension": ".py",
   "mimetype": "text/x-python",
   "name": "python",
   "nbconvert_exporter": "python",
   "pygments_lexer": "ipython3",
   "version": "3.6.1"
  }
 },
 "nbformat": 4,
 "nbformat_minor": 2
}

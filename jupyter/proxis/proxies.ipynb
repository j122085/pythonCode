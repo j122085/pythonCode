{
 "cells": [
  {
   "cell_type": "code",
   "execution_count": 3,
   "metadata": {},
   "outputs": [],
   "source": [
    "from bs4 import BeautifulSoup as bs\n",
    "import requests\n",
    "url=\"https://free-proxy-list.net/\"\n",
    "res=requests.get(url)"
   ]
  },
  {
   "cell_type": "code",
   "execution_count": 7,
   "metadata": {},
   "outputs": [
    {
     "data": {
      "text/plain": [
       "\"Free Proxy List - Just Checked Proxy List(function(i,s,o,g,r,a,m){i['GoogleAnalyticsObject']=r;i[r]=i[r]||function(){\\n(i[r].q=i[r].q||[]).push(arguments)},i[r].l=1*new Date();a=s.createElement(o),\\nm=s.getElementsByTagName(o)[0];a.async=1;a.src=g;m.parentNode.insertBefore(a,m)\\n})(window,document,'script','https://www.google-analytics.com/analytics.js','ga');\\nga('create', 'UA-158616-8', 'auto');   Free Proxy ListFree Proxy New ProxyUK ProxyWeb ProxyAnonymous ProxyGoogle ProxyUS ProxySocks ProxySSL ProxyBuy Proxy Premium ProxyHttp ProxySocks ProxyCompany DidsoftContact UsProductsMy IP Hide is better than Free ProxyHide IP address and unblock websites with lightning fast, stable, and encrypted proxies.Learn More \\xa0 Proxy ListFree Proxy ListFree proxies that are just checked and updated every 10 minutesShare on FacebookTweetSkypeSend emailShare on Google+PrintIP AddressPortCodeCountryAnonymityGoogleHttpsLast Checked92.62.132.13880LTLithuaniaanonymousnono1 minute ago47.52.24.11780USUnited Statesanonymousnono1 minute ago200.162.142.1783128BRBrazilanonymousnoyes1 minute ago144.217.96.2133128CACanadaanonymousnoyes1 minute ago144.217.242.1941080CACanadaelite proxynoyes1 minute ago110.171.226.673128THThailandanonymousnono1 minute ago204.12.155.2043128CACanadaanonymousnoyes1 minute ago66.70.191.2151080USUnited Stateselite proxynoyes1 minute ago35.189.71.7280USUnited Stateselite proxynoyes1 minute ago203.74.4.780TWTaiwanelite proxynono1 minute ago219.76.4.1288HKHong Konganonymousnono1 minute ago118.69.61.578888VNVietnamanonymousnono1 minute ago49.212.200.2383128JPJapananonymousnoyes1 minute ago203.74.4.380TWTaiwanelite proxynono1 minute ago203.74.4.280TWTaiwanelite proxynono1 minute ago91.107.5.21053281RURussian Federationelite proxynoyes1 minute ago89.236.17.1063128SESwedenelite proxynoyes1 minute ago194.15.122.24653281PLPolandelite proxynoyes1 minute ago203.74.4.480TWTaiwanelite proxynono1 minute ago139.59.150.1598888DEGermanyelite proxynoyes1 minute ago194.44.176.1163128UAUkraineelite proxynoyes1 minute ago74.116.59.853281JMJamaicaelite proxynoyes1 minute ago158.69.170.2203128CACanadaanonymousnoyes1 minute ago185.171.60.268080RSSerbiaanonymousnoyes1 minute ago208.101.7.18380USUnited Statesanonymousnoyes1 minute ago138.197.169.1180CACanadaanonymousnoyes1 minute ago220.244.244.1628080AUAustraliaanonymousnoyes1 minute ago31.42.118.21653281UAUkraineelite proxynono1 minute ago96.9.69.16453281KHCambodiaelite proxynoyes1 minute ago80.241.219.838080DEGermanyanonymousnoyes1 minute ago13.78.125.1678080JPJapananonymousnoyes1 minute ago137.74.254.1983128FRFranceelite proxynoyes1 minute ago45.55.194.883128USUnited Stateselite proxynoyes1 minute ago153.122.117.1978080JPJapanelite proxynoyes1 minute ago201.47.201.11480BRBrazilanonymousnoyes1 minute ago35.189.82.24880USUnited Stateselite proxynoyes1 minute ago217.61.124.14480ITItalyanonymousnoyes1 minute ago198.50.219.23980CACanadaanonymousnoyes1 minute ago142.4.204.693128CACanadaanonymousnoyes1 minute ago181.111.56.24863909ARArgentinaelite proxynoyes1 minute ago94.177.164.1673128ITItalyelite proxynoyes1 minute ago35.189.94.20180USUnited Stateselite proxynoyes1 minute ago47.89.185.4780USUnited Statesanonymousnono1 minute ago213.136.77.24680DEGermanyanonymousnono1 minute ago52.35.24.2548080USUnited Statesanonymousnoyes1 minute ago213.136.89.12180DEGermanyanonymousnono1 minute ago212.192.120.428080RURussian Federationanonymousnono1 minute ago186.47.102.5865309ECEcuadorelite proxynoyes1 minute ago181.112.37.3865309ECEcuadorelite proxynoyes1 minute ago203.74.4.080TWTaiwanelite proxynono1 minute ago203.74.4.580TWTaiwanelite proxynono1 minute ago94.177.197.12480ITItalyanonymousnoyes1 minute ago203.74.4.680TWTaiwanelite proxynono1 minute ago35.189.77.10480USUnited Stateselite proxynoyes1 minute ago203.146.82.2533128THThailandanonymousnono1 minute ago216.56.48.1189000USUnited Statesanonymousnoyes1 minute ago208.83.106.1059999USUnited Statesanonymousnoyes1 minute ago78.106.41.22165309RURussian Federationelite proxynoyes1 minute ago203.74.4.180TWTaiwanelite proxynono1 minute ago207.248.230.703128MXMexicoanonymousnono1 minute ago138.204.145.3980BRBrazilanonymousnoyes1 minute ago217.15.85.2028080FRFranceelite proxynono1 minute ago37.77.130.7053281RURussian Federationelite proxynoyes1 minute ago74.201.86.2180USUnited Statesanonymousnoyes1 minute ago35.189.103.21080USUnited Stateselite proxynoyes1 minute ago5.135.195.1663128FRFranceanonymousnoyes1 minute ago42.116.18.18053281VNVietnamelite proxynoyes1 minute ago210.16.121.163128SGSingaporeanonymousnoyes1 minute ago149.56.42.2363128CACanadaanonymousnoyes1 minute ago153.122.117.1778080JPJapananonymousnoyes1 minute ago186.215.78.353281BRBrazilelite proxynoyes1 minute ago37.151.43.2023128KZKazakhstanelite proxynoyes1 minute ago212.83.164.8580FRFranceanonymousnono1 minute ago05.135.195.1663128Unknownanonymousnoyes1 minute ago52.237.24.11080CACanadaanonymousnono1 minute ago186.42.188.21465309ECEcuadorelite proxynoyes2 minutes ago171.255.199.13180VNVietnamelite proxynoyes10 minutes ago81.25.21.22653281CZCzech Republicelite proxynoyes10 minutes ago201.184.252.4253281COColombiaanonymousnono10 minutes ago46.250.18.25353281UAUkraineanonymousnono10 minutes ago221.133.44.1428080MYMalaysiaanonymousnoyes11 minutes ago36.66.231.773128IDIndonesiaelite proxynoyes11 minutes ago36.66.231.1133128IDIndonesiaelite proxynoyes11 minutes ago179.60.240.23453281COColombiaanonymousnoyes11 minutes ago163.172.156.1423128FRFranceelite proxynoyes11 minutes ago46.36.65.103128LTLithuaniaelite proxynoyes11 minutes ago58.9.99.673128THThailandanonymousnono11 minutes ago170.254.209.6253281BRBrazilelite proxynoyes11 minutes ago103.211.56.5765309INIndiaelite proxynoyes11 minutes ago110.235.34.10865309INIndiaelite proxynoyes11 minutes ago96.9.86.7065309KHCambodiaelite proxynoyes11 minutes ago202.159.36.7080IDIndonesiaelite proxynono11 minutes ago181.211.13.12665309ECEcuadorelite proxynoyes11 minutes ago180.183.80.1208081THThailandanonymousnoyes11 minutes ago62.250.84.18880NLNetherlandsanonymousnono11 minutes ago163.121.188.28080EGEgyptanonymousnono12 minutes ago203.109.95.265309INIndiaelite proxynono12 minutes ago186.226.188.24653281BRBrazilelite proxynono20 minutes ago150.161.52.1278080BRBrazilelite proxynoyes20 minutes ago103.194.91.21765309INIndiaelite proxynoyes20 minutes ago158.69.31.453128CACanadaanonymousnoyes20 minutes ago104.131.39.1433128USUnited Statesanonymousnoyes20 minutes ago89.187.217.10080LBLebanonanonymousnono20 minutes ago118.97.252.15480IDIndonesiaelite proxynoyes20 minutes ago189.209.110.20265309MXMexicoelite proxynoyes20 minutes ago113.160.171.9365309VNVietnamelite proxynoyes20 minutes ago46.151.254.7153281UAUkraineelite proxynoyes21 minutes ago82.77.71.12553281RORomaniaelite proxynoyes21 minutes ago213.59.160.503128RURussian Federationanonymousnoyes21 minutes ago46.101.72.318118GBUnited Kingdomelite proxynono21 minutes ago139.59.162.538118GBUnited Kingdomelite proxynono21 minutes ago201.222.55.938080PYParaguayelite proxynono21 minutes ago138.255.239.20763909BRBraziltransparentnono24 minutes ago139.59.168.868118GBUnited Kingdomtransparentnono25 minutes ago190.138.249.18265309ARArgentinatransparentnono25 minutes ago31.146.216.12253281GEGeorgiatransparentnono25 minutes ago46.101.79.798118GBUnited Kingdomtransparentnono27 minutes ago183.91.3.14653281VNVietnamtransparentnono27 minutes ago189.93.54.58080BRBraziltransparentnono27 minutes ago188.166.144.1708118GBUnited Kingdomtransparentnono27 minutes ago46.101.72.1918118GBUnited Kingdomtransparentnono27 minutes ago187.71.184.2218080BRBraziltransparentnono27 minutes ago118.175.36.3553281THThailandtransparentnono28 minutes ago103.21.77.1178080INIndiatransparentnono28 minutes ago190.73.25.18080VEVenezuelatransparentnono28 minutes ago186.92.43.1558080VEVenezuelatransparentnono28 minutes ago201.210.94.1708080VEVenezuelatransparentnono28 minutes ago103.89.254.24965309INIndiaelite proxynono30 minutes ago77.104.250.23653281CZCzech Republicelite proxynono30 minutes ago213.174.0.17253281UAUkraineelite proxynono30 minutes ago61.38.236.98808KRKorea, Republic ofanonymousnono30 minutes ago200.7.252.18253281ECEcuadorelite proxynoyes31 minutes ago47.90.87.22588HKHong Konganonymousnono31 minutes ago203.204.203.146443TWTaiwanelite proxynono31 minutes ago101.99.36.8265309VNVietnamelite proxynoyes31 minutes ago89.191.131.1808080PLPolandelite proxynoyes31 minutes ago47.91.233.1318080USUnited Stateselite proxynoyes31 minutes ago109.167.200.8465309RURussian Federationelite proxynoyes31 minutes ago192.117.146.11080ILIsraelanonymousnono31 minutes ago190.152.150.6265309ECEcuadorelite proxynoyes31 minutes ago89.186.1.21553281PLPolandelite proxynoyes31 minutes ago123.30.108.7580VNVietnamanonymousnono31 minutes ago59.152.7.6153281BDBangladeshelite proxynoyes40 minutes ago209.212.248.5380USUnited Stateselite proxynoyes40 minutes ago177.67.83.1458080BRBrazilanonymousnono40 minutes ago163.172.86.643128FRFranceelite proxynoyes40 minutes ago168.181.161.1353281CRCosta Ricaelite proxynoyes41 minutes ago45.77.26.583128JPJapananonymousnono41 minutes ago92.63.238.21153281ITItalytransparentnono50 minutes ago47.74.65.2141080USUnited Statesanonymousnono50 minutes ago177.89.214.21453281BRBraziltransparentnono50 minutes ago168.195.209.8953281BRBrazilelite proxynono50 minutes ago200.69.245.3353281ARArgentinatransparentnono50 minutes ago198.35.55.147443USUnited Stateselite proxynono50 minutes ago31.145.83.2069090TRTurkeytransparentnono50 minutes ago210.150.28.21880JPJapantransparentnono50 minutes ago45.32.195.958118USUnited Stateselite proxynono50 minutes ago180.250.174.2518080IDIndonesiatransparentnono50 minutes ago189.82.222.153281BRBraziltransparentnono50 minutes ago103.11.192.22953281MNMongoliaelite proxynono50 minutes ago36.84.58.1183128IDIndonesiatransparentnono50 minutes ago188.115.130.7053281UAUkraineelite proxynoyes50 minutes ago114.36.71.678088TWTaiwanelite proxynono50 minutes ago177.67.81.1688080BRBrazilanonymousnoyes50 minutes ago208.101.7.18080USUnited Statesanonymousnoyes50 minutes ago190.186.242.565309BOBoliviaelite proxynoyes50 minutes ago122.3.29.17553281PHPhilippinestransparentnono51 minutes ago191.102.122.14653281COColombiatransparentnono51 minutes ago125.25.146.2298080THThailandtransparentnono52 minutes ago181.143.103.17053281COColombiatransparentnono52 minutes ago50.233.239.678888USUnited Statestransparentnono52 minutes ago177.92.45.1903128BRBraziltransparentnono52 minutes ago196.15.135.743128ZASouth Africatransparentnono52 minutes ago104.168.135.1088888USUnited Statestransparentnono52 minutes ago50.62.22.308080USUnited Statestransparentnono52 minutes ago190.79.249.1528080VEVenezuelatransparentnono52 minutes ago190.198.250.1808080VEVenezuelatransparentnono52 minutes ago70.45.0.12453281PRPuerto Ricotransparentnono52 minutes ago117.240.218.12553281INIndiatransparentnono52 minutes ago161.148.148.14180BRBraziltransparentnono52 minutes ago190.73.190.1978080VEVenezuelatransparentnono52 minutes ago5.188.153.2288080KZKazakhstantransparentnono53 minutes ago109.252.237.21453281RURussian Federationtransparentnono53 minutes ago189.93.127.1538080BRBraziltransparentnono53 minutes ago193.93.228.20953281UAUkrainetransparentnono53 minutes ago181.39.87.1178080ECEcuadortransparentnono54 minutes ago113.53.125.1328080THThailandtransparentnono54 minutes ago118.161.43.22280TWTaiwantransparentnono54 minutes ago45.79.139.16980USUnited Statestransparentnono54 minutes ago186.101.70.918080ECEcuadortransparentnono54 minutes ago179.149.164.1638080BRBraziltransparentnono54 minutes ago78.8.74.4453281PLPolandtransparentnono54 minutes ago180.250.19.923128IDIndonesiatransparentnono54 minutes ago200.49.59.53128BRBraziltransparentnono54 minutes ago14.102.189.11665309INIndiatransparentnono54 minutes ago5.167.96.2383128RURussian Federationtransparentnono54 minutes ago173.208.173.435555USUnited Statestransparentnono54 minutes ago192.223.114.8553281BOBoliviatransparentnono54 minutes ago96.42.96.24053281USUnited Statestransparentnono54 minutes ago43.243.207.2428080BDBangladeshtransparentnono54 minutes ago31.145.83.389090TRTurkeytransparentnono55 minutes ago189.85.29.988080BRBraziltransparentnono55 minutes ago43.254.124.198080IDIndonesiatransparentnono55 minutes ago31.145.83.2188080TRTurkeytransparentnono55 minutes ago46.101.75.1478118GBUnited Kingdomtransparentnono55 minutes ago175.101.21.128080INIndiatransparentnono55 minutes ago177.86.105.20965309BRBraziltransparentnono55 minutes ago77.73.54.12653281RURussian Federationtransparentnono55 minutes ago189.85.20.218080BRBraziltransparentnono55 minutes ago201.73.151.123128BRBraziltransparentnono55 minutes ago200.93.82.18053281VEVenezuelatransparentnono55 minutes ago103.219.212.16965309INIndiatransparentnono55 minutes ago193.193.245.1218080KZKazakhstantransparentnono55 minutes ago177.55.62.2368080BRBraziltransparentnono55 minutes ago185.180.28.179090TRTurkeytransparentnono55 minutes ago122.53.156.503128PHPhilippinestransparentnono55 minutes ago78.108.161.9153281LBLebanontransparentnono55 minutes ago177.58.147.1998080BRBraziltransparentnono55 minutes ago85.100.125.6953281TRTurkeytransparentnono55 minutes ago182.160.122.1828080BDBangladeshtransparentnono55 minutes ago45.115.174.2028080INIndiatransparentnono55 minutes ago182.253.38.1638080IDIndonesiatransparentnono55 minutes ago177.54.147.25280BRBraziltransparentnono55 minutes ago138.121.73.1828080BRBraziltransparentnono55 minutes ago109.92.191.19453281RSSerbiatransparentnono55 minutes ago95.210.251.2953281ITItalytransparentnono55 minutes ago103.204.231.1778080INIndiatransparentnono55 minutes ago109.122.87.3353281RSSerbiatransparentnono55 minutes ago187.71.252.1048080BRBraziltransparentnono55 minutes ago31.145.83.2028080TRTurkeytransparentnono55 minutes ago31.145.83.349090TRTurkeytransparentnono55 minutes ago185.180.28.389090TRTurkeytransparentnono55 minutes ago104.236.13.1008888USUnited Statesanonymousnoyes1 hour ago203.202.254.15753281BDBangladeshelite proxynono1 hour 1 minute ago36.76.104.16153281IDIndonesiaelite proxynoyes1 hour 1 minute ago196.43.197.2680AOAngolaelite proxynoyes1 hour 1 minute ago109.229.8.1553281UAUkraineelite proxynoyes1 hour 1 minute ago94.130.14.14631288DEGermanyanonymousnoyes1 hour 1 minute ago186.46.156.20265309ECEcuadorelite proxynoyes1 hour 1 minute ago118.69.57.18053281VNVietnamelite proxynoyes1 hour 1 minute ago203.123.229.3853281IDIndonesiaelite proxynoyes1 hour 1 minute ago45.55.185.14080USUnited Statesanonymousnono1 hour 1 minute ago62.221.54.2453128UAUkraineelite proxynoyes1 hour 2 minutes ago171.244.80.1453281VNVietnamelite proxynoyes1 hour 2 minutes ago189.206.107.68080MXMexicoelite proxynono1 hour 2 minutes ago46.49.98.17865309GEGeorgiaelite proxynoyes1 hour 10 minutes ago103.219.212.20565309INIndiaelite proxynoyes1 hour 10 minutes ago103.53.83.24665309INIndiaelite proxynono1 hour 11 minutes ago90.150.87.1303128RURussian Federationelite proxynono1 hour 11 minutes ago36.66.56.13065309IDIndonesiaelite proxynono1 hour 11 minutes ago94.54.216.14553281TRTurkeyelite proxynono1 hour 11 minutes ago153.122.117.1988080JPJapanelite proxynono1 hour 11 minutes ago153.122.117.1768080JPJapanelite proxynono1 hour 11 minutes ago181.114.21.15453281GTGuatemalaelite proxynono1 hour 11 minutes ago153.122.64.1108080JPJapanelite proxynono1 hour 11 minutes ago23.245.167.2048118USUnited Statestransparentnono1 hour 11 minutes ago103.89.253.12665309INIndiaelite proxynoyes1 hour 20 minutes ago210.4.75.9853281BDBangladeshelite proxynoyes1 hour 20 minutes ago190.9.56.17053281CLChileelite proxynono1 hour 21 minutes ago153.122.64.1618080JPJapanelite proxynono1 hour 21 minutes ago36.67.215.6165309IDIndonesiaelite proxynoyes1 hour 21 minutes ago181.112.61.5063909ECEcuadorelite proxynoyes1 hour 21 minutes ago201.167.56.1853281MXMexicoelite proxynono1 hour 21 minutes ago194.9.235.10853281RURussian Federationelite proxynono1 hour 21 minutes ago213.191.164.15153281BGBulgariaelite proxynono1 hour 21 minutes ago103.248.248.23553281IDIndonesiaelite proxynono1 hour 21 minutes ago185.74.192.17653281ESSpainelite proxynoyes1 hour 30 minutes ago191.103.252.16953281COColombiaelite proxynoyes1 hour 30 minutes ago45.249.9.1853281PKPakistananonymousnono1 hour 30 minutes ago190.184.207.18653281COColombiaelite proxynono1 hour 30 minutes ago181.196.150.16665309ECEcuadorelite proxynoyes1 hour 30 minutes ago109.207.43.10553281RSSerbiaelite proxynono1 hour 30 minutes ago66.85.19.19065309USUnited Stateselite proxynoyes1 hour 30 minutes ago66.70.171.978118CACanadaelite proxynoyes1 hour 30 minutes ago195.8.216.4380PLPolandanonymousnoyes1 hour 40 minutes ago103.89.253.16463909INIndiaelite proxynoyes1 hour 40 minutes ago111.255.238.1268088TWTaiwanelite proxynoyes1 hour 40 minutes ago190.253.230.5463909COColombiaelite proxynoyes1 hour 40 minutes ago213.149.105.1280MEMontenegroanonymousnono1 hour 50 minutes ago87.245.154.6680RURussian Federationelite proxynono1 hour 50 minutes ago200.228.94.13453281BRBrazilelite proxynono1 hour 50 minutes ago58.176.46.2488380HKHong Konganonymousnono1 hour 50 minutes ago91.233.46.12065309RURussian Federationelite proxynoyes1 hour 51 minutes ago163.121.188.38080EGEgyptanonymousnoyes1 hour 51 minutes ago149.56.40.6980CACanadaanonymousnoyes1 hour 51 minutes ago50.203.117.2280USUnited Statesanonymousnoyes1 hour 51 minutes ago36.255.134.5965309INIndiaelite proxynoyes1 hour 51 minutes ago89.187.217.9880LBLebanonanonymousnono1 hour 51 minutes ago91.185.47.6853281RURussian Federationelite proxynoyes1 hour 51 minutes ago168.121.46.22853281PEPeruelite proxynoyes1 hour 51 minutes ago165.165.132.5053281ZASouth Africaelite proxynoyes1 hour 51 minutes ago186.42.185.11453281ECEcuadorelite proxynoyes1 hour 51 minutes ago220.137.125.2148088TWTaiwanelite proxynono1 hour 51 minutes ago219.127.253.4380JPJapanelite proxynono1 hour 51 minutes ago24.135.12.24753281RSSerbiaelite proxynoyes1 hour 51 minutes ago91.236.61.2533128RURussian Federationtransparentnono1 hour 53 minutes ago109.236.124.168080SKSlovakiatransparentnono1 hour 53 minutes ago191.36.192.1963128BRBraziltransparentnono1 hour 54 minutes ago151.80.197.19280FRFrancetransparentnono1 hour 55 minutes ago111.90.172.5053281INIndiatransparentnono1 hour 55 minutes agoBuy Premium Proxy \\xa0 Save Time \\xa0Proxy FAQsSome frequently asked questions about our free proxy lists About our free proxy listThose are the latest 300 free proxies that are just checked and added into our proxy list. We update the proxy list every 10 minutes to keep the free proxies fresh. These free proxies are public http proxy. Please check the proxies by our free proxy software before using them. If you need stable proxy, please try our proxy software My IP Hide . How to use the proxy?All the browsers (chrome, firefox, ie, opera, safari and others) support the proxy option. When you set a proxy in browser, the proxy will fetch the web pages for your browser. The webistes regard the IP of proxy as your IP so it cannot trace your real IP. We recommend using Elite Proxy Switcher to set the proxy for your browsers. What is the proxy anonymity?There are 3 levels of proxies according to their anonymity.Level 1 - Elite Proxy / Highly Anonymous Proxy: The web server can't detect whether you are using a proxy.Level 2 - Anonymous Proxy: The web server can know you are using a proxy, but it can't know your real IP.Level 3 - Transparent Proxy: The web server can know you are using a proxy and it can also know your real IP. How to check the proxy speed?You can use our free software Elite Proxy Switcher to test the proxy speed. We don't show the speed in the proxy list. It's because one proxy may have different speed for different users. For example, a proxy which is fast for USA users may be slow for European users. So check it by yourself. What is HTTPS / SSL proxy?Secure websites whose url starts with https:// instead of http:// (ex. https://www.paypal.com) use the encrypted (SSL/HTTPS) connections between its web server and the visitors. Some proxies only support ordinary http sites and can't surf https sites. Elite Proxy Switcher can test whether a proxy supports https sites. What is Google proxy?Proxies that support searching on Google are called Google proxy. Some programs need them to make large number of queries on Google. Since year 2016, all the Google proxies are dead. Read that article for more information.Note: Click on the heading text to expand or collapse questions.Premium ProxyUse our premium proxy services to hide your real IP addressMy IP HideStable, encrypted, and private proxy service to unblock websites and hide your real IP address.Recommended  HTTP Proxy ListChange IP address easily by thousands of checked public proxies which are updated every hour.Learn more Socks Proxy ListThere are hundreds of checked proxies in our socks proxy lists which are updated every hour.Learn more My IP HideIt's better than free proxies because it's stable and encryptedSave the time of finding new proxies every day. My IP Hide uses our private proxy servers. It's always working and fast.Use encrypted connections to bypass the firewall of your company, school or even country, accessing any website at any time.You can always choose your favorite IP from our 59 (and growing) premium IP addresses in 25 countries.0.1 seconds to switch to a new IP address, breaking the location restrictions of the websites, such as Youtube and BBC iPlayer.All your devices (Windows, Mac, and Android) can use the same account. We don't limit the simultaneous connections.Try My IP Hide Risk-Free30-day money-back guaranteeSave TimeSave time, save lives, by stable and fast proxiesFree proxies are usually slow, unstable and die fast. It takes much time to find new working proxies every day.Our product My IP Hide can save your time (life). It uses our private proxy servers. We manage and tune them to ensure they are always working and fast.Stability: Free proxies are open to public usage. It makes them unstable and die fast. By contrast, My IP Hide is always fast and stable.Encryption: Normal proxies don't encrypt their traffic. By contrast, My IP Hide encrypts its traffic to bypass the most advanced firewalls.Moreover, My IP Hide is 13 times faster than the VPN. You can read this test report for more details.Try My IP Hide Risk-Free30-day money-back guaranteeRisk-Free TrialTry My IP Hide risk-free. 90% satisfied, 100% money back.We grant a 30-day money-back guarantee on all plans. If not completely satisfied, you will get a full refund. No questions, no fees, no hassle.Try My IP Hide Risk-Free30-day money-back guaranteeServersMy IP Hide has 59 servers (IP addresses) in 25 countriesOur worldwide server networkWe have 59 servers (and growing) in 25 countries, including United States, United Kingdom, Singapore, Hong Kong, Germany, France, Canada, Australia, etc.Unlike other companies, we focus on the speed of the servers instead of the number. We carefully choose the locations to set up our servers, avoiding unnecessary costs to our users.Try My IP Hide Risk-Free30-day money-back guaranteeGet My IP HideWe accept paypal, credit card, bitcoin, webmoney, and many other payment methods1 MONTH$8.52 /mobilled monthlySave 0%30-day money-back guaranteeAlways working and fastUse it on all your devicesUnlimited data transferSupports all the browsersGet My IP Hide12 MONTHS$5.63 /mobilled annuallySave 34%30-day money-back guaranteeAlways working and fastUse it on all your devicesUnlimited data transferSupports all the browsersGet My IP Hide6 MONTHS$6.98 /mobilled semiannualSave 18%30-day money-back guaranteeAlways working and fastUse it on all your devicesUnlimited data transferSupports all the browsersGet My IP HideFeaturesThe features of our encrypted proxy service My IP HideAll package plans include unlimited data transfer, IP switches, and simultaneous connections. It's 13 times faster than VPN.One license for unlimited devices, including Windows, Mac OS X, and Android. We don't limit the simultaneous connections.Natively compatible with all the browsers, including Chrome, Firefox, Internet Explorer, Edge, and Safari, requiring no manual settings.We grant a 30-day money-back guarantee on all plans. If not 100% satisfied, you will get a full refund. No questions, no hassle.Start your 30-day risk-free trial now!Try My IP Hide NowProductsMy IP HideBuy Http ProxyBuy Socks ProxyProxy SwitcherSocks CheckerCompanyDidsoftContact UsProductsAffiliatePrivacy PolicyFollow Us Facebook Twitter Google+ Youtube FeedsResourcesProxy BlogFind IP AddressMulti-IP Web ProxyProxy Sites6 Ways to Hide IPFree Proxy List is brought to you by Didsoft Copyright © 2017 Didsoft Ltd. All Rights Reserved.ga('send','pageview');\""
      ]
     },
     "execution_count": 7,
     "metadata": {},
     "output_type": "execute_result"
    }
   ],
   "source": [
    "soup=bs(res.text,\"lxml\")\n",
    "soup.text"
   ]
  },
  {
   "cell_type": "code",
   "execution_count": 19,
   "metadata": {},
   "outputs": [
    {
     "data": {
      "text/plain": [
       "[('92.62.132.138', '80'),\n",
       " ('47.52.24.117', '80'),\n",
       " ('35.189.71.72', '80'),\n",
       " ('203.74.4.7', '80'),\n",
       " ('203.74.4.3', '80'),\n",
       " ('203.74.4.2', '80'),\n",
       " ('203.74.4.4', '80'),\n",
       " ('185.171.60.26', '80'),\n",
       " ('208.101.7.183', '80'),\n",
       " ('138.197.169.11', '80'),\n",
       " ('220.244.244.162', '80'),\n",
       " ('80.241.219.83', '80'),\n",
       " ('13.78.125.167', '80'),\n",
       " ('153.122.117.197', '80'),\n",
       " ('201.47.201.114', '80'),\n",
       " ('35.189.82.248', '80'),\n",
       " ('217.61.124.144', '80'),\n",
       " ('198.50.219.239', '80'),\n",
       " ('35.189.94.201', '80'),\n",
       " ('47.89.185.47', '80'),\n",
       " ('213.136.77.246', '80'),\n",
       " ('52.35.24.254', '80'),\n",
       " ('213.136.89.121', '80'),\n",
       " ('212.192.120.42', '80'),\n",
       " ('203.74.4.0', '80'),\n",
       " ('203.74.4.5', '80'),\n",
       " ('94.177.197.124', '80'),\n",
       " ('203.74.4.6', '80'),\n",
       " ('35.189.77.104', '80'),\n",
       " ('203.74.4.1', '80'),\n",
       " ('138.204.145.39', '80'),\n",
       " ('217.15.85.202', '80'),\n",
       " ('74.201.86.21', '80'),\n",
       " ('35.189.103.210', '80'),\n",
       " ('42.116.18.1', '80'),\n",
       " ('153.122.117.177', '80'),\n",
       " ('212.83.164.85', '80'),\n",
       " ('52.237.24.110', '80'),\n",
       " ('171.255.199.131', '80'),\n",
       " ('221.133.44.142', '80'),\n",
       " ('202.159.36.70', '80'),\n",
       " ('180.183.80.120', '80'),\n",
       " ('62.250.84.188', '80'),\n",
       " ('163.121.188.280', '80'),\n",
       " ('150.161.52.127', '80'),\n",
       " ('89.187.217.100', '80'),\n",
       " ('118.97.252.154', '80'),\n",
       " ('201.222.55.93', '80'),\n",
       " ('189.93.54.5', '80'),\n",
       " ('187.71.184.221', '80'),\n",
       " ('103.21.77.117', '80'),\n",
       " ('190.73.25.180', '80'),\n",
       " ('186.92.43.155', '80'),\n",
       " ('201.210.94.170', '80'),\n",
       " ('61.38.236.98', '80'),\n",
       " ('89.191.131.180', '80'),\n",
       " ('47.91.233.131', '80'),\n",
       " ('192.117.146.110', '80'),\n",
       " ('123.30.108.75', '80'),\n",
       " ('209.212.248.53', '80'),\n",
       " ('177.67.83.145', '80'),\n",
       " ('210.150.28.218', '80'),\n",
       " ('180.250.174.251', '80'),\n",
       " ('114.36.71.67', '80'),\n",
       " ('177.67.81.168', '80'),\n",
       " ('208.101.7.180', '80'),\n",
       " ('125.25.146.229', '80'),\n",
       " ('50.62.22.30', '80'),\n",
       " ('190.79.249.152', '80'),\n",
       " ('190.198.250.180', '80'),\n",
       " ('161.148.148.141', '80'),\n",
       " ('190.73.190.197', '80'),\n",
       " ('5.188.153.228', '80'),\n",
       " ('189.93.127.153', '80'),\n",
       " ('181.39.87.117', '80'),\n",
       " ('113.53.125.132', '80'),\n",
       " ('118.161.43.222', '80'),\n",
       " ('45.79.139.169', '80'),\n",
       " ('186.101.70.91', '80'),\n",
       " ('179.149.164.163', '80'),\n",
       " ('43.243.207.242', '80'),\n",
       " ('189.85.29.98', '80'),\n",
       " ('43.254.124.19', '80'),\n",
       " ('31.145.83.218', '80'),\n",
       " ('175.101.21.12', '80'),\n",
       " ('189.85.20.21', '80'),\n",
       " ('200.93.82.1', '80'),\n",
       " ('193.193.245.121', '80'),\n",
       " ('177.55.62.236', '80'),\n",
       " ('177.58.147.199', '80'),\n",
       " ('182.160.122.182', '80'),\n",
       " ('45.115.174.202', '80'),\n",
       " ('182.253.38.163', '80'),\n",
       " ('177.54.147.252', '80'),\n",
       " ('138.121.73.182', '80'),\n",
       " ('103.204.231.177', '80'),\n",
       " ('187.71.252.104', '80'),\n",
       " ('31.145.83.202', '80'),\n",
       " ('196.43.197.26', '80'),\n",
       " ('118.69.57.1', '80'),\n",
       " ('45.55.185.140', '80'),\n",
       " ('189.206.107.6', '80'),\n",
       " ('153.122.117.198', '80'),\n",
       " ('153.122.117.176', '80'),\n",
       " ('153.122.64.110', '80'),\n",
       " ('153.122.64.161', '80'),\n",
       " ('195.8.216.43', '80'),\n",
       " ('111.255.238.126', '80'),\n",
       " ('213.149.105.12', '80'),\n",
       " ('87.245.154.66', '80'),\n",
       " ('163.121.188.3', '80'),\n",
       " ('149.56.40.69', '80'),\n",
       " ('50.203.117.22', '80'),\n",
       " ('89.187.217.98', '80'),\n",
       " ('220.137.125.214', '80'),\n",
       " ('219.127.253.43', '80'),\n",
       " ('109.236.124.16', '80'),\n",
       " ('151.80.197.192', '80')]"
      ]
     },
     "execution_count": 19,
     "metadata": {},
     "output_type": "execute_result"
    }
   ],
   "source": [
    "import re\n",
    "re.findall(\"([0-2]?[0-9]?[0-9]\\.[0-2]?[0-9]?[0-9]\\.[0-2]?[0-9]?[0-9]\\.[0-2]?[0-9]?[0-9])(80)\",soup.text)"
   ]
  },
  {
   "cell_type": "code",
   "execution_count": null,
   "metadata": {
    "collapsed": true
   },
   "outputs": [],
   "source": []
  }
 ],
 "metadata": {
  "kernelspec": {
   "display_name": "Python 3",
   "language": "python",
   "name": "python3"
  },
  "language_info": {
   "codemirror_mode": {
    "name": "ipython",
    "version": 3
   },
   "file_extension": ".py",
   "mimetype": "text/x-python",
   "name": "python",
   "nbconvert_exporter": "python",
   "pygments_lexer": "ipython3",
   "version": "3.6.1"
  }
 },
 "nbformat": 4,
 "nbformat_minor": 2
}

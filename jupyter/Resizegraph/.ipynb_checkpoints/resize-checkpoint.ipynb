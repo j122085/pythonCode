{
 "cells": [
  {
   "cell_type": "code",
   "execution_count": null,
   "metadata": {},
   "outputs": [],
   "source": [
    "import os, sys\n",
    "from PIL import Image\n",
    "from PIL import ImageFile\n",
    "import glob\n",
    " \n",
    "# args = sys.argv\n",
    "# basewidth = 640\n",
    "# if len(args)<2:\n",
    "#     basewidth=640\n",
    "# else:\n",
    "#     try:\n",
    "#         basewidth=int(args[1])\n",
    "#     except:\n",
    "#         basewidth = 640\n",
    "\n",
    "for filename in os.listdir(\"D:/Data/GraphData/pixiv_good/\"):\n",
    "    try:\n",
    "        img = Image.open(\"D:/Data/GraphData/pixiv_good/\"+filename)\n",
    "        width, height =  img.size\n",
    "        percent = float((float(basewidth)/float(width)))\n",
    "        hresize = int(float(height) * float(percent))\n",
    "        if width != basewidth:\n",
    "    #         img = img.resize((basewidth, hresize), Image.ANTIALIAS)\n",
    "            img = img.resize((650,650), Image.ANTIALIAS)\n",
    "            try:\n",
    "                img.save('D:/Data/GraphData/pixiv_good/small/'+filename)\n",
    "            except:\n",
    "                pass\n",
    "    except:\n",
    "        pass"
   ]
  },
  {
   "cell_type": "code",
   "execution_count": 58,
   "metadata": {},
   "outputs": [],
   "source": [
    "import os, sys\n",
    "from PIL import Image\n",
    "from PIL import ImageFile\n",
    "import glob\n",
    " \n",
    "# args = sys.argv\n",
    "# basewidth = 640\n",
    "# if len(args)<2:\n",
    "#     basewidth=640\n",
    "# else:\n",
    "#     try:\n",
    "#         basewidth=int(args[1])\n",
    "#     except:\n",
    "#         basewidth = 640\n",
    "\n",
    "for filename in os.listdir(\"D:/Data/GraphData/pixiv_good/\"):\n",
    "    try:\n",
    "        img = Image.open(\"D:/Data/GraphData/pixiv_good/\"+filename)\n",
    "        width, height =  img.size\n",
    "        percent = float((float(basewidth)/float(width)))\n",
    "        hresize = int(float(height) * float(percent))\n",
    "        if width != basewidth:\n",
    "    #         img = img.resize((basewidth, hresize), Image.ANTIALIAS)\n",
    "            img = img.resize((528,800), Image.ANTIALIAS)\n",
    "            try:\n",
    "                img.save('D:/Data/GraphData/pixiv_good/small/height_'+filename)\n",
    "            except:\n",
    "                pass\n",
    "    except:\n",
    "        pass"
   ]
  },
  {
   "cell_type": "code",
   "execution_count": 59,
   "metadata": {},
   "outputs": [],
   "source": [
    "import os, sys\n",
    "from PIL import Image\n",
    "from PIL import ImageFile\n",
    "import glob\n",
    " \n",
    "# args = sys.argv\n",
    "# basewidth = 640\n",
    "# if len(args)<2:\n",
    "#     basewidth=640\n",
    "# else:\n",
    "#     try:\n",
    "#         basewidth=int(args[1])\n",
    "#     except:\n",
    "#         basewidth = 640\n",
    "\n",
    "for filename in os.listdir(\"D:/Data/GraphData/pixiv_good/\"):\n",
    "    try:\n",
    "        img = Image.open(\"D:/Data/GraphData/pixiv_good/\"+filename)\n",
    "        width, height =  img.size\n",
    "        percent = float((float(basewidth)/float(width)))\n",
    "        hresize = int(float(height) * float(percent))\n",
    "        if width != basewidth:\n",
    "    #         img = img.resize((basewidth, hresize), Image.ANTIALIAS)\n",
    "            img = img.resize((800,528), Image.ANTIALIAS)\n",
    "            try:\n",
    "                img.save('D:/Data/GraphData/pixiv_good/small/fat_'+filename)\n",
    "            except:\n",
    "                pass\n",
    "    except:\n",
    "        pass"
   ]
  },
  {
   "cell_type": "code",
   "execution_count": null,
   "metadata": {
    "collapsed": true
   },
   "outputs": [],
   "source": []
  }
 ],
 "metadata": {
  "kernelspec": {
   "display_name": "Python 3",
   "language": "python",
   "name": "python3"
  },
  "language_info": {
   "codemirror_mode": {
    "name": "ipython",
    "version": 3
   },
   "file_extension": ".py",
   "mimetype": "text/x-python",
   "name": "python",
   "nbconvert_exporter": "python",
   "pygments_lexer": "ipython3",
   "version": "3.6.1"
  }
 },
 "nbformat": 4,
 "nbformat_minor": 2
}

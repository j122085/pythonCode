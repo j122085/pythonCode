{
 "cells": [
  {
   "cell_type": "code",
   "execution_count": 61,
   "metadata": {
    "collapsed": true
   },
   "outputs": [],
   "source": [
    "import json \n",
    "\n",
    "with open(r\"D:\\PractiseText\\AnalyzeTable.json\") as f:\n",
    "    allcontent=json.load(f)\n",
    "with open(\"D:\\詞庫\\jieba_dict\\stopwords.txt\",encoding=\"utf-8\") as st:\n",
    "    stopwords=st.read()\n",
    "stopwords=stopwords.split(\"\\n\")\n",
    "import jieba\n",
    "for i in allcontent:\n",
    "    try:\n",
    "        del i['TF_IDF'][i['name']]\n",
    "        del i['TF_IDF']['']\n",
    "    except:\n",
    "        pass"
   ]
  },
  {
   "cell_type": "code",
   "execution_count": 62,
   "metadata": {},
   "outputs": [],
   "source": [
    "from collections import Counter\n",
    "for i in allcontent:   \n",
    "    i[\"tag\"]=\"、\".join([j[0] for j in Counter(i[\"TF_IDF\"]).most_common(3)])"
   ]
  },
  {
   "cell_type": "code",
   "execution_count": 63,
   "metadata": {
    "collapsed": true
   },
   "outputs": [],
   "source": [
    "for i in allcontent:\n",
    "    if i[\"tag\"]==\"\":\n",
    "        i[\"tag\"]=i[\"style\"]"
   ]
  },
  {
   "cell_type": "code",
   "execution_count": 64,
   "metadata": {
    "scrolled": true
   },
   "outputs": [
    {
     "data": {
      "text/plain": [
       "[('其他小吃', 110),\n",
       " ('麵食點心', 84),\n",
       " ('飲料專賣店', 71),\n",
       " ('複合式', 62),\n",
       " ('咖啡專賣', 52),\n",
       " ('中式', 43),\n",
       " ('西點烘焙、麵包', 39),\n",
       " ('其他鍋類', 36),\n",
       " ('美式料理', 31),\n",
       " ('其它中式料理', 30),\n",
       " ('海鮮餐廳', 25),\n",
       " ('熱炒、快炒', 23),\n",
       " ('炭烤串燒', 23),\n",
       " ('綜合日式料理', 20),\n",
       " ('義式料理', 19),\n",
       " ('剉冰、豆花', 18),\n",
       " ('其他美食', 18),\n",
       " ('休閒零食', 15),\n",
       " ('其他日式料理', 14),\n",
       " ('西式早餐', 14)]"
      ]
     },
     "execution_count": 64,
     "metadata": {},
     "output_type": "execute_result"
    }
   ],
   "source": [
    "Counter(i[\"tag\"] for i in allcontent).most_common(20)"
   ]
  },
  {
   "cell_type": "code",
   "execution_count": 65,
   "metadata": {
    "collapsed": true
   },
   "outputs": [],
   "source": [
    "from sklearn.feature_extraction.text import CountVectorizer\n",
    "from sklearn.feature_extraction.text import TfidfTransformer\n",
    "from pprint import pprint\n",
    "from sklearn.neighbors.nearest_centroid import NearestCentroid"
   ]
  },
  {
   "cell_type": "code",
   "execution_count": 66,
   "metadata": {
    "collapsed": true
   },
   "outputs": [],
   "source": [
    "contentcuts=[i['contentcut'] for i in allcontent]\n",
    "tags=[i['tag'] for i in allcontent]"
   ]
  },
  {
   "cell_type": "code",
   "execution_count": 67,
   "metadata": {
    "collapsed": true
   },
   "outputs": [],
   "source": [
    "count_vect=CountVectorizer()\n",
    "X_train_counts=count_vect.fit_transform(contentcuts)"
   ]
  },
  {
   "cell_type": "code",
   "execution_count": 68,
   "metadata": {
    "collapsed": true
   },
   "outputs": [],
   "source": [
    "tfidf_transformer=TfidfTransformer()\n",
    "X_train_tfidf = tfidf_transformer.fit_transform(X_train_counts)"
   ]
  },
  {
   "cell_type": "code",
   "execution_count": 69,
   "metadata": {},
   "outputs": [],
   "source": [
    "from sklearn.neighbors.nearest_centroid import NearestCentroid\n",
    "clf = NearestCentroid().fit(X_train_tfidf,tags)"
   ]
  },
  {
   "cell_type": "code",
   "execution_count": 70,
   "metadata": {
    "scrolled": true
   },
   "outputs": [
    {
     "name": "stderr",
     "output_type": "stream",
     "text": [
      "Building prefix dict from D:\\PractiseText\\jieba_dict.txt.big ...\n",
      "Loading model from cache C:\\Users\\Java\\AppData\\Local\\Temp\\jieba.ub0ee90d04c06339451780c7f7ef082dd.cache\n",
      "Loading model cost 1.140 seconds.\n",
      "Prefix dict has been built succesfully.\n"
     ]
    }
   ],
   "source": [
    "def cutwords(textlist):\n",
    "    textcutlist=[]\n",
    "    import jieba\n",
    "    jieba.set_dictionary(r'D:\\PractiseText\\jieba_dict.txt.big')\n",
    "    stopwordset = set()\n",
    "    with open('D:/pyCharm/stopwords.txt', 'r', encoding='utf-8') as sw:\n",
    "        for line in sw:\n",
    "            stopwordset.add(line.strip('\\n'))\n",
    "    for text in textlist:\n",
    "        words = jieba.cut(text, cut_all=False)\n",
    "        cuttext = \"\"\n",
    "        for word in words:\n",
    "            if word not in stopwordset and '\\u4e00' <= word <= '\\u9fff':\n",
    "                cuttext += word + \" \"\n",
    "\n",
    "        textcutlist.append(cuttext)\n",
    "    return textcutlist\n",
    "\n",
    "docs_new=['今天 的飯 很好吃 那家 排骨 便當','''老五鍋貼牛肉麵在板橋當地享有高人氣，\n",
    "店內除了鍋貼和牛肉麵兩項明星餐點外，\n",
    "我覺得酢醬麵也很值得一試喔，麵條和拌料調配的剛剛好，\n",
    "是我近期吃到最最最滿意的麵食呢～\n",
    "要是這間店開在我家附近的話，我願意每周報到，酢醬麵實在太合我胃口啦''','''又回到介紹文化中心附近的餐廳~\n",
    "文化中心附近林泉街林南街和平路可以說是餐飲一級戰區~\n",
    "光是便宜沒有用\n",
    "競爭太大總要有點實力才能活下來\n",
    "\n",
    "七點來到兩位用餐還是需要稍微等一下~\n",
    "小林食堂採用先付費點餐方式~\n",
    "不收服務費\n",
    "\n",
    "位子不多大概就只有20幾個位子而已\n",
    "用餐時間應該都需要等一下~\n",
    "不過用餐的空間還算OK桌子蠻大的\n",
    "冷氣也開得蠻強\n",
    "\n",
    "小林食堂每一份都是定食\n",
    "算是日式洋食的路線\n",
    "價位從$140到270\n",
    "份量很大算是不用花太多錢吃飽的好選擇~\n",
    "\n",
    "另外也可以選擇外帶便當~\n",
    "開會想來點不一樣也可以打電話訂購喔\n",
    "填好單子之後到櫃檯付費就可以了\n",
    "\n",
    "今天我們都有另外加點套餐~\n",
    "套餐附的飲料是瓶裝可樂\n",
    "算有誠意畢竟很多機器打出來的我覺得都好難喝XD\n",
    "\n",
    "過了10分鐘主食就送上來嘍\n",
    "配餐沙拉搭配的是和風醬\n",
    "每份定食都會附兩樣小菜\n",
    "蛋捲搭配的美乃滋還蠻開胃\n",
    "泡菜就是台式泡菜的口味~\n",
    "\n",
    "套餐A的黃金蛋\n",
    "不會太鹹\n",
    "不過沒什麼記憶點\n",
    "\n",
    "-雞排丼定食-$170\n",
    "\n",
    "雞排超大片\n",
    "我朋友是吃不完\n",
    "雞排肉還算嫩\n",
    "麵粉不會裹得太厚\n",
    "\n",
    "-日式唐揚炸雞定食-$160+B 套餐$50\n",
    "\n",
    "唐揚炸雞塊\n",
    "我覺得雞塊比較好吃~\n",
    "不過有點油哈哈\n",
    "雞塊不小喔一定會吃飽~\n",
    "我吃了五塊就吃不下了XD\n",
    "\n",
    "套餐B可樂餅\n",
    "不過下次應該不會點套餐了XD\n",
    "因為光定食就吃不完\n",
    "店家有提供免費的麥茶好喝\n",
    "小林食堂是走便宜大碗路線\n",
    "填飽肚子也好吃~\n",
    "\n",
    "炸物我覺得不會輸連鎖店太多\n",
    "食物端上來都是熱騰騰\n",
    "服務人員忙中也有禮貌\n",
    "算是一家CP值還不錯的簡餐店''',\"今天 的飯 那家 排骨\"]\n",
    "docs_new=cutwords(docs_new) \n",
    "X_new_counts= count_vect.transform(docs_new)\n",
    "\n"
   ]
  },
  {
   "cell_type": "code",
   "execution_count": null,
   "metadata": {},
   "outputs": [],
   "source": [
    "x_new_tfidf=tfidf_transformer.transform(X_new_counts)"
   ]
  },
  {
   "cell_type": "code",
   "execution_count": null,
   "metadata": {
    "collapsed": true
   },
   "outputs": [],
   "source": [
    "predicted =clf.predict(x_new_tfidf)"
   ]
  },
  {
   "cell_type": "code",
   "execution_count": null,
   "metadata": {},
   "outputs": [],
   "source": [
    "for doc,category in zip(docs_new,predicted):\n",
    "    print(\"%r=>%s\"%(doc,category))"
   ]
  },
  {
   "cell_type": "code",
   "execution_count": 60,
   "metadata": {},
   "outputs": [
    {
     "data": {
      "text/plain": [
       "array(['排骨、便當、鱈魚', '', '', '排骨、新化、麵'],\n",
       "      dtype='<U16')"
      ]
     },
     "execution_count": 60,
     "metadata": {},
     "output_type": "execute_result"
    }
   ],
   "source": [
    "predicted"
   ]
  },
  {
   "cell_type": "code",
   "execution_count": null,
   "metadata": {
    "collapsed": true
   },
   "outputs": [],
   "source": []
  },
  {
   "cell_type": "code",
   "execution_count": null,
   "metadata": {
    "collapsed": true
   },
   "outputs": [],
   "source": []
  },
  {
   "cell_type": "code",
   "execution_count": null,
   "metadata": {
    "collapsed": true
   },
   "outputs": [],
   "source": []
  },
  {
   "cell_type": "code",
   "execution_count": null,
   "metadata": {
    "collapsed": true
   },
   "outputs": [],
   "source": []
  },
  {
   "cell_type": "code",
   "execution_count": null,
   "metadata": {
    "collapsed": true
   },
   "outputs": [],
   "source": []
  },
  {
   "cell_type": "code",
   "execution_count": null,
   "metadata": {
    "collapsed": true
   },
   "outputs": [],
   "source": []
  },
  {
   "cell_type": "code",
   "execution_count": null,
   "metadata": {
    "collapsed": true
   },
   "outputs": [],
   "source": []
  },
  {
   "cell_type": "code",
   "execution_count": null,
   "metadata": {
    "collapsed": true
   },
   "outputs": [],
   "source": []
  },
  {
   "cell_type": "code",
   "execution_count": null,
   "metadata": {
    "collapsed": true
   },
   "outputs": [],
   "source": []
  },
  {
   "cell_type": "code",
   "execution_count": null,
   "metadata": {
    "collapsed": true
   },
   "outputs": [],
   "source": []
  }
 ],
 "metadata": {
  "kernelspec": {
   "display_name": "Python 3",
   "language": "python",
   "name": "python3"
  },
  "language_info": {
   "codemirror_mode": {
    "name": "ipython",
    "version": 3
   },
   "file_extension": ".py",
   "mimetype": "text/x-python",
   "name": "python",
   "nbconvert_exporter": "python",
   "pygments_lexer": "ipython3",
   "version": "3.6.1"
  }
 },
 "nbformat": 4,
 "nbformat_minor": 2
}

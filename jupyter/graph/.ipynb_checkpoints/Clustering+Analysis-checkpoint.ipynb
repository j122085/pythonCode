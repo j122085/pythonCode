{
 "cells": [
  {
   "cell_type": "markdown",
   "metadata": {},
   "source": [
    "# "
   ]
  },
  {
   "cell_type": "code",
   "execution_count": 1,
   "metadata": {
    "collapsed": true
   },
   "outputs": [],
   "source": [
    "import pymysql\n",
    "import redis\n",
    "\n",
    "#redis connection\n",
    "r = redis.StrictRedis(host='172.17.0.2', port=6379, db=0)\n",
    "\n",
    "#connect maria rdb\n",
    "db = pymysql.connect(\n",
    "        host='172.17.0.4',\n",
    "        user='root',\n",
    "        passwd='1234',\n",
    "        db='rental',\n",
    "        charset='utf8mb4'\n",
    "    )\n",
    "#設置cursor\n",
    "cursor = db.cursor()\n",
    "#cursor.execute('SELECT * FROM typeID;')"
   ]
  },
  {
   "cell_type": "code",
   "execution_count": 2,
   "metadata": {},
   "outputs": [
    {
     "data": {
      "text/plain": [
       "24799"
      ]
     },
     "execution_count": 2,
     "metadata": {},
     "output_type": "execute_result"
    }
   ],
   "source": [
    "len(r.keys(\"result:500:*\"))"
   ]
  },
  {
   "cell_type": "code",
   "execution_count": 3,
   "metadata": {},
   "outputs": [
    {
     "data": {
      "text/plain": [
       "24799"
      ]
     },
     "execution_count": 3,
     "metadata": {},
     "output_type": "execute_result"
    }
   ],
   "source": [
    "cursor.execute('SELECT ID, cityID, pet, rent, space FROM rentInfo;')"
   ]
  },
  {
   "cell_type": "code",
   "execution_count": 4,
   "metadata": {
    "collapsed": true
   },
   "outputs": [],
   "source": [
    "datas = cursor.fetchall()"
   ]
  },
  {
   "cell_type": "code",
   "execution_count": 5,
   "metadata": {},
   "outputs": [
    {
     "data": {
      "text/plain": [
       "((1, 251, 'N', 25000, Decimal('62.34')),\n",
       " (2, 251, 'N', 32000, Decimal('50.70')),\n",
       " (3, 251, 'N', 25000, Decimal('44.97')),\n",
       " (4, 251, 'N', 5000, Decimal('7.00')),\n",
       " (5, 239, 'N', 6000, Decimal('7.99')),\n",
       " (6, 251, 'N', 6500, Decimal('8.00')),\n",
       " (7, 251, 'N', 23000, Decimal('46.83')),\n",
       " (8, 111, 'N', 35000, Decimal('41.67')),\n",
       " (9, 111, 'N', 30000, Decimal('37.84')),\n",
       " (10, 111, 'N', 8300, Decimal('8.00')))"
      ]
     },
     "execution_count": 5,
     "metadata": {},
     "output_type": "execute_result"
    }
   ],
   "source": [
    "datas[:10]"
   ]
  },
  {
   "cell_type": "code",
   "execution_count": 6,
   "metadata": {},
   "outputs": [
    {
     "data": {
      "text/plain": [
       "tuple"
      ]
     },
     "execution_count": 6,
     "metadata": {},
     "output_type": "execute_result"
    }
   ],
   "source": [
    "type(datas[0])"
   ]
  },
  {
   "cell_type": "code",
   "execution_count": 7,
   "metadata": {
    "collapsed": true
   },
   "outputs": [],
   "source": [
    "import numpy as np\n",
    "import pandas as pd"
   ]
  },
  {
   "cell_type": "code",
   "execution_count": 8,
   "metadata": {
    "collapsed": true
   },
   "outputs": [],
   "source": [
    "df = pd.DataFrame(list(datas))"
   ]
  },
  {
   "cell_type": "code",
   "execution_count": 12,
   "metadata": {},
   "outputs": [
    {
     "data": {
      "text/html": [
       "<div>\n",
       "<table border=\"1\" class=\"dataframe\">\n",
       "  <thead>\n",
       "    <tr style=\"text-align: right;\">\n",
       "      <th></th>\n",
       "      <th>ID</th>\n",
       "      <th>cityID</th>\n",
       "      <th>pet</th>\n",
       "      <th>rent</th>\n",
       "      <th>space</th>\n",
       "    </tr>\n",
       "  </thead>\n",
       "  <tbody>\n",
       "    <tr>\n",
       "      <th>24794</th>\n",
       "      <td>24795</td>\n",
       "      <td>242</td>\n",
       "      <td>N</td>\n",
       "      <td>3000</td>\n",
       "      <td>3.00</td>\n",
       "    </tr>\n",
       "    <tr>\n",
       "      <th>24795</th>\n",
       "      <td>24796</td>\n",
       "      <td>111</td>\n",
       "      <td>N</td>\n",
       "      <td>12500</td>\n",
       "      <td>13.00</td>\n",
       "    </tr>\n",
       "    <tr>\n",
       "      <th>24796</th>\n",
       "      <td>24797</td>\n",
       "      <td>220</td>\n",
       "      <td>N</td>\n",
       "      <td>7000</td>\n",
       "      <td>6.00</td>\n",
       "    </tr>\n",
       "    <tr>\n",
       "      <th>24797</th>\n",
       "      <td>24798</td>\n",
       "      <td>104</td>\n",
       "      <td>N</td>\n",
       "      <td>25000</td>\n",
       "      <td>15.18</td>\n",
       "    </tr>\n",
       "    <tr>\n",
       "      <th>24798</th>\n",
       "      <td>24799</td>\n",
       "      <td>234</td>\n",
       "      <td>N</td>\n",
       "      <td>8000</td>\n",
       "      <td>7.00</td>\n",
       "    </tr>\n",
       "  </tbody>\n",
       "</table>\n",
       "</div>"
      ],
      "text/plain": [
       "          ID  cityID pet   rent  space\n",
       "24794  24795     242   N   3000   3.00\n",
       "24795  24796     111   N  12500  13.00\n",
       "24796  24797     220   N   7000   6.00\n",
       "24797  24798     104   N  25000  15.18\n",
       "24798  24799     234   N   8000   7.00"
      ]
     },
     "execution_count": 12,
     "metadata": {},
     "output_type": "execute_result"
    }
   ],
   "source": [
    "df.columns = [\"ID\", \"cityID\", \"pet\", \"rent\", \"space\"]\n",
    "df.tail()"
   ]
  },
  {
   "cell_type": "code",
   "execution_count": 55,
   "metadata": {},
   "outputs": [
    {
     "name": "stdout",
     "output_type": "stream",
     "text": [
      "b'result:1300:1468' {b\"b'baseEnviro:Towing'\": b'0', b\"b'baseEnviro:Sport'\": b'6', b\"b'baseEnviro:School'\": b'46', b\"b'baseEnviro:Train'\": b'0', b\"b'baseEnviro:Exam'\": b'7', b\"b'baseEnviro:DepartmentStore'\": b'3', b\"b'baseEnviro:Supermarket'\": b'10', b\"b'baseEnviro:Library'\": b'3', b\"b'baseEnviro:Pharmacy'\": b'39', b\"b'baseEnviro:Scenic'\": b'1', b\"b'baseEnviro:Police'\": b'2', b\"b'baseEnviro:FireStation'\": b'2', b\"b'baseEnviro:Museum'\": b'1', b\"b'baseEnviro:MRT'\": b'2', b\"b'baseEnviro:Hospital'\": b'2', b\"b'baseEnviro:UBike'\": b'13', b\"b'baseEnviro:Food'\": b'747', b\"b'baseEnviro:BookStore'\": b'6', b\"b'baseEnviro:Theater'\": b'1', b\"b'baseEnviro:Bus'\": b'898', b\"b'baseEnviro:Charger'\": b'2', b\"b'baseEnviro:Park'\": b'0'}\n",
      "b'result:1300:13434' {b\"b'baseEnviro:Towing'\": b'0', b\"b'baseEnviro:Sport'\": b'27', b\"b'baseEnviro:School'\": b'40', b\"b'baseEnviro:Train'\": b'0', b\"b'baseEnviro:Exam'\": b'10', b\"b'baseEnviro:DepartmentStore'\": b'1', b\"b'baseEnviro:Supermarket'\": b'8', b\"b'baseEnviro:Library'\": b'3', b\"b'baseEnviro:Pharmacy'\": b'5', b\"b'baseEnviro:Scenic'\": b'11', b\"b'baseEnviro:Police'\": b'3', b\"b'baseEnviro:FireStation'\": b'2', b\"b'baseEnviro:Museum'\": b'0', b\"b'baseEnviro:MRT'\": b'1', b\"b'baseEnviro:Hospital'\": b'0', b\"b'baseEnviro:UBike'\": b'11', b\"b'baseEnviro:Food'\": b'200', b\"b'baseEnviro:BookStore'\": b'2', b\"b'baseEnviro:Theater'\": b'0', b\"b'baseEnviro:Bus'\": b'191', b\"b'baseEnviro:Charger'\": b'3', b\"b'baseEnviro:Park'\": b'16'}\n",
      "b'result:1300:18536' {b\"b'baseEnviro:Towing'\": b'0', b\"b'baseEnviro:Sport'\": b'28', b\"b'baseEnviro:School'\": b'57', b\"b'baseEnviro:Train'\": b'0', b\"b'baseEnviro:Exam'\": b'25', b\"b'baseEnviro:DepartmentStore'\": b'0', b\"b'baseEnviro:Supermarket'\": b'12', b\"b'baseEnviro:Library'\": b'2', b\"b'baseEnviro:Pharmacy'\": b'11', b\"b'baseEnviro:Scenic'\": b'16', b\"b'baseEnviro:Police'\": b'6', b\"b'baseEnviro:FireStation'\": b'1', b\"b'baseEnviro:Museum'\": b'0', b\"b'baseEnviro:MRT'\": b'2', b\"b'baseEnviro:Hospital'\": b'2', b\"b'baseEnviro:UBike'\": b'12', b\"b'baseEnviro:Food'\": b'606', b\"b'baseEnviro:BookStore'\": b'2', b\"b'baseEnviro:Theater'\": b'0', b\"b'baseEnviro:Bus'\": b'364', b\"b'baseEnviro:Charger'\": b'3', b\"b'baseEnviro:Park'\": b'9'}\n"
     ]
    }
   ],
   "source": [
    "for key in r.keys(\"result:1300:*\")[:3]:\n",
    "    print(key, r.hgetall(key))"
   ]
  },
  {
   "cell_type": "code",
   "execution_count": 74,
   "metadata": {
    "collapsed": true
   },
   "outputs": [],
   "source": [
    "datas_r500 = [r.hgetall(\"result:{radius}:{id}\".format(id=i,radius=500)) for i in df.ID]\n",
    "\n",
    "df_r500 = pd.DataFrame.from_dict(datas_r500, orient='columns')"
   ]
  },
  {
   "cell_type": "code",
   "execution_count": 90,
   "metadata": {},
   "outputs": [
    {
     "data": {
      "text/html": [
       "<div>\n",
       "<table border=\"1\" class=\"dataframe\">\n",
       "  <thead>\n",
       "    <tr style=\"text-align: right;\">\n",
       "      <th></th>\n",
       "      <th>baseEnviro:BookStore</th>\n",
       "      <th>baseEnviro:Bus</th>\n",
       "      <th>baseEnviro:Charger</th>\n",
       "      <th>baseEnviro:DepartmentStore</th>\n",
       "      <th>baseEnviro:Exam</th>\n",
       "      <th>baseEnviro:FireStation</th>\n",
       "      <th>baseEnviro:Food</th>\n",
       "      <th>baseEnviro:Hospital</th>\n",
       "      <th>baseEnviro:Library</th>\n",
       "      <th>baseEnviro:MRT</th>\n",
       "      <th>...</th>\n",
       "      <th>baseEnviro:Pharmacy</th>\n",
       "      <th>baseEnviro:Police</th>\n",
       "      <th>baseEnviro:Scenic</th>\n",
       "      <th>baseEnviro:School</th>\n",
       "      <th>baseEnviro:Sport</th>\n",
       "      <th>baseEnviro:Supermarket</th>\n",
       "      <th>baseEnviro:Theater</th>\n",
       "      <th>baseEnviro:Towing</th>\n",
       "      <th>baseEnviro:Train</th>\n",
       "      <th>baseEnviro:UBike</th>\n",
       "    </tr>\n",
       "  </thead>\n",
       "  <tbody>\n",
       "    <tr>\n",
       "      <th>0</th>\n",
       "      <td>1</td>\n",
       "      <td>20</td>\n",
       "      <td>0</td>\n",
       "      <td>0</td>\n",
       "      <td>2</td>\n",
       "      <td>0</td>\n",
       "      <td>20</td>\n",
       "      <td>0</td>\n",
       "      <td>0</td>\n",
       "      <td>0</td>\n",
       "      <td>...</td>\n",
       "      <td>0</td>\n",
       "      <td>0</td>\n",
       "      <td>0</td>\n",
       "      <td>10</td>\n",
       "      <td>2</td>\n",
       "      <td>1</td>\n",
       "      <td>0</td>\n",
       "      <td>0</td>\n",
       "      <td>0</td>\n",
       "      <td>1</td>\n",
       "    </tr>\n",
       "    <tr>\n",
       "      <th>1</th>\n",
       "      <td>0</td>\n",
       "      <td>0</td>\n",
       "      <td>0</td>\n",
       "      <td>0</td>\n",
       "      <td>0</td>\n",
       "      <td>0</td>\n",
       "      <td>0</td>\n",
       "      <td>0</td>\n",
       "      <td>0</td>\n",
       "      <td>0</td>\n",
       "      <td>...</td>\n",
       "      <td>0</td>\n",
       "      <td>0</td>\n",
       "      <td>0</td>\n",
       "      <td>0</td>\n",
       "      <td>0</td>\n",
       "      <td>0</td>\n",
       "      <td>0</td>\n",
       "      <td>0</td>\n",
       "      <td>0</td>\n",
       "      <td>0</td>\n",
       "    </tr>\n",
       "    <tr>\n",
       "      <th>2</th>\n",
       "      <td>0</td>\n",
       "      <td>10</td>\n",
       "      <td>0</td>\n",
       "      <td>0</td>\n",
       "      <td>0</td>\n",
       "      <td>0</td>\n",
       "      <td>42</td>\n",
       "      <td>0</td>\n",
       "      <td>0</td>\n",
       "      <td>0</td>\n",
       "      <td>...</td>\n",
       "      <td>0</td>\n",
       "      <td>0</td>\n",
       "      <td>1</td>\n",
       "      <td>0</td>\n",
       "      <td>2</td>\n",
       "      <td>0</td>\n",
       "      <td>0</td>\n",
       "      <td>0</td>\n",
       "      <td>0</td>\n",
       "      <td>0</td>\n",
       "    </tr>\n",
       "    <tr>\n",
       "      <th>3</th>\n",
       "      <td>2</td>\n",
       "      <td>37</td>\n",
       "      <td>1</td>\n",
       "      <td>0</td>\n",
       "      <td>2</td>\n",
       "      <td>2</td>\n",
       "      <td>327</td>\n",
       "      <td>1</td>\n",
       "      <td>1</td>\n",
       "      <td>0</td>\n",
       "      <td>...</td>\n",
       "      <td>2</td>\n",
       "      <td>0</td>\n",
       "      <td>19</td>\n",
       "      <td>5</td>\n",
       "      <td>6</td>\n",
       "      <td>0</td>\n",
       "      <td>0</td>\n",
       "      <td>0</td>\n",
       "      <td>0</td>\n",
       "      <td>2</td>\n",
       "    </tr>\n",
       "    <tr>\n",
       "      <th>4</th>\n",
       "      <td>0</td>\n",
       "      <td>0</td>\n",
       "      <td>0</td>\n",
       "      <td>0</td>\n",
       "      <td>1</td>\n",
       "      <td>0</td>\n",
       "      <td>8</td>\n",
       "      <td>1</td>\n",
       "      <td>0</td>\n",
       "      <td>0</td>\n",
       "      <td>...</td>\n",
       "      <td>0</td>\n",
       "      <td>0</td>\n",
       "      <td>0</td>\n",
       "      <td>1</td>\n",
       "      <td>1</td>\n",
       "      <td>0</td>\n",
       "      <td>0</td>\n",
       "      <td>0</td>\n",
       "      <td>0</td>\n",
       "      <td>0</td>\n",
       "    </tr>\n",
       "  </tbody>\n",
       "</table>\n",
       "<p>5 rows × 22 columns</p>\n",
       "</div>"
      ],
      "text/plain": [
       "   baseEnviro:BookStore  baseEnviro:Bus  baseEnviro:Charger  \\\n",
       "0                     1              20                   0   \n",
       "1                     0               0                   0   \n",
       "2                     0              10                   0   \n",
       "3                     2              37                   1   \n",
       "4                     0               0                   0   \n",
       "\n",
       "   baseEnviro:DepartmentStore  baseEnviro:Exam  baseEnviro:FireStation  \\\n",
       "0                           0                2                       0   \n",
       "1                           0                0                       0   \n",
       "2                           0                0                       0   \n",
       "3                           0                2                       2   \n",
       "4                           0                1                       0   \n",
       "\n",
       "   baseEnviro:Food  baseEnviro:Hospital  baseEnviro:Library  baseEnviro:MRT  \\\n",
       "0               20                    0                   0               0   \n",
       "1                0                    0                   0               0   \n",
       "2               42                    0                   0               0   \n",
       "3              327                    1                   1               0   \n",
       "4                8                    1                   0               0   \n",
       "\n",
       "         ...         baseEnviro:Pharmacy  baseEnviro:Police  \\\n",
       "0        ...                           0                  0   \n",
       "1        ...                           0                  0   \n",
       "2        ...                           0                  0   \n",
       "3        ...                           2                  0   \n",
       "4        ...                           0                  0   \n",
       "\n",
       "   baseEnviro:Scenic  baseEnviro:School  baseEnviro:Sport  \\\n",
       "0                  0                 10                 2   \n",
       "1                  0                  0                 0   \n",
       "2                  1                  0                 2   \n",
       "3                 19                  5                 6   \n",
       "4                  0                  1                 1   \n",
       "\n",
       "   baseEnviro:Supermarket  baseEnviro:Theater  baseEnviro:Towing  \\\n",
       "0                       1                   0                  0   \n",
       "1                       0                   0                  0   \n",
       "2                       0                   0                  0   \n",
       "3                       0                   0                  0   \n",
       "4                       0                   0                  0   \n",
       "\n",
       "   baseEnviro:Train  baseEnviro:UBike  \n",
       "0                 0                 1  \n",
       "1                 0                 0  \n",
       "2                 0                 0  \n",
       "3                 0                 2  \n",
       "4                 0                 0  \n",
       "\n",
       "[5 rows x 22 columns]"
      ]
     },
     "execution_count": 90,
     "metadata": {},
     "output_type": "execute_result"
    }
   ],
   "source": [
    "df_r500.head()"
   ]
  },
  {
   "cell_type": "code",
   "execution_count": 77,
   "metadata": {
    "collapsed": true
   },
   "outputs": [],
   "source": [
    "df_r500.columns = df_r500.columns.map(lambda x: str(x).split('\\'')[1])\n",
    "\n",
    "df_r500 = df_r500.applymap(lambda x: int(x))\n",
    "\n",
    "test_df = df.join(df_r500)\n",
    "\n",
    "yn = {'N':0,'Y':1}\n",
    "test_df.pet = test_df.pet.map(lambda x: yn.get(x))"
   ]
  },
  {
   "cell_type": "code",
   "execution_count": 83,
   "metadata": {},
   "outputs": [
    {
     "data": {
      "text/html": [
       "<div>\n",
       "<table border=\"1\" class=\"dataframe\">\n",
       "  <thead>\n",
       "    <tr style=\"text-align: right;\">\n",
       "      <th></th>\n",
       "      <th>ID</th>\n",
       "      <th>cityID</th>\n",
       "      <th>pet</th>\n",
       "      <th>rent</th>\n",
       "      <th>space</th>\n",
       "      <th>baseEnviro:BookStore</th>\n",
       "      <th>baseEnviro:Bus</th>\n",
       "      <th>baseEnviro:Charger</th>\n",
       "      <th>baseEnviro:DepartmentStore</th>\n",
       "      <th>baseEnviro:Exam</th>\n",
       "      <th>...</th>\n",
       "      <th>baseEnviro:Pharmacy</th>\n",
       "      <th>baseEnviro:Police</th>\n",
       "      <th>baseEnviro:Scenic</th>\n",
       "      <th>baseEnviro:School</th>\n",
       "      <th>baseEnviro:Sport</th>\n",
       "      <th>baseEnviro:Supermarket</th>\n",
       "      <th>baseEnviro:Theater</th>\n",
       "      <th>baseEnviro:Towing</th>\n",
       "      <th>baseEnviro:Train</th>\n",
       "      <th>baseEnviro:UBike</th>\n",
       "    </tr>\n",
       "  </thead>\n",
       "  <tbody>\n",
       "    <tr>\n",
       "      <th>0</th>\n",
       "      <td>1</td>\n",
       "      <td>251</td>\n",
       "      <td>0</td>\n",
       "      <td>25000</td>\n",
       "      <td>62.34</td>\n",
       "      <td>1</td>\n",
       "      <td>20</td>\n",
       "      <td>0</td>\n",
       "      <td>0</td>\n",
       "      <td>2</td>\n",
       "      <td>...</td>\n",
       "      <td>0</td>\n",
       "      <td>0</td>\n",
       "      <td>0</td>\n",
       "      <td>10</td>\n",
       "      <td>2</td>\n",
       "      <td>1</td>\n",
       "      <td>0</td>\n",
       "      <td>0</td>\n",
       "      <td>0</td>\n",
       "      <td>1</td>\n",
       "    </tr>\n",
       "    <tr>\n",
       "      <th>1</th>\n",
       "      <td>2</td>\n",
       "      <td>251</td>\n",
       "      <td>0</td>\n",
       "      <td>32000</td>\n",
       "      <td>50.70</td>\n",
       "      <td>0</td>\n",
       "      <td>0</td>\n",
       "      <td>0</td>\n",
       "      <td>0</td>\n",
       "      <td>0</td>\n",
       "      <td>...</td>\n",
       "      <td>0</td>\n",
       "      <td>0</td>\n",
       "      <td>0</td>\n",
       "      <td>0</td>\n",
       "      <td>0</td>\n",
       "      <td>0</td>\n",
       "      <td>0</td>\n",
       "      <td>0</td>\n",
       "      <td>0</td>\n",
       "      <td>0</td>\n",
       "    </tr>\n",
       "    <tr>\n",
       "      <th>2</th>\n",
       "      <td>3</td>\n",
       "      <td>251</td>\n",
       "      <td>0</td>\n",
       "      <td>25000</td>\n",
       "      <td>44.97</td>\n",
       "      <td>0</td>\n",
       "      <td>10</td>\n",
       "      <td>0</td>\n",
       "      <td>0</td>\n",
       "      <td>0</td>\n",
       "      <td>...</td>\n",
       "      <td>0</td>\n",
       "      <td>0</td>\n",
       "      <td>1</td>\n",
       "      <td>0</td>\n",
       "      <td>2</td>\n",
       "      <td>0</td>\n",
       "      <td>0</td>\n",
       "      <td>0</td>\n",
       "      <td>0</td>\n",
       "      <td>0</td>\n",
       "    </tr>\n",
       "    <tr>\n",
       "      <th>3</th>\n",
       "      <td>4</td>\n",
       "      <td>251</td>\n",
       "      <td>0</td>\n",
       "      <td>5000</td>\n",
       "      <td>7.00</td>\n",
       "      <td>2</td>\n",
       "      <td>37</td>\n",
       "      <td>1</td>\n",
       "      <td>0</td>\n",
       "      <td>2</td>\n",
       "      <td>...</td>\n",
       "      <td>2</td>\n",
       "      <td>0</td>\n",
       "      <td>19</td>\n",
       "      <td>5</td>\n",
       "      <td>6</td>\n",
       "      <td>0</td>\n",
       "      <td>0</td>\n",
       "      <td>0</td>\n",
       "      <td>0</td>\n",
       "      <td>2</td>\n",
       "    </tr>\n",
       "    <tr>\n",
       "      <th>4</th>\n",
       "      <td>5</td>\n",
       "      <td>239</td>\n",
       "      <td>0</td>\n",
       "      <td>6000</td>\n",
       "      <td>7.99</td>\n",
       "      <td>0</td>\n",
       "      <td>0</td>\n",
       "      <td>0</td>\n",
       "      <td>0</td>\n",
       "      <td>1</td>\n",
       "      <td>...</td>\n",
       "      <td>0</td>\n",
       "      <td>0</td>\n",
       "      <td>0</td>\n",
       "      <td>1</td>\n",
       "      <td>1</td>\n",
       "      <td>0</td>\n",
       "      <td>0</td>\n",
       "      <td>0</td>\n",
       "      <td>0</td>\n",
       "      <td>0</td>\n",
       "    </tr>\n",
       "  </tbody>\n",
       "</table>\n",
       "<p>5 rows × 27 columns</p>\n",
       "</div>"
      ],
      "text/plain": [
       "   ID  cityID  pet   rent  space  baseEnviro:BookStore  baseEnviro:Bus  \\\n",
       "0   1     251    0  25000  62.34                     1              20   \n",
       "1   2     251    0  32000  50.70                     0               0   \n",
       "2   3     251    0  25000  44.97                     0              10   \n",
       "3   4     251    0   5000   7.00                     2              37   \n",
       "4   5     239    0   6000   7.99                     0               0   \n",
       "\n",
       "   baseEnviro:Charger  baseEnviro:DepartmentStore  baseEnviro:Exam  \\\n",
       "0                   0                           0                2   \n",
       "1                   0                           0                0   \n",
       "2                   0                           0                0   \n",
       "3                   1                           0                2   \n",
       "4                   0                           0                1   \n",
       "\n",
       "         ...         baseEnviro:Pharmacy  baseEnviro:Police  \\\n",
       "0        ...                           0                  0   \n",
       "1        ...                           0                  0   \n",
       "2        ...                           0                  0   \n",
       "3        ...                           2                  0   \n",
       "4        ...                           0                  0   \n",
       "\n",
       "   baseEnviro:Scenic  baseEnviro:School  baseEnviro:Sport  \\\n",
       "0                  0                 10                 2   \n",
       "1                  0                  0                 0   \n",
       "2                  1                  0                 2   \n",
       "3                 19                  5                 6   \n",
       "4                  0                  1                 1   \n",
       "\n",
       "   baseEnviro:Supermarket  baseEnviro:Theater  baseEnviro:Towing  \\\n",
       "0                       1                   0                  0   \n",
       "1                       0                   0                  0   \n",
       "2                       0                   0                  0   \n",
       "3                       0                   0                  0   \n",
       "4                       0                   0                  0   \n",
       "\n",
       "   baseEnviro:Train  baseEnviro:UBike  \n",
       "0                 0                 1  \n",
       "1                 0                 0  \n",
       "2                 0                 0  \n",
       "3                 0                 2  \n",
       "4                 0                 0  \n",
       "\n",
       "[5 rows x 27 columns]"
      ]
     },
     "execution_count": 83,
     "metadata": {},
     "output_type": "execute_result"
    }
   ],
   "source": [
    "test_df.head()"
   ]
  },
  {
   "cell_type": "code",
   "execution_count": 89,
   "metadata": {},
   "outputs": [
    {
     "data": {
      "text/html": [
       "<div>\n",
       "<table border=\"1\" class=\"dataframe\">\n",
       "  <thead>\n",
       "    <tr style=\"text-align: right;\">\n",
       "      <th></th>\n",
       "      <th>pet</th>\n",
       "      <th>baseEnviro:BookStore</th>\n",
       "      <th>baseEnviro:Bus</th>\n",
       "      <th>baseEnviro:Charger</th>\n",
       "      <th>baseEnviro:DepartmentStore</th>\n",
       "      <th>baseEnviro:Exam</th>\n",
       "      <th>baseEnviro:FireStation</th>\n",
       "      <th>baseEnviro:Food</th>\n",
       "      <th>baseEnviro:Hospital</th>\n",
       "      <th>baseEnviro:Library</th>\n",
       "      <th>...</th>\n",
       "      <th>baseEnviro:Pharmacy</th>\n",
       "      <th>baseEnviro:Police</th>\n",
       "      <th>baseEnviro:Scenic</th>\n",
       "      <th>baseEnviro:School</th>\n",
       "      <th>baseEnviro:Sport</th>\n",
       "      <th>baseEnviro:Supermarket</th>\n",
       "      <th>baseEnviro:Theater</th>\n",
       "      <th>baseEnviro:Towing</th>\n",
       "      <th>baseEnviro:Train</th>\n",
       "      <th>baseEnviro:UBike</th>\n",
       "    </tr>\n",
       "  </thead>\n",
       "  <tbody>\n",
       "    <tr>\n",
       "      <th>0</th>\n",
       "      <td>0</td>\n",
       "      <td>1</td>\n",
       "      <td>20</td>\n",
       "      <td>0</td>\n",
       "      <td>0</td>\n",
       "      <td>2</td>\n",
       "      <td>0</td>\n",
       "      <td>20</td>\n",
       "      <td>0</td>\n",
       "      <td>0</td>\n",
       "      <td>...</td>\n",
       "      <td>0</td>\n",
       "      <td>0</td>\n",
       "      <td>0</td>\n",
       "      <td>10</td>\n",
       "      <td>2</td>\n",
       "      <td>1</td>\n",
       "      <td>0</td>\n",
       "      <td>0</td>\n",
       "      <td>0</td>\n",
       "      <td>1</td>\n",
       "    </tr>\n",
       "    <tr>\n",
       "      <th>1</th>\n",
       "      <td>0</td>\n",
       "      <td>0</td>\n",
       "      <td>0</td>\n",
       "      <td>0</td>\n",
       "      <td>0</td>\n",
       "      <td>0</td>\n",
       "      <td>0</td>\n",
       "      <td>0</td>\n",
       "      <td>0</td>\n",
       "      <td>0</td>\n",
       "      <td>...</td>\n",
       "      <td>0</td>\n",
       "      <td>0</td>\n",
       "      <td>0</td>\n",
       "      <td>0</td>\n",
       "      <td>0</td>\n",
       "      <td>0</td>\n",
       "      <td>0</td>\n",
       "      <td>0</td>\n",
       "      <td>0</td>\n",
       "      <td>0</td>\n",
       "    </tr>\n",
       "    <tr>\n",
       "      <th>2</th>\n",
       "      <td>0</td>\n",
       "      <td>0</td>\n",
       "      <td>10</td>\n",
       "      <td>0</td>\n",
       "      <td>0</td>\n",
       "      <td>0</td>\n",
       "      <td>0</td>\n",
       "      <td>42</td>\n",
       "      <td>0</td>\n",
       "      <td>0</td>\n",
       "      <td>...</td>\n",
       "      <td>0</td>\n",
       "      <td>0</td>\n",
       "      <td>1</td>\n",
       "      <td>0</td>\n",
       "      <td>2</td>\n",
       "      <td>0</td>\n",
       "      <td>0</td>\n",
       "      <td>0</td>\n",
       "      <td>0</td>\n",
       "      <td>0</td>\n",
       "    </tr>\n",
       "    <tr>\n",
       "      <th>3</th>\n",
       "      <td>0</td>\n",
       "      <td>2</td>\n",
       "      <td>37</td>\n",
       "      <td>1</td>\n",
       "      <td>0</td>\n",
       "      <td>2</td>\n",
       "      <td>2</td>\n",
       "      <td>327</td>\n",
       "      <td>1</td>\n",
       "      <td>1</td>\n",
       "      <td>...</td>\n",
       "      <td>2</td>\n",
       "      <td>0</td>\n",
       "      <td>19</td>\n",
       "      <td>5</td>\n",
       "      <td>6</td>\n",
       "      <td>0</td>\n",
       "      <td>0</td>\n",
       "      <td>0</td>\n",
       "      <td>0</td>\n",
       "      <td>2</td>\n",
       "    </tr>\n",
       "    <tr>\n",
       "      <th>4</th>\n",
       "      <td>0</td>\n",
       "      <td>0</td>\n",
       "      <td>0</td>\n",
       "      <td>0</td>\n",
       "      <td>0</td>\n",
       "      <td>1</td>\n",
       "      <td>0</td>\n",
       "      <td>8</td>\n",
       "      <td>1</td>\n",
       "      <td>0</td>\n",
       "      <td>...</td>\n",
       "      <td>0</td>\n",
       "      <td>0</td>\n",
       "      <td>0</td>\n",
       "      <td>1</td>\n",
       "      <td>1</td>\n",
       "      <td>0</td>\n",
       "      <td>0</td>\n",
       "      <td>0</td>\n",
       "      <td>0</td>\n",
       "      <td>0</td>\n",
       "    </tr>\n",
       "  </tbody>\n",
       "</table>\n",
       "<p>5 rows × 23 columns</p>\n",
       "</div>"
      ],
      "text/plain": [
       "   pet  baseEnviro:BookStore  baseEnviro:Bus  baseEnviro:Charger  \\\n",
       "0    0                     1              20                   0   \n",
       "1    0                     0               0                   0   \n",
       "2    0                     0              10                   0   \n",
       "3    0                     2              37                   1   \n",
       "4    0                     0               0                   0   \n",
       "\n",
       "   baseEnviro:DepartmentStore  baseEnviro:Exam  baseEnviro:FireStation  \\\n",
       "0                           0                2                       0   \n",
       "1                           0                0                       0   \n",
       "2                           0                0                       0   \n",
       "3                           0                2                       2   \n",
       "4                           0                1                       0   \n",
       "\n",
       "   baseEnviro:Food  baseEnviro:Hospital  baseEnviro:Library        ...         \\\n",
       "0               20                    0                   0        ...          \n",
       "1                0                    0                   0        ...          \n",
       "2               42                    0                   0        ...          \n",
       "3              327                    1                   1        ...          \n",
       "4                8                    1                   0        ...          \n",
       "\n",
       "   baseEnviro:Pharmacy  baseEnviro:Police  baseEnviro:Scenic  \\\n",
       "0                    0                  0                  0   \n",
       "1                    0                  0                  0   \n",
       "2                    0                  0                  1   \n",
       "3                    2                  0                 19   \n",
       "4                    0                  0                  0   \n",
       "\n",
       "   baseEnviro:School  baseEnviro:Sport  baseEnviro:Supermarket  \\\n",
       "0                 10                 2                       1   \n",
       "1                  0                 0                       0   \n",
       "2                  0                 2                       0   \n",
       "3                  5                 6                       0   \n",
       "4                  1                 1                       0   \n",
       "\n",
       "   baseEnviro:Theater  baseEnviro:Towing  baseEnviro:Train  baseEnviro:UBike  \n",
       "0                   0                  0                 0                 1  \n",
       "1                   0                  0                 0                 0  \n",
       "2                   0                  0                 0                 0  \n",
       "3                   0                  0                 0                 2  \n",
       "4                   0                  0                 0                 0  \n",
       "\n",
       "[5 rows x 23 columns]"
      ]
     },
     "execution_count": 89,
     "metadata": {},
     "output_type": "execute_result"
    }
   ],
   "source": [
    "exp_var = ['pet']\n",
    "exp_var.extend(df_r500.columns)\n",
    "test_df[exp_var].head()"
   ]
  },
  {
   "cell_type": "code",
   "execution_count": 100,
   "metadata": {},
   "outputs": [
    {
     "name": "stderr",
     "output_type": "stream",
     "text": [
      "/opt/conda/lib/python3.6/site-packages/sklearn/utils/validation.py:429: DataConversionWarning: Data with input dtype int64 was converted to float64 by the normalize function.\n",
      "  warnings.warn(msg, _DataConversionWarning)\n"
     ]
    }
   ],
   "source": [
    "from sklearn.preprocessing import Normalizer\n",
    "\n",
    "nml = Normalizer()\n",
    "X_all_nml = nml.fit_transform(test_df[exp_var])\n"
   ]
  },
  {
   "cell_type": "code",
   "execution_count": 138,
   "metadata": {},
   "outputs": [
    {
     "data": {
      "text/plain": [
       "array([[ 0.        ,  0.03296902,  0.65938047,  0.        ,  0.        ,\n",
       "         0.06593805,  0.        ,  0.65938047,  0.        ,  0.        ,\n",
       "         0.        ,  0.        ,  0.09890707,  0.        ,  0.        ,\n",
       "         0.        ,  0.32969024,  0.06593805,  0.03296902,  0.        ,\n",
       "         0.        ,  0.        ,  0.03296902],\n",
       "       [ 0.        ,  0.        ,  0.        ,  0.        ,  0.        ,\n",
       "         0.        ,  0.        ,  0.        ,  0.        ,  0.        ,\n",
       "         0.        ,  0.        ,  0.        ,  0.        ,  0.        ,\n",
       "         0.        ,  0.        ,  0.        ,  0.        ,  0.        ,\n",
       "         0.        ,  0.        ,  0.        ],\n",
       "       [ 0.        ,  0.        ,  0.2313105 ,  0.        ,  0.        ,\n",
       "         0.        ,  0.        ,  0.9715041 ,  0.        ,  0.        ,\n",
       "         0.        ,  0.        ,  0.        ,  0.        ,  0.        ,\n",
       "         0.02313105,  0.        ,  0.0462621 ,  0.        ,  0.        ,\n",
       "         0.        ,  0.        ,  0.        ],\n",
       "       [ 0.        ,  0.00606453,  0.11219387,  0.00303227,  0.        ,\n",
       "         0.00606453,  0.00606453,  0.99155121,  0.00303227,  0.00303227,\n",
       "         0.        ,  0.        ,  0.01212907,  0.00606453,  0.        ,\n",
       "         0.05761307,  0.01516133,  0.0181936 ,  0.        ,  0.        ,\n",
       "         0.        ,  0.        ,  0.00606453],\n",
       "       [ 0.        ,  0.        ,  0.        ,  0.        ,  0.        ,\n",
       "         0.12126781,  0.        ,  0.9701425 ,  0.12126781,  0.        ,\n",
       "         0.        ,  0.        ,  0.        ,  0.        ,  0.        ,\n",
       "         0.        ,  0.12126781,  0.12126781,  0.        ,  0.        ,\n",
       "         0.        ,  0.        ,  0.        ]])"
      ]
     },
     "execution_count": 138,
     "metadata": {},
     "output_type": "execute_result"
    }
   ],
   "source": [
    "X_all_nml[:5]"
   ]
  },
  {
   "cell_type": "code",
   "execution_count": 101,
   "metadata": {},
   "outputs": [
    {
     "name": "stdout",
     "output_type": "stream",
     "text": [
      "\n",
      "Eigenvalues \n",
      "[  1.49445831e-01   2.35649708e-02   9.46367277e-03   3.01599073e-03\n",
      "   2.27325014e-03   1.91525754e-03   1.53687738e-03   7.80692758e-04\n",
      "   6.93028234e-04   4.37106659e-04   3.65023972e-04   2.80645396e-04\n",
      "   2.27476115e-04   1.51955489e-04   1.15363197e-04   8.37912483e-05\n",
      "   3.99960601e-05   7.93332696e-06   1.02142823e-05   1.28906362e-05\n",
      "   1.57569096e-05   1.93371114e-05   1.81290833e-05]\n"
     ]
    }
   ],
   "source": [
    "cov_mat = np.cov(X_all_nml.T)\n",
    "eigen_vals, eigen_vecs = np.linalg.eig(cov_mat)\n",
    "\n",
    "print('\\nEigenvalues \\n%s' % eigen_vals)"
   ]
  },
  {
   "cell_type": "code",
   "execution_count": 102,
   "metadata": {},
   "outputs": [
    {
     "data": {
      "text/plain": [
       "([0.76845704767901013,\n",
       "  0.12117211817306273,\n",
       "  0.048662622354084126,\n",
       "  0.015508357205361015,\n",
       "  0.011689152360104692,\n",
       "  0.0098483386636335872,\n",
       "  0.0079026912035355321,\n",
       "  0.0040143565617351022,\n",
       "  0.0035635817170444057,\n",
       "  0.0022476217030346665,\n",
       "  0.0018769693472581999,\n",
       "  0.0014430909927839839,\n",
       "  0.0011696922064764342,\n",
       "  0.00078136182157496231,\n",
       "  0.00059320264331171003,\n",
       "  0.00043085829102679582,\n",
       "  0.00020566150351168303,\n",
       "  9.9432278707461684e-05,\n",
       "  9.3220545132816348e-05,\n",
       "  8.1022723524245221e-05,\n",
       "  6.6284219541974245e-05,\n",
       "  5.2522289728909107e-05,\n",
       "  4.0793516814672669e-05],\n",
       " array([ 0.76845705,  0.88962917,  0.93829179,  0.95380015,  0.9654893 ,\n",
       "         0.97533764,  0.98324033,  0.98725468,  0.99081827,  0.99306589,\n",
       "         0.99494286,  0.99638595,  0.99755564,  0.998337  ,  0.9989302 ,\n",
       "         0.99936106,  0.99956672,  0.99966616,  0.99975938,  0.9998404 ,\n",
       "         0.99990668,  0.99995921,  1.        ]))"
      ]
     },
     "execution_count": 102,
     "metadata": {},
     "output_type": "execute_result"
    }
   ],
   "source": [
    "tot = sum(eigen_vals)\n",
    "# 將特徵值排序  並計算百分比\n",
    "var_exp = [(i / tot) for i in sorted(eigen_vals, reverse=True)]\n",
    "# 加總\n",
    "cum_var_exp = np.cumsum(var_exp)\n",
    "\n",
    "var_exp ,cum_var_exp"
   ]
  },
  {
   "cell_type": "code",
   "execution_count": 98,
   "metadata": {},
   "outputs": [
    {
     "data": {
      "text/plain": [
       "23"
      ]
     },
     "execution_count": 98,
     "metadata": {},
     "output_type": "execute_result"
    }
   ],
   "source": [
    "len(var_exp)"
   ]
  },
  {
   "cell_type": "code",
   "execution_count": 103,
   "metadata": {},
   "outputs": [
    {
     "data": {
      "image/png": "[encoded data removed]",
      "text/plain": [
       "<matplotlib.figure.Figure at 0x7f7879b3beb8>"
      ]
     },
     "metadata": {},
     "output_type": "display_data"
    }
   ],
   "source": [
    "import matplotlib.pyplot as plt\n",
    "\n",
    "\n",
    "plt.bar(range(0, 23), var_exp, alpha=0.5, align='center',\n",
    "        label='individual explained variance')\n",
    "plt.step(range(0, 23), cum_var_exp, where='mid',\n",
    "         label='cumulative explained variance')\n",
    "plt.ylabel('Explained variance ratio')\n",
    "plt.xlabel('Principal components')\n",
    "plt.legend(loc='best')\n",
    "plt.tight_layout()\n",
    "\n",
    "plt.show()"
   ]
  },
  {
   "cell_type": "code",
   "execution_count": 105,
   "metadata": {
    "collapsed": true
   },
   "outputs": [],
   "source": [
    "# Make a list of (eigenvalue, eigenvector) tuples\n",
    "eigen_pairs = [(np.abs(eigen_vals[i]), eigen_vecs[:, i])\n",
    "               for i in range(len(eigen_vals))]\n",
    "\n",
    "# Sort the (eigenvalue, eigenvector) tuples from high to low\n",
    "\n",
    "eigen_pairs.sort(reverse=True)\n"
   ]
  },
  {
   "cell_type": "code",
   "execution_count": 106,
   "metadata": {},
   "outputs": [
    {
     "data": {
      "text/plain": [
       "[(0.14944583094503722,\n",
       "  array([  4.06363628e-03,  -2.34907997e-03,   7.21958488e-01,\n",
       "           1.99618288e-03,  -1.73726644e-03,  -6.93697552e-03,\n",
       "          -6.29176591e-04,  -6.91481055e-01,  -1.15610823e-03,\n",
       "           5.32338511e-04,   4.43344582e-04,  -1.64080068e-05,\n",
       "          -1.07641687e-03,   5.78184514e-03,  -4.88954614e-04,\n",
       "          -5.72162904e-03,  -6.59860832e-03,  -2.06584609e-02,\n",
       "          -6.97106736e-04,  -1.11695073e-03,  -2.13832262e-04,\n",
       "           2.22679214e-04,   3.28872261e-03])),\n",
       " (0.023564970797571135,\n",
       "  array([  1.59542282e-01,  -2.32594831e-03,  -6.55577203e-01,\n",
       "           1.51030977e-02,  -1.77947697e-03,   1.63831843e-02,\n",
       "           5.56497635e-03,  -6.90684147e-01,   1.19701594e-03,\n",
       "           1.17856337e-02,  -4.73267150e-03,  -1.20440549e-04,\n",
       "           7.79904762e-02,  -4.16591966e-02,   1.69810001e-02,\n",
       "           7.78354101e-02,   1.62111753e-01,   1.54382848e-01,\n",
       "           4.85062061e-03,  -1.14119978e-03,   8.98436580e-04,\n",
       "           1.24005735e-03,   5.21078421e-02])),\n",
       " (0.0094636727656226636,\n",
       "  array([  7.79798661e-02,  -6.30776237e-03,  -1.76882963e-01,\n",
       "          -2.79092665e-02,   4.02399737e-03,  -1.04694748e-01,\n",
       "          -2.12037040e-02,  -1.61311821e-01,  -3.01231962e-03,\n",
       "          -6.00559337e-02,   4.31250064e-04,   5.85271431e-04,\n",
       "          -2.66477423e-01,  -5.17019534e-03,  -5.08765239e-02,\n",
       "          -1.11445761e-01,  -7.33087292e-01,  -4.90120384e-01,\n",
       "          -7.04435983e-02,   2.06697167e-03,  -1.91499839e-03,\n",
       "          -3.74096481e-03,  -2.28218125e-01])),\n",
       " (0.0030159907260239411,\n",
       "  array([  9.83453916e-01,   7.31658599e-04,   1.16640379e-01,\n",
       "           3.87298675e-03,  -2.10081235e-04,   6.68339724e-04,\n",
       "          -1.97294571e-03,   1.26783879e-01,  -1.70889985e-03,\n",
       "           6.18259322e-03,   1.73588709e-03,  -1.05489773e-03,\n",
       "           8.17457818e-03,   1.47577408e-02,   2.78874965e-03,\n",
       "          -3.19447039e-02,   2.49272165e-02,   3.20093066e-02,\n",
       "           7.00286423e-03,  -3.55725301e-04,  -9.16566757e-04,\n",
       "          -1.46379125e-03,   7.94409380e-03])),\n",
       " (0.0022732501351574287,\n",
       "  array([  4.63636124e-03,   1.25006986e-02,  -4.38579620e-02,\n",
       "          -7.13182162e-02,  -3.02630543e-03,   9.31459425e-02,\n",
       "          -5.04598370e-03,  -3.32891408e-02,   2.23224777e-03,\n",
       "          -1.38123856e-02,  -1.90208259e-03,  -3.20442855e-04,\n",
       "          -3.40433027e-01,   8.97245929e-02,  -3.01982588e-02,\n",
       "          -3.29431854e-01,   6.24286917e-01,  -5.57416966e-01,\n",
       "           1.40133556e-02,  -2.41435222e-03,  -8.26443141e-04,\n",
       "          -1.05857649e-02,  -2.20564696e-01])),\n",
       " (0.0019152575403663121,\n",
       "  array([ -3.28557389e-02,  -4.00453752e-03,  -1.65948590e-02,\n",
       "          -2.44048489e-02,   2.15160783e-03,  -4.98460114e-02,\n",
       "          -4.65141306e-03,  -2.43316073e-02,   6.82677994e-03,\n",
       "           3.80049294e-02,   1.29898901e-03,  -5.29520048e-03,\n",
       "          -2.19310393e-01,  -5.51810145e-03,   2.62410473e-02,\n",
       "          -8.18465579e-01,  -1.07282449e-01,   5.08162210e-01,\n",
       "          -5.30713507e-02,  -3.16959796e-05,   8.81685267e-04,\n",
       "          -1.14578820e-02,  -4.49541534e-02])),\n",
       " (0.0015368773793948286,\n",
       "  array([ -5.28238841e-03,  -1.25096247e-04,  -2.71605514e-02,\n",
       "           8.40556914e-03,   1.07667759e-03,   8.67949304e-02,\n",
       "           1.61662204e-02,  -1.34571773e-02,  -6.86520605e-03,\n",
       "           2.52698859e-02,  -3.38980410e-03,  -1.16672592e-02,\n",
       "           7.28990452e-01,  -1.32328178e-03,   6.91950560e-03,\n",
       "          -4.44541102e-01,  -6.73343034e-02,  -3.72071388e-01,\n",
       "           8.93054005e-02,   4.67630343e-03,   2.22882330e-03,\n",
       "          -3.55549612e-03,   3.32075288e-01])),\n",
       " (0.00078069275815758981,\n",
       "  array([-0.00118138,  0.01314584,  0.0157926 , -0.09222177, -0.00229854,\n",
       "          0.14279767,  0.00728964,  0.00559851,  0.0098213 , -0.06003099,\n",
       "         -0.01219688,  0.00267425,  0.44432101, -0.09481685,  0.01072763,\n",
       "         -0.00655479,  0.020737  ,  0.11449045, -0.07755271, -0.00254608,\n",
       "         -0.00215948, -0.0072353 , -0.8605516 ])),\n",
       " (0.00069302823424257113,\n",
       "  array([  1.07771648e-03,   5.88971447e-03,  -7.30783884e-03,\n",
       "           7.98219399e-03,  -5.62509822e-03,   9.33885500e-01,\n",
       "           2.15777762e-02,  -1.51882186e-02,   2.60063483e-02,\n",
       "          -2.63805193e-02,  -2.46609410e-03,  -9.09629869e-03,\n",
       "          -1.24079239e-01,   2.42458507e-01,   4.40320367e-03,\n",
       "           2.11855466e-02,  -1.59326931e-01,   6.15012426e-02,\n",
       "           1.35464375e-01,  -5.72616628e-03,   3.73410885e-04,\n",
       "           1.12984325e-03,   5.75640172e-02])),\n",
       " (0.0004371066594738581,\n",
       "  array([  8.57410601e-03,   9.86479538e-03,   2.84919583e-02,\n",
       "           1.42260286e-01,   9.61937721e-03,   2.42201025e-01,\n",
       "           1.33103442e-02,   2.21200882e-02,  -1.55135691e-04,\n",
       "          -2.51308220e-02,  -9.08424503e-03,   1.55096009e-02,\n",
       "          -1.01336113e-01,  -9.42932889e-01,  -6.99952878e-02,\n",
       "          -2.89691005e-02,   2.27366712e-02,  -5.61190578e-02,\n",
       "          -5.89403606e-02,   5.81444572e-03,   1.22850607e-02,\n",
       "           4.65553451e-03,   7.69918081e-02])),\n",
       " (0.00036502397187530876,\n",
       "  array([ -6.27312320e-03,  -7.59739107e-04,  -3.94263224e-03,\n",
       "           9.48715788e-01,  -3.76517642e-03,  -5.08563470e-02,\n",
       "          -4.80235919e-03,  -2.36557529e-04,  -1.10285910e-03,\n",
       "          -3.71121612e-02,   3.86467473e-03,  -2.70929737e-03,\n",
       "           1.08554357e-02,   1.23615425e-01,  -1.80084725e-01,\n",
       "          -4.43544927e-02,   1.68895293e-02,  -3.87689333e-03,\n",
       "           1.67303723e-01,  -4.98415724e-03,   1.88413664e-03,\n",
       "           9.26011892e-03,  -1.32879663e-01])),\n",
       " (0.00028064539611846398,\n",
       "  array([ -3.54504665e-04,   4.21022680e-03,  -2.70021475e-03,\n",
       "          -2.10495467e-01,  -1.64303646e-03,  -3.04223996e-02,\n",
       "          -3.98502683e-01,  -4.89457063e-03,   1.58170787e-02,\n",
       "          -2.27315814e-01,  -1.50426089e-02,  -1.18574955e-02,\n",
       "           2.54872107e-02,   8.40526610e-05,  -8.18405105e-01,\n",
       "          -5.13242833e-03,   1.11923370e-02,   7.50225974e-02,\n",
       "           2.56777254e-01,  -1.51826479e-02,   4.98973883e-03,\n",
       "          -2.80244712e-02,   2.07014257e-02])),\n",
       " (0.00022747611499533319,\n",
       "  array([ 0.00205258,  0.01449437,  0.00251756,  0.12321981, -0.00257214,\n",
       "          0.11189318, -0.18671963,  0.00435268, -0.02603804, -0.13882806,\n",
       "          0.00971269, -0.00229898,  0.05830585,  0.12475913, -0.19147443,\n",
       "          0.001375  ,  0.04760499, -0.01138135, -0.92032344,  0.00249847,\n",
       "         -0.00453261, -0.00360928,  0.10989072])),\n",
       " (0.00015195548931028129,\n",
       "  array([ -3.31679208e-03,  -1.35793250e-02,   2.35119640e-04,\n",
       "           6.54515076e-02,   1.47698741e-03,   2.38834807e-02,\n",
       "          -8.91125429e-01,   1.18062690e-03,  -7.39588742e-02,\n",
       "           1.56646699e-01,  -1.34218600e-02,  -6.32670995e-02,\n",
       "          -2.33078191e-03,  -3.72432028e-02,   3.95676273e-01,\n",
       "           5.30740856e-03,  -4.87398739e-03,  -2.29895188e-02,\n",
       "           8.04182805e-02,  -1.03993583e-02,  -1.43050218e-02,\n",
       "          -2.67961087e-02,  -2.49116084e-02])),\n",
       " (0.0001153631972226266,\n",
       "  array([ 0.00130205, -0.00829641,  0.00246881,  0.01087104,  0.00206119,\n",
       "         -0.03952042, -0.02634233,  0.00146138,  0.01854714, -0.94380985,\n",
       "         -0.00282739, -0.00186332, -0.0037721 , -0.00651674,  0.30532154,\n",
       "         -0.02767699,  0.0249427 ,  0.02401747,  0.08681112,  0.01577516,\n",
       "          0.00983402, -0.00762759,  0.05681282])),\n",
       " (8.3791248341773698e-05,\n",
       "  array([ -1.66349595e-03,   4.02797468e-02,  -1.35534551e-03,\n",
       "          -1.31501014e-02,   1.28270146e-02,   1.86965608e-02,\n",
       "           6.62369459e-02,  -6.12775149e-04,  -9.94551463e-01,\n",
       "          -3.01693076e-02,  -2.48083275e-02,  -2.43113505e-02,\n",
       "          -6.75196855e-03,   5.19439838e-03,  -3.09065844e-02,\n",
       "          -2.99370488e-03,  -1.10268045e-03,   1.30430024e-02,\n",
       "           2.56056067e-02,   8.14729664e-03,   4.34271852e-03,\n",
       "           5.35427814e-03,  -8.44257792e-03])),\n",
       " (3.9996060129241587e-05,\n",
       "  array([ -1.06750685e-05,  -9.76983408e-01,   8.14669537e-04,\n",
       "          -2.87558319e-03,  -8.28402390e-02,   1.26406615e-02,\n",
       "           1.97298042e-02,   4.19723529e-03,  -3.60913327e-02,\n",
       "          -5.13864558e-04,   6.80177212e-02,  -1.73829256e-01,\n",
       "           1.93967773e-03,  -9.27688397e-03,  -1.83685192e-02,\n",
       "           8.84117227e-04,   1.25459552e-02,  -3.93498090e-03,\n",
       "          -1.38475484e-02,   6.33955752e-03,   3.06121444e-02,\n",
       "           4.69780973e-03,  -1.12887711e-02])),\n",
       " (1.9337111370214356e-05,\n",
       "  array([  1.33667928e-03,  -1.16927866e-01,   2.86368488e-03,\n",
       "           3.96259313e-03,   5.04179556e-02,  -2.05860550e-03,\n",
       "          -1.19955126e-02,   2.93865166e-03,   1.22442568e-02,\n",
       "           4.61454344e-03,  -9.21350414e-01,   2.85767737e-01,\n",
       "          -3.55301295e-03,   1.62671324e-02,   5.02331408e-03,\n",
       "          -4.68524713e-03,  -8.64988074e-05,  -1.00643532e-03,\n",
       "          -1.01149245e-02,   3.47567895e-02,   6.29339749e-02,\n",
       "           2.17364838e-01,   6.20433028e-03])),\n",
       " (1.8129083298279978e-05,\n",
       "  array([ -1.21877626e-04,   1.18675120e-01,   1.93573330e-03,\n",
       "           3.19051591e-03,   2.37750146e-01,  -8.54206377e-03,\n",
       "           6.04420795e-02,   4.54776834e-04,   4.12499313e-02,\n",
       "           2.15109196e-04,  -3.08114949e-01,  -8.91441022e-01,\n",
       "          -8.22727686e-03,  -6.25293183e-03,  -1.03885288e-02,\n",
       "           1.13923002e-02,   9.42153200e-04,   1.42615732e-03,\n",
       "          -1.24640104e-02,   7.93815418e-02,   6.05687804e-02,\n",
       "          -1.54512738e-01,   4.94391380e-04])),\n",
       " (1.5756909613988796e-05,\n",
       "  array([  8.29103063e-04,   3.68671134e-02,  -9.55818588e-04,\n",
       "          -1.54389370e-02,   1.31432480e-01,  -7.42891440e-04,\n",
       "          -2.60637330e-02,  -1.01889354e-03,   7.95919899e-03,\n",
       "          -1.11249420e-02,   1.67272089e-01,  -1.88106784e-01,\n",
       "          -1.27457893e-04,  -1.06240820e-03,  -1.19899561e-02,\n",
       "          -1.23799460e-02,   3.67797317e-03,  -2.60605316e-04,\n",
       "           4.90665202e-03,  -3.55801983e-03,  -3.83378765e-02,\n",
       "           9.56554433e-01,  -8.91905783e-03])),\n",
       " (1.2890636240389297e-05,\n",
       "  array([ -7.12983702e-05,   1.09889427e-01,  -6.10613248e-05,\n",
       "          -3.10063529e-03,  -9.04419607e-01,  -8.71036451e-03,\n",
       "           1.42042881e-02,   2.34037170e-03,   2.48283503e-04,\n",
       "          -5.73189994e-03,  -1.14925655e-01,  -2.23433250e-01,\n",
       "          -3.26409998e-03,  -1.25541263e-02,   4.69171672e-03,\n",
       "          -1.65222197e-03,  -5.61038641e-03,  -1.32650105e-03,\n",
       "          -4.18268976e-03,  -2.97876796e-01,   8.77893804e-02,\n",
       "           9.89711002e-02,   4.11618136e-03])),\n",
       " (1.021428231464603e-05,\n",
       "  array([  7.79678866e-04,   2.11658628e-02,  -9.91812452e-05,\n",
       "          -2.04388023e-03,   7.46426393e-02,  -9.48165814e-04,\n",
       "          -1.75349278e-02,  -4.74520023e-04,   9.59540565e-04,\n",
       "           1.19111319e-02,   9.17150624e-02,   5.34540132e-02,\n",
       "           1.10843505e-03,   1.20170347e-02,   7.30099500e-03,\n",
       "           1.18352360e-03,  -9.42429434e-04,  -1.10615630e-03,\n",
       "          -3.12561546e-03,   3.82321783e-03,   9.90696958e-01,\n",
       "           2.28315158e-02,  -5.16988368e-03])),\n",
       " (7.9333269646654629e-06,\n",
       "  array([ -2.33830468e-04,  -3.51024756e-02,   5.61120277e-05,\n",
       "           6.86564905e-04,   3.04775764e-01,  -2.26089686e-03,\n",
       "           1.60744538e-02,   1.01371541e-03,  -4.40585082e-03,\n",
       "          -1.19339429e-02,  -2.30990562e-02,   6.52221877e-03,\n",
       "           2.53984492e-03,  -3.16394597e-03,   1.12828615e-02,\n",
       "          -7.97638856e-04,  -4.45076479e-04,  -2.66948317e-03,\n",
       "          -7.56740072e-03,  -9.50210387e-01,  -1.54821520e-02,\n",
       "          -3.87981493e-02,   4.77416508e-03]))]"
      ]
     },
     "execution_count": 106,
     "metadata": {},
     "output_type": "execute_result"
    }
   ],
   "source": [
    "eigen_pairs"
   ]
  },
  {
   "cell_type": "code",
   "execution_count": 114,
   "metadata": {
    "scrolled": true
   },
   "outputs": [
    {
     "name": "stdout",
     "output_type": "stream",
     "text": [
      "Matrix W:\n",
      " [[  4.06363628e-03   1.59542282e-01]\n",
      " [ -2.34907997e-03  -2.32594831e-03]\n",
      " [  7.21958488e-01  -6.55577203e-01]\n",
      " [  1.99618288e-03   1.51030977e-02]\n",
      " [ -1.73726644e-03  -1.77947697e-03]\n",
      " [ -6.93697552e-03   1.63831843e-02]\n",
      " [ -6.29176591e-04   5.56497635e-03]\n",
      " [ -6.91481055e-01  -6.90684147e-01]\n",
      " [ -1.15610823e-03   1.19701594e-03]\n",
      " [  5.32338511e-04   1.17856337e-02]\n",
      " [  4.43344582e-04  -4.73267150e-03]\n",
      " [ -1.64080068e-05  -1.20440549e-04]\n",
      " [ -1.07641687e-03   7.79904762e-02]\n",
      " [  5.78184514e-03  -4.16591966e-02]\n",
      " [ -4.88954614e-04   1.69810001e-02]\n",
      " [ -5.72162904e-03   7.78354101e-02]\n",
      " [ -6.59860832e-03   1.62111753e-01]\n",
      " [ -2.06584609e-02   1.54382848e-01]\n",
      " [ -6.97106736e-04   4.85062061e-03]\n",
      " [ -1.11695073e-03  -1.14119978e-03]\n",
      " [ -2.13832262e-04   8.98436580e-04]\n",
      " [  2.22679214e-04   1.24005735e-03]\n",
      " [  3.28872261e-03   5.21078421e-02]]\n"
     ]
    }
   ],
   "source": [
    "# 取前兩名重要的向量  並排列整齊\n",
    "w = np.hstack((eigen_pairs[0][1][:, np.newaxis],\n",
    "               eigen_pairs[1][1][:, np.newaxis]))\n",
    "print('Matrix W:\\n', w)"
   ]
  },
  {
   "cell_type": "code",
   "execution_count": 115,
   "metadata": {
    "collapsed": true
   },
   "outputs": [],
   "source": [
    "X_pca = X_all_nml.dot(w)"
   ]
  },
  {
   "cell_type": "code",
   "execution_count": 112,
   "metadata": {
    "collapsed": true
   },
   "outputs": [],
   "source": [
    "# 直接使用scikit-learn實作\n",
    "from sklearn.cluster import KMeans\n",
    "# n_init=10, 隨機做十次  自動找出SSE最小的那一次\n",
    "# max_iter=300, 或是 tol=1e-04, 為中止條件\n",
    "km = KMeans(n_clusters=6, \n",
    "            init='random', \n",
    "            n_init=10, \n",
    "            max_iter=300,\n",
    "            tol=1e-04,\n",
    "            random_state=0)\n",
    "y_km = km.fit_predict(X_all_nml)"
   ]
  },
  {
   "cell_type": "code",
   "execution_count": 113,
   "metadata": {},
   "outputs": [
    {
     "data": {
      "text/plain": [
       "array([0, 1, 3, ..., 3, 5, 4], dtype=int32)"
      ]
     },
     "execution_count": 113,
     "metadata": {},
     "output_type": "execute_result"
    }
   ],
   "source": [
    "y_km"
   ]
  },
  {
   "cell_type": "code",
   "execution_count": 123,
   "metadata": {
    "collapsed": true
   },
   "outputs": [],
   "source": [
    "X = pd.DataFrame(X_pca,columns=['x','y'])\n",
    "X['y_km'] = y_km"
   ]
  },
  {
   "cell_type": "code",
   "execution_count": 131,
   "metadata": {
    "collapsed": true
   },
   "outputs": [
    {
     "data": {
      "text/plain": [
       "0        0.016003\n",
       "6       -0.117310\n",
       "8       -0.012518\n",
       "9        0.079192\n",
       "10      -0.034832\n",
       "13      -0.149879\n",
       "24      -0.089511\n",
       "25      -0.101980\n",
       "36      -0.128433\n",
       "39      -0.120955\n",
       "48       0.040528\n",
       "49       0.025096\n",
       "60      -0.031450\n",
       "66       0.017940\n",
       "72      -0.140304\n",
       "75       0.104468\n",
       "76      -0.180853\n",
       "80      -0.101999\n",
       "84      -0.137164\n",
       "85      -0.157543\n",
       "97      -0.108068\n",
       "103      0.016003\n",
       "120     -0.062366\n",
       "129      0.019609\n",
       "135      0.019609\n",
       "141     -0.103799\n",
       "143     -0.103799\n",
       "145      0.019942\n",
       "151     -0.115129\n",
       "154     -0.046878\n",
       "           ...   \n",
       "24667   -0.006015\n",
       "24676    0.084129\n",
       "24677    0.067166\n",
       "24688   -0.035724\n",
       "24691   -0.186572\n",
       "24694    0.076103\n",
       "24703   -0.065143\n",
       "24706   -0.047231\n",
       "24710   -0.114212\n",
       "24711    0.106782\n",
       "24714   -0.035724\n",
       "24716   -0.026116\n",
       "24720   -0.181299\n",
       "24723    0.058569\n",
       "24729   -0.172733\n",
       "24734   -0.098364\n",
       "24740   -0.020526\n",
       "24744    0.099537\n",
       "24746   -0.086954\n",
       "24747   -0.152509\n",
       "24752   -0.011395\n",
       "24755   -0.045349\n",
       "24759   -0.167493\n",
       "24760   -0.067066\n",
       "24778    0.072413\n",
       "24781   -0.059167\n",
       "24784   -0.089008\n",
       "24787   -0.113676\n",
       "24790   -0.183445\n",
       "24791   -0.187449\n",
       "Name: x, dtype: float64"
      ]
     },
     "execution_count": 131,
     "metadata": {},
     "output_type": "execute_result"
    }
   ],
   "source": [
    "X[y_km == 0]['x']"
   ]
  },
  {
   "cell_type": "code",
   "execution_count": 135,
   "metadata": {},
   "outputs": [
    {
     "data": {
      "image/png": "[encoded data removed]",
      "text/plain": [
       "<matplotlib.figure.Figure at 0x7f787aee2e80>"
      ]
     },
     "metadata": {},
     "output_type": "display_data"
    }
   ],
   "source": [
    "# 作圖\n",
    "\n",
    "colors = ['r', 'b', 'g', 'c', 'm', 'y']\n",
    "\n",
    "for l, c in zip(range(6), colors):\n",
    "    plt.scatter(X[y_km == l].x , \n",
    "                X[y_km == l].y, \n",
    "                c=c, label=l, s=10)\n",
    "\n",
    "plt.legend()\n",
    "plt.grid()\n",
    "plt.tight_layout()\n",
    "plt.show()"
   ]
  },
  {
   "cell_type": "code",
   "execution_count": 134,
   "metadata": {
    "collapsed": true
   },
   "outputs": [],
   "source": [
    "plt.savefig('./kmean.jpg')"
   ]
  },
  {
   "cell_type": "code",
   "execution_count": null,
   "metadata": {
    "collapsed": true
   },
   "outputs": [],
   "source": []
  }
 ],
 "metadata": {
  "kernelspec": {
   "display_name": "Python 3",
   "language": "python",
   "name": "python3"
  },
  "language_info": {
   "codemirror_mode": {
    "name": "ipython",
    "version": 3
   },
   "file_extension": ".py",
   "mimetype": "text/x-python",
   "name": "python",
   "nbconvert_exporter": "python",
   "pygments_lexer": "ipython3",
   "version": "3.6.1"
  }
 },
 "nbformat": 4,
 "nbformat_minor": 2
}

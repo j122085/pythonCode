{
 "cells": [
  {
   "cell_type": "code",
   "execution_count": 1,
   "metadata": {
    "collapsed": true
   },
   "outputs": [],
   "source": []
  },
  {
   "cell_type": "code",
   "execution_count": 9,
   "metadata": {},
   "outputs": [],
   "source": [
    "from bs4 import BeautifulSoup as bs\n",
    "import os\n",
    "import json\n",
    "a=[]\n",
    "for dname in os.listdir(r'D:\\pythonCode\\jupyter\\Crawling\\boringData\\ptt_tou\\text'):\n",
    "    with open(\"D:/pythonCode/jupyter/Crawling/boringData/ptt_tou/text/\"+dname,encoding='utf-8') as f:\n",
    "        text=f.read()\n",
    "        content=bs(text,'lxml').text\n",
    "        a.append(content)\n",
    "with open(\"D:/Data/testData/foodptt.json\",\"w\",encoding=\"utf-8\") as y:\n",
    "    json.dump(a,y)"
   ]
  },
  {
   "cell_type": "code",
   "execution_count": null,
   "metadata": {
    "collapsed": true
   },
   "outputs": [],
   "source": []
  }
 ],
 "metadata": {
  "kernelspec": {
   "display_name": "Python 3",
   "language": "python",
   "name": "python3"
  },
  "language_info": {
   "codemirror_mode": {
    "name": "ipython",
    "version": 3
   },
   "file_extension": ".py",
   "mimetype": "text/x-python",
   "name": "python",
   "nbconvert_exporter": "python",
   "pygments_lexer": "ipython3",
   "version": "3.6.1"
  }
 },
 "nbformat": 4,
 "nbformat_minor": 2
}

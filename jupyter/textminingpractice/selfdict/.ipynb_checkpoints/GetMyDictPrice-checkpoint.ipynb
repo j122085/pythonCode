{
 "cells": [
  {
   "cell_type": "code",
   "execution_count": null,
   "metadata": {},
   "outputs": [
    {
     "name": "stderr",
     "output_type": "stream",
     "text": [
      "Building prefix dict from D:\\WordLibrary\\JiebaUse\\jieba_dict.txt.big ...\n",
      "Loading model from cache C:\\Users\\Java\\AppData\\Local\\Temp\\jieba.uf3aabe1eaf7c86dda8313189b0c5c683.cache\n",
      "Loading model cost 1.075 seconds.\n",
      "Prefix dict has been built succesfully.\n"
     ]
    }
   ],
   "source": [
    "with open(\"D:\\Data\\csvtest\\MyDict.csv\") as f:\n",
    "    csv=f.read()\n",
    "x=[i.split(\",\")[1:] for i in csv.split(\"\\n\") if i.split(\",\")[0]!=\"\"]\n",
    "pins=[]\n",
    "for i in x:\n",
    "    for j in i:\n",
    "        pins.append(j)\n",
    "x=\"\\n\".join(pins)\n",
    "with open(\"D:\\Data\\csvtest\\pinjia.txt\",\"w\") as pin:\n",
    "    y=pin.write(x)\n",
    "\n",
    "with open(\"D:\\Data\\csvtest\\pinjia.txt\") as pin:\n",
    "    y=pin.read()\n",
    "pins=y.split(\"\\n\")\n",
    "\n",
    "with open(\"D:\\WordLibrary\\JiebaUse\\stopwords.txt\",encoding=\"utf8\") as stopp:\n",
    "    stop=stopp.read()\n",
    "stopwords=stop.split(\"\\n\")\n",
    "\n",
    "import json\n",
    "with open(\"D:\\Data\\JsonData\\TainanFood\\TainanUniqueXY.json\") as f:\n",
    "    data=json.load(f)\n",
    "names=[i[\"name\"] for i in data]\n",
    "styles=[i[\"style\"] for i in data]\n",
    "\n",
    "import jieba\n",
    "jieba.set_dictionary(\"D:\\WordLibrary\\JiebaUse\\jieba_dict.txt.big\")\n",
    "for i in pins:\n",
    "    if i !=\"\":\n",
    "        jieba.add_word(i)\n",
    "for i in names:\n",
    "    jieba.add_word(i)\n",
    "for i in styles:\n",
    "    jieba.add_word(i)\n"
   ]
  },
  {
   "cell_type": "code",
   "execution_count": null,
   "metadata": {
    "collapsed": true
   },
   "outputs": [],
   "source": [
    "x=[[j[\"content\"] for j in i[\"comment\"]] for i in data]\n",
    "N=[len(i) for i in x]\n",
    "contents=[\"  \".join(i) for i in x]\n",
    "\n",
    "contentscut=[]\n",
    "for i in contents:\n",
    "    words=jieba.cut(i)\n",
    "    contentcut=\" \".join([word for word in words if word not in stopwords and '\\u4e00' <= word <= '\\u9fff'])\n",
    "    contentscut.append(contentcut)\n",
    "contentscut[0]\n"
   ]
  },
  {
   "cell_type": "code",
   "execution_count": null,
   "metadata": {
    "collapsed": true
   },
   "outputs": [],
   "source": [
    "analyzetable=[]\n",
    "for name,style,n,contentcut in zip(names,styles,N,contentscut):\n",
    "    dictt={}\n",
    "    dictt[\"name\"]=name\n",
    "    dictt[\"style\"]=style\n",
    "    dictt[\"n\"]=n\n",
    "    dictt[\"contentcut\"]=contentcut\n",
    "    analyzetable.append(dictt)\n",
    "\n",
    "analyzetable[0]\n"
   ]
  },
  {
   "cell_type": "code",
   "execution_count": null,
   "metadata": {
    "scrolled": true
   },
   "outputs": [],
   "source": [
    "import json\n",
    "with open(\"D:\\Data\\JsonData\\TainanFood\\AnalyzeTable2.json\",\"w\") as pin:\n",
    "    json.dump(analyzetable,pin)"
   ]
  },
  {
   "cell_type": "markdown",
   "metadata": {},
   "source": [
    "# 由此開始跑"
   ]
  },
  {
   "cell_type": "code",
   "execution_count": null,
   "metadata": {},
   "outputs": [],
   "source": [
    "import json\n",
    "with open(\"D:\\Data\\JsonData\\TainanFood\\AnalyzeTable2.json\") as pin:\n",
    "    analyzetable=json.load(pin)"
   ]
  },
  {
   "cell_type": "code",
   "execution_count": null,
   "metadata": {
    "collapsed": true
   },
   "outputs": [],
   "source": [
    "with open(\"D:\\Data\\csvtest\\MyDict.csv\") as f:\n",
    "    csv=f.read()\n",
    "# x=[(float(i.split(\",\")[0]),i.split(\",\")[1:]) for i in csv.split(\"\\n\") if i.split(\",\")[0]!=\"\"]\n",
    "x=[{j:float(i.split(\",\")[0]) for j in i.split(\",\")[1:]} for i in csv.split(\"\\n\") if i.split(\",\")[0]!=\"\"]\n",
    "\n",
    "x"
   ]
  },
  {
   "cell_type": "code",
   "execution_count": null,
   "metadata": {
    "collapsed": true
   },
   "outputs": [],
   "source": [
    "import pandas\n",
    "from collections import Counter\n",
    "for i in analyzetable:\n",
    "    i[\"WordCount\"]=Counter(i[\"contentcut\"].split(\" \")) "
   ]
  },
  {
   "cell_type": "code",
   "execution_count": null,
   "metadata": {
    "collapsed": true
   },
   "outputs": [],
   "source": [
    "pindict={}\n",
    "for i in x:\n",
    "    pindict.update(i)"
   ]
  },
  {
   "cell_type": "code",
   "execution_count": null,
   "metadata": {
    "collapsed": true
   },
   "outputs": [],
   "source": [
    "#每家廠商\n",
    "for dien in analyzetable:\n",
    "    pinprice=0\n",
    "    for word in dien[\"WordCount\"]:\n",
    "        if word in pindict:\n",
    "            pinprice+=dien[\"WordCount\"][word]*pindict[word]\n",
    "    if dien['n']!=0:\n",
    "        dien[\"price\"]=(pinprice/dien[\"n\"])\n",
    "        "
   ]
  },
  {
   "cell_type": "code",
   "execution_count": null,
   "metadata": {
    "collapsed": true
   },
   "outputs": [],
   "source": [
    "for i in analyzetable:\n",
    "    try:\n",
    "        if i['price']>10:\n",
    "            print(i['price'])\n",
    "            print(i[\"name\"])\n",
    "    except:\n",
    "        pass"
   ]
  }
 ],
 "metadata": {
  "kernelspec": {
   "display_name": "Python 3",
   "language": "python",
   "name": "python3"
  },
  "language_info": {
   "codemirror_mode": {
    "name": "ipython",
    "version": 3
   },
   "file_extension": ".py",
   "mimetype": "text/x-python",
   "name": "python",
   "nbconvert_exporter": "python",
   "pygments_lexer": "ipython3",
   "version": "3.6.1"
  }
 },
 "nbformat": 4,
 "nbformat_minor": 2
}

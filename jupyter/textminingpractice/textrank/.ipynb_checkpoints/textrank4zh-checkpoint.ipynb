{
 "cells": [
  {
   "cell_type": "code",
   "execution_count": 1,
   "metadata": {
    "scrolled": true
   },
   "outputs": [
    {
     "name": "stdout",
     "output_type": "stream",
     "text": [
      "Collecting textrank4zh\n",
      "  Downloading textrank4zh-0.3.zip\n",
      "Requirement already satisfied: jieba>=0.35 in d:\\anaconda3\\lib\\site-packages (from textrank4zh)\n",
      "Requirement already satisfied: numpy>=1.7.1 in d:\\anaconda3\\lib\\site-packages (from textrank4zh)\n",
      "Requirement already satisfied: networkx>=1.9.1 in d:\\anaconda3\\lib\\site-packages (from textrank4zh)\n",
      "Requirement already satisfied: decorator>=3.4.0 in d:\\anaconda3\\lib\\site-packages (from networkx>=1.9.1->textrank4zh)\n",
      "Building wheels for collected packages: textrank4zh\n",
      "  Running setup.py bdist_wheel for textrank4zh: started\n",
      "  Running setup.py bdist_wheel for textrank4zh: finished with status 'done'\n",
      "  Stored in directory: C:\\Users\\Java\\AppData\\Local\\pip\\Cache\\wheels\\f7\\47\\0d\\96d8eaa812b9a02bf1ce9beb69e9cb4f62527446783ba66fce\n",
      "Successfully built textrank4zh\n",
      "Installing collected packages: textrank4zh\n",
      "Successfully installed textrank4zh-0.3\n"
     ]
    }
   ],
   "source": [
    "!pip install textrank4zh --user\n"
   ]
  },
  {
   "cell_type": "code",
   "execution_count": 6,
   "metadata": {
    "collapsed": true
   },
   "outputs": [],
   "source": [
    "import json\n",
    "with open(r'D:\\Data\\JsonData\\TainanFood\\final_tainan.json') as f:\n",
    "    rawdata=json.load(f)\n"
   ]
  },
  {
   "cell_type": "code",
   "execution_count": 25,
   "metadata": {},
   "outputs": [],
   "source": [
    "text= rawdata[650]['comment'][0]['content']\n",
    "# text=','.join([i['content'] for i in rawdata[1]['comment']])\n",
    "# sampleTextlist=[i['content'] for i in rawdata[0]['comment']]"
   ]
  },
  {
   "cell_type": "code",
   "execution_count": 26,
   "metadata": {},
   "outputs": [
    {
     "name": "stdout",
     "output_type": "stream",
     "text": [
      "关键词：\n",
      "愛玉 0.031082431880503213\n",
      "芒果 0.02220013857449147\n",
      "珍珠 0.016599506108817122\n",
      "時 0.01595048026818124\n",
      "愛 0.014709565307307219\n",
      "台南 0.014181966266522893\n",
      "來 0.012852020380291\n",
      "口味 0.011561110531131484\n",
      "後 0.010336252166619757\n",
      "荔枝 0.00984267382372706\n",
      "透心 0.008641915284719054\n",
      "華街 0.008581338560870191\n",
      "滋味 0.008443662814083298\n",
      "水果 0.008419153767390644\n",
      "愛玉冰 0.008364350766702711\n",
      "彩色 0.008030336603870378\n",
      "走 0.008004486090816276\n",
      "整體 0.007471198401061918\n",
      "味道 0.007351512488227725\n",
      "丫丫 0.007333786548277541\n",
      "\n",
      "关键短语：\n",
      "水果珍珠\n",
      "彩色珍珠\n",
      "愛來\n",
      "\n",
      "摘要：\n",
      "38 0.04153735366540879 露還蠻喜歡這碗芒果青的味道耶，酸香咕溜的～荔枝巧妃愛玉拿鐵$75用的是南傳鮮奶融入愛玉及荔枝水果珍珠\n",
      "24 0.03451348749018038 桂花鳯梨愛玉$45(冠軍愛玉)有別於一般單純賣愛玉冰的口味，佛都在愛玉口味延伸出的選擇性也不少,還有芒果青，桑葚，鳯梨，荔汁，蜂蜜，百香果．．．等～第一次就嚐嚐這冠軍口味吧\n",
      "45 0.03373318214775725 裡頭的水果珍珠也有著芒果的酸甜，且加了珍珠又有了愛玉，整杯喝起來頗有飽足感的\n"
     ]
    }
   ],
   "source": [
    "from __future__ import print_function\n",
    "\n",
    "import sys\n",
    "try:\n",
    "    reload(sys)\n",
    "    sys.setdefaultencoding('utf-8')\n",
    "except:\n",
    "    pass\n",
    "\n",
    "import codecs\n",
    "from textrank4zh import TextRank4Keyword, TextRank4Sentence\n",
    "\n",
    "\n",
    "\n",
    "# text = codecs.open('../test/doc/01.txt', 'r', 'utf-8').read()\n",
    "\n",
    "\n",
    "\n",
    "\n",
    "tr4w = TextRank4Keyword()\n",
    "\n",
    "tr4w.analyze(text=text, lower=True, window=2)  # py2中text必须是utf8编码的str或者unicode对象，py3中必须是utf8编码的bytes或者str对象\n",
    "\n",
    "print( '关键词：' )\n",
    "for item in tr4w.get_keywords(20, word_min_len=1):\n",
    "    print(item.word, item.weight)\n",
    "\n",
    "print()\n",
    "print( '关键短语：' )\n",
    "for phrase in tr4w.get_keyphrases(keywords_num=20, min_occur_num= 2):\n",
    "    print(phrase)\n",
    "\n",
    "tr4s = TextRank4Sentence()\n",
    "tr4s.analyze(text=text, lower=True, source = 'all_filters')\n",
    "\n",
    "print()\n",
    "print( '摘要：' )\n",
    "for item in tr4s.get_key_sentences(num=3):\n",
    "    print(item.index, item.weight, item.sentence)  # index是语句在文本中位置，weight是权重"
   ]
  },
  {
   "cell_type": "code",
   "execution_count": null,
   "metadata": {
    "collapsed": true
   },
   "outputs": [],
   "source": []
  }
 ],
 "metadata": {
  "kernelspec": {
   "display_name": "Python 3",
   "language": "python",
   "name": "python3"
  },
  "language_info": {
   "codemirror_mode": {
    "name": "ipython",
    "version": 3
   },
   "file_extension": ".py",
   "mimetype": "text/x-python",
   "name": "python",
   "nbconvert_exporter": "python",
   "pygments_lexer": "ipython3",
   "version": "3.6.1"
  }
 },
 "nbformat": 4,
 "nbformat_minor": 2
}

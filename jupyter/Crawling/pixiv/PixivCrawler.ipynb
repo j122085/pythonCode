{
 "cells": [
  {
   "cell_type": "code",
   "execution_count": 3,
   "metadata": {
    "collapsed": true
   },
   "outputs": [],
   "source": [
    "import json\n",
    "import math\n",
    "from collections import Counter\n",
    "import time\n",
    "from urllib.request import urlopen\n",
    "from urllib.request import urlretrieve\n",
    "import re\n",
    "\n",
    "from lxml import html\n",
    "from bs4 import BeautifulSoup\n",
    "import requests"
   ]
  },
  {
   "cell_type": "code",
   "execution_count": 3,
   "metadata": {
    "collapsed": true
   },
   "outputs": [],
   "source": [
    "##res = requests.get(\"https://www.pixiv.net/member_illust.php?mode=medium&illust_id=63732417\")"
   ]
  },
  {
   "cell_type": "code",
   "execution_count": 7,
   "metadata": {
    "collapsed": true
   },
   "outputs": [],
   "source": [
    "##singleImgePattern = re.compile('<div class=\"_illust_modal.*?<img alt=\"(.*?)\".*?data-src=\"(.*?)\".*?</div>', re.S)\n",
    "##pageHtml = self.getPageWithUrl(wholePageUrl)"
   ]
  },
  {
   "cell_type": "code",
   "execution_count": 6,
   "metadata": {},
   "outputs": [
    {
     "name": "stdout",
     "output_type": "stream",
     "text": [
      "\n",
      "\n",
      "\n",
      "ウェブブラウザのJavaScript(ジャバスクリプト)の設定が無効になっています。Javascriptが無効になっていると、サイト内の一部機能がご利用いただけません。\n",
      "\n",
      "\n",
      "pixiv.context.illustId    = \"63732417\";pixiv.context.illustTitle = \"\\u65b0\\u4eba\\u5973\\u738b\\u69d8\";pixiv.context.userId      = \"25512376\";pixiv.context.userName    = \"\\u305a\\u3093\\u3061\\u3083\\u304b\";pixiv.text.AuthorName = \"\\u305a\\u3093\\u3061\\u3083\\u304b\";pixiv.context.explicit    = false;pixiv.context.emojiSeries      = [{\"id\":101,\"name\":\"normal\"},{\"id\":102,\"name\":\"surprise\"},{\"id\":103,\"name\":\"serious\"},{\"id\":104,\"name\":\"heaven\"},{\"id\":105,\"name\":\"happy\"},{\"id\":106,\"name\":\"excited\"},{\"id\":107,\"name\":\"sing\"},{\"id\":108,\"name\":\"cry\"},{\"id\":201,\"name\":\"normal2\"},{\"id\":202,\"name\":\"shame2\"},{\"id\":203,\"name\":\"love2\"},{\"id\":204,\"name\":\"interesting2\"},{\"id\":205,\"name\":\"blush2\"},{\"id\":206,\"name\":\"fire2\"},{\"id\":207,\"name\":\"angry2\"},{\"id\":208,\"name\":\"shine2\"},{\"id\":209,\"name\":\"panic2\"},{\"id\":301,\"name\":\"normal3\"},{\"id\":302,\"name\":\"satisfaction3\"},{\"id\":303,\"name\":\"surprise3\"},{\"id\":304,\"name\":\"smile3\"},{\"id\":305,\"name\":\"shock3\"},{\"id\":306,\"name\":\"gaze3\"},{\"id\":307,\"name\":\"wink3\"},{\"id\":308,\"name\":\"happy3\"},{\"id\":309,\"name\":\"excited3\"},{\"id\":310,\"name\":\"love3\"},{\"id\":401,\"name\":\"normal4\"},{\"id\":402,\"name\":\"surprise4\"},{\"id\":403,\"name\":\"serious4\"},{\"id\":404,\"name\":\"love4\"},{\"id\":405,\"name\":\"shine4\"},{\"id\":406,\"name\":\"sweat4\"},{\"id\":407,\"name\":\"shame4\"},{\"id\":408,\"name\":\"sleep4\"},{\"id\":501,\"name\":\"heart\"},{\"id\":502,\"name\":\"teardrop\"},{\"id\":503,\"name\":\"star\"}];\n",
      "\n",
      "        pixivの会員になって<br>{{author_name}}さんの作品をもっと見よう!!!!\n",
      "    \n",
      "\n",
      "        pixivにログインして<br>{{author_name}}さんの作品をもっと見よう!!!!\n",
      "    \n",
      "\n",
      "        pixiv.text.showWorkMoreRegister = Handlebars.compile(jQuery('#template-show-work-more-register-text').html())({'author_name': pixiv.text.AuthorName});\n",
      "        pixiv.text.showWorkMoreLogin = Handlebars.compile(jQuery('#template-show-work-more-login-text').html())({'author_name': pixiv.text.AuthorName});\n",
      "    \n",
      "イラスト コミュニケーションサービス[pixiv(ピクシブ)]pixivへようこそこの作品 「新人女王様」 は\n",
      "        「オリジナル」「女王様」\n",
      "    等のタグがつけられた作品です。\n",
      "新規登録ログイン新人女王様ずんちゃか2017年7月6日 18:48クリックで拡大表示cオリジナルc足フェチc女王様c足裏cストッキングcオリジナル100users入り\n",
      "                            {{#if tags}}\n",
      "                                <ul class=\"tags\">\n",
      "                                    {{#tags}}\n",
      "                                        <li class=\"tag\">\n",
      "                                            <a href=\"/tags.php?tag={{url_encode tag}}\" class=\"portal\">c</a>\n",
      "                                            {{#is_myself}}<span class=\"self-tag\">*</span>{{/is_myself}}\n",
      "                                            <a href=\"/search.php?s_mode=s_tag_full&word={{url_encode tag}}\">{{tag}}</a>\n",
      "                                            <a href=\"https://dic.pixiv.net/a/{{url_encode tag}}\" target=\"_blank\" class=\"icon-pixpedia{{#unless is_pixpedia_article_exists}}-no-item{{/unless}} _ui-tooltip\" data-tooltip=\"{{#if is_pixpedia_article_exists}}「{{tag}}」に関する記事{{else}}「{{tag}}」に関する記事を作成{{/if}}\"></a>\n",
      "                                        </li>\n",
      "                                    {{/tags}}\n",
      "                                </ul>\n",
      "                            {{else}}\n",
      "                                <span class=\"no-item\">登録タグはありません</span>\n",
      "                            {{/if}}\n",
      "                         えぬ・ないつ2017年7月7日 06:30足裏に顔をうずめたい…pixiv創作オリジナル\n",
      "\n",
      "\n",
      "            \n",
      "                (function () {\n",
      "                    try {\n",
      "                        var id = 'ads_dokoiku_iframe_' + \"1\" + \"0\";\n",
      "                        document.write('<iframe style=\"clear:both;display:block;width:100%;\" id=\"'+id+'\" class=\"ads_dokoiku_iframe\" src=\"about:blank\" height=\"68\" scrolling=\"no\" frameborder=\"0\"></iframe>');\n",
      "                        var ifr = document.getElementById(id).contentWindow;\n",
      "                        \n",
      "                        \n",
      "                        ifr.document.open();\n",
      "                        ifr.document.close();\n",
      "                        var content = (\n",
      "                            '<!DOCTYPE html><html><head><meta http-equiv=\"content-type\" content=\"text/html; charset=UTF-8\">'\n",
      "                            + '<style>body{font-family:\"メイリオ\",\"Meiryo\",Sans-Serif;}ul{margin:0;padding:0;}a{color:#258FB8}.ads_anchor{text-decoration:none;}</style>'\n",
      "                            + '<body class=\"ads_area\" style=\"padding:0;margin:0;font-size:12px;line-height:1.5;background-color:#fff;\">'\n",
      "                            + '<script>setTimeout(function(){document.write(' + \"\\u0022\\\\u003Cstyle type=\\\\u0022text\\\\\\/css\\\\u0022\\\\u003E\\\\n    \\\\n        .one_column .ads_area_no_margin{\\\\n            background-color: #FFFFFF;\\\\n            text-align: center;\\\\n            width: 968px;\\\\n        }\\\\n        .ads_anchor {\\\\n            outline: none;\\\\n        }\\\\n\\\\n        .ads_anchor:hover .ads_value,\\\\n        .ads_anchor:hover {\\\\n            text-decoration: none;\\\\n            cursor: pointer;\\\\n            background-color: #FFFFFF;\\\\n        }\\\\n        .ads_inner .ads_anchor:hover {\\\\n            cursor: pointer;\\\\n            background-color: #FFFFCC;\\\\n        }\\\\n\\\\n        .ads_value {\\\\n            width: 100%;\\\\n            text-decoration: none;\\\\n            text-align: left;\\\\n        }\\\\n\\\\n        .ads_area {\\\\n            position: relative;\\\\n            margin: 2px 0;\\\\n            padding: 2px 0;\\\\n        }\\\\n        .ads_value .ads_inner {\\\\n    \\\\n            padding: 25px 0px 25px 20px;\\\\n    \\\\n            line-height: 14px;\\\\n        }\\\\n\\\\n        .ads_area_y {\\\\n        \\\\n                    \\\\n            position: relative;\\\\n            margin: 10px 0px 10px 0px;\\\\n            padding: 0px 0px 0px 11px;\\\\n        }\\\\n\\\\n        .ads_pr {\\\\n            padding: 0;\\\\n            float: left;\\\\n            color:#A0A0A0;\\\\n            font-size:13px;\\\\n            padding-right: 10px;\\\\n        }\\\\n\\\\n        .ads_anchor .ads_title,\\\\n        .ads_anchor:hover .ads_title {\\\\n            color: #258FB8;\\\\n            font-size: 15px;\\\\n            font-weight: bold;\\\\n            text-decoration: underline;\\\\n\\\\n\\\\n            display: inline;\\\\n            float: left;\\\\n            padding-right: 10px;\\\\n        }\\\\n\\\\n        .ads_value .ads_desc {\\\\n            color: #000000;\\\\n            display: inline;\\\\n            float: left;\\\\n            font-size: 13px;\\\\n            padding: 0;\\\\n        }\\\\n        .ads_value .ads_link {\\\\n            color: #008000;\\\\n            font-size:13px;\\\\n            display: none;\\\\n        }\\\\n\\\\n        .ads_value .ads_clear {\\\\n            display: block;\\\\n            clear: both;\\\\n        }\\\\n\\\\n        .ads_sponcer {\\\\n            color: #A0A0A0;\\\\n            font-size: 13px;\\\\n            position: absolute;\\\\n            bottom: 0;\\\\n            right: 0;\\\\n        }\\\\n        .ads_sponcer a,\\\\n        .ads_sponcer a:hover {\\\\n            color: #A0A0A0;\\\\n            text-decoration: underline;\\\\n        }\\\\n    \\\\n\\\\u003C\\\\\\/style\\\\u003E\\\\u003Cscript\\\\u003E\\\\nwindow.pixivComicHotWorks = [{\\\\u0022title\\\\u0022:\\\\u0022\\\\\\\\u3046\\\\\\\\u3089\\\\\\\\u307f\\\\\\\\u3061\\\\\\\\u304a\\\\\\\\u5144\\\\\\\\u3055\\\\\\\\u3093\\\\u0022,\\\\u0022desc\\\\u0022:\\\\u0022\\\\\\\\u3088\\\\\\\\u3044\\\\\\\\u5b50\\\\\\\\u306e\\\\\\\\u307f\\\\\\\\u3093\\\\\\\\u306a\\\\\\\\u301c\\\\\\\\uff01\\\\\\\\r\\\\\\\\n\\\\\\\\u88cf\\\\\\\\u8868\\\\\\\\u306e\\\\\\\\u3042\\\\\\\\u308b\\\\\\\\u304a\\\\\\\\u5144\\\\\\\\u3055\\\\\\\\u3093\\\\\\\\u306f\\\\\\\\u597d\\\\\\\\u304d\\\\\\\\u304b\\\\\\\\u306a\\\\\\\\u301c?\\\\\\\\r\\\\\\\\n\\\\\\\\r\\\\\\\\n\\\\\\\\u6559\\\\\\\\u80b2\\\\\\\\u756a\\\\\\\\u7d44\\\\\\\\u300c\\\\\\\\u30de\\\\\\\\u30de\\\\\\\\u30f3\\\\\\\\u3068\\\\\\\\u30c8\\\\\\\\u30a5\\\\\\\\u30ae\\\\\\\\u30e3\\\\\\\\u30b6\\\\\\\\u30fc\\\\\\\\u300d\\\\\\\\u306e\\\\\\\\u4f53\\\\\\\\u64cd\\\\\\\\u306e\\\\\\\\u304a\\\\\\\\u5144\\\\\\\\u3055\\\\\\\\u3093\\\\\\\\u30fb\\\\\\\\u8868\\\\\\\\u7530\\\\\\\\u88cf\\\\\\\\u9053\\\\\\\\uff08\\\\\\\\u304a\\\\\\\\u3082\\\\\\\\u305f\\\\\\\\u3046\\\\\\\\u3089\\\\\\\\u307f\\\\\\\\u3061\\\\\\\\uff0931\\\\\\\\u6b73\\\\\\\\u3002\\\\\\\\r\\\\\\\\n\\\\\\\\u723d\\\\\\\\u3084\\\\\\\\u304b\\\\\\\\u3060\\\\\\\\u3051\\\\\\\\u3069\\\\\\\\u60c5\\\\\\\\u7dd2\\\\\\\\u4e0d\\\\\\\\u5b89\\\\\\\\u5b9a\\\\\\\\u306a\\\\\\\\u201c\\\\\\\\u3046\\\\\\\\u3089\\\\\\\\u307f\\\\\\\\u3061\\\\\\\\u304a\\\\\\\\u5144\\\\\\\\u3055\\\\\\\\u3093\\\\\\\\u201d\\\\\\\\u304c\\\\\\\\u57a3\\\\\\\\u9593\\\\\\\\u2026\\\\u0022,\\\\u0022id\\\\u0022:3421},{\\\\u0022title\\\\u0022:\\\\u0022\\\\\\\\u30c9\\\\\\\\u30e9\\\\\\\\u30de\\\\\\\\u30c6\\\\\\\\u30a3\\\\\\\\u30c3\\\\\\\\u30af\\\\\\\\u30fb\\\\\\\\u30a2\\\\\\\\u30a4\\\\\\\\u30ed\\\\\\\\u30cb\\\\\\\\u30fc\\\\u0022,\\\\u0022desc\\\\u0022:\\\\u0022\\\\\\\\u9ad8\\\\\\\\u68212\\\\\\\\u5e74\\\\\\\\u751f\\\\\\\\u306e\\\\\\\\u5c0f\\\\\\\\u677e\\\\\\\\u7406\\\\\\\\u7d17\\\\\\\\u306f\\\\\\\\u3001\\\\\\\\u5e7c\\\\\\\\u306a\\\\\\\\u3058\\\\\\\\u307f\\\\\\\\u306e\\\\\\\\u4f50\\\\\\\\u91ce\\\\\\\\u5343\\\\\\\\u7d18\\\\\\\\u306b\\\\\\\\u7247\\\\\\\\u60f3\\\\\\\\u3044\\\\\\\\u4e2d\\\\\\\\u3002\\\\\\\\r\\\\\\\\n\\\\\\\\u3060\\\\\\\\u304c\\\\\\\\u3001\\\\\\\\u3042\\\\\\\\u308b\\\\\\\\u65e5\\\\\\\\u5343\\\\\\\\u7d18\\\\\\\\u304b\\\\\\\\u3089\\\\\\\\u300c\\\\\\\\u5f7c\\\\\\\\u5973\\\\\\\\u304c\\\\\\\\u3067\\\\\\\\u304d\\\\\\\\u305f\\\\\\\\u300d\\\\\\\\u3068\\\\\\\\u544a\\\\\\\\u767d\\\\\\\\u3055\\\\\\\\u308c\\\\\\\\u3001\\\\\\\\u7406\\\\\\\\u7d17\\\\\\\\u306f\\\\\\\\u3042\\\\\\\\u3063\\\\\\\\u3051\\\\\\\\u306a\\\\\\\\u304f\\\\\\\\u5931\\\\\\\\u604b\\\\\\\\u3057\\\\\\\\u3066\\\\\\\\u3057\\\\\\\\u307e\\\\\\\\u3046\\\\\\\\u3002\\\\\\\\r\\\\\\\\n\\\\\\\\u300c\\\\\\\\u5e7c\\\\\\\\u306a\\\\\\\\u3058\\\\\\\\u307f\\\\\\\\u300d\\\\\\\\u3068\\\\\\\\u3044\\\\\\\\u3046\\\\\\\\u95a2\\\\\\\\u4fc2\\\\\\\\u306b\\\\\\\\u7518\\\\\\\\u3048\\\\\\\\u3001\\\\\\\\u60f3\\\\\\\\u3044\\\\\\\\u3092\\\\\\\\u4f1d\\\\\\\\u3048\\\\\\\\u306a\\\\\\\\u304b\\\\\\\\u3063\\\\\\\\u305f\\\\\\\\u3053\\\\\\\\u3068\\\\\\\\u3092\\\\\\\\u6fc0\\\\\\\\u3057\\\\\\\\u2026\\\\u0022,\\\\u0022id\\\\u0022:3648},{\\\\u0022title\\\\u0022:\\\\u0022\\\\\\\\u8150\\\\\\\\u7537\\\\\\\\u5b50\\\\\\\\u9ad8\\\\\\\\u6821\\\\\\\\u751f\\\\\\\\u6d3b\\\\u0022,\\\\u0022desc\\\\u0022:\\\\u0022\\\\\\\\u3069\\\\\\\\u3053\\\\\\\\u306b\\\\\\\\u3067\\\\\\\\u3082\\\\\\\\u3044\\\\\\\\u308b\\\\\\\\u5e73\\\\\\\\u51e1\\\\\\\\u306a\\\\\\\\u7537\\\\\\\\u5b50\\\\\\\\u9ad8\\\\\\\\u6821\\\\\\\\u751f\\\\\\\\u30fb\\\\\\\\u5742\\\\\\\\u53e3\\\\\\\\u3002\\\\\\\\u5f7c\\\\\\\\u306f\\\\\\\\u7537\\\\\\\\u306a\\\\\\\\u304c\\\\\\\\u3089\\\\\\\\u306bBL\\\\\\\\u3092\\\\\\\\u3053\\\\\\\\u3088\\\\\\\\u306a\\\\\\\\u304f\\\\\\\\u611b\\\\\\\\u3059\\\\\\\\u308b\\\\\\\\u8150\\\\\\\\u7537\\\\\\\\u5b50\\\\\\\\u3067\\\\\\\\u3042\\\\\\\\u3063\\\\\\\\u305f\\\\\\\\u2026\\\\\\\\uff01BL\\\\\\\\u3060\\\\\\\\u3051\\\\\\\\u3067\\\\\\\\u3054\\\\\\\\u306f\\\\\\\\u3093\\\\\\\\u4f55\\\\\\\\u676f\\\\\\\\u3067\\\\\\\\u3082\\\\\\\\u3044\\\\\\\\u3051\\\\\\\\u308b\\\\\\\\u30c3!! \\\\\\\\r\\\\\\\\n\\\\\\\\u8150\\\\\\\\u7537\\\\\\\\u5b50\\\\\\\\u9ad8\\\\\\\\u6821\\\\\\\\u751f\\\\\\\\u30fb\\\\\\\\u5742\\\\\\\\u53e3\\\\\\\\u3068\\\\\\\\u3001\\\\\\\\u6109\\\\\\\\u5feb\\\\\\\\u306a\\\\\\\\u9762\\\\\\\\u3005\\\\\\\\u304c\\\\\\\\u7e54\\\\\\\\u308a\\\\\\\\u306a\\\\\\\\u3059\\\\\\\\u65e5\\\\\\\\u5e38\\\\\\\\u7cfb\\\\\\\\u30b3\\\\\\\\u30e1\\\\\\\\u30c7\\\\\\\\u30a3\\\\\\\\uff01 \\\\\\\\r\\\\\\\\n\\\\\\\\r\\\\\\\\n\\\\\\\\u2026\\\\u0022,\\\\u0022id\\\\u0022:1586}];\\\\n\\\\u003C\\\\\\/script\\\\u003E\\\\n\\\\n\\\\u003Cscript\\\\u003E\\\\nwindow.pixivComicAds = [];\\\\nif (window.pixivComicHotWorks) {\\\\n  pixivComicAds = pixivComicAds.concat(pixivComicHotWorks);\\\\n}\\\\nwindow.documentWritePixivComicAd = function() {\\\\n  try {\\\\n    if (window.pixivComicAds) {\\\\n      var ads = [];\\\\n      var pixiv = window.pixiv;\\\\n      if (!pixiv) {\\\\n        try {\\\\n          pixiv = window.parent.pixiv;\\\\n        } catch (e) {}\\\\n      }\\\\n      if (pixiv \\\\u0026\\\\u0026 pixiv.user \\\\u0026\\\\u0026 pixiv.user.gender) {\\\\n        var seg = pixiv.user.gender === \\\\u0027male\\\\u0027 ? 1 : pixiv.user.gender === \\\\u0027female\\\\u0027 ? 2 : 0;\\\\n        for (var i = 0, l = pixivComicAds.length; i \\\\u003C l; i++) {\\\\n          var ad = pixivComicAds[i];\\\\n          if (!ad.seg || ad.seg === seg) {\\\\n            ads.push(ad);\\\\n          }\\\\n        }\\\\n      }\\\\n      if (ads.length === 0) {\\\\n        ads = pixivComicAds;\\\\n      }\\\\n      var ad = ads[Math.floor(Math.random() * 10000) % ads.length];\\\\n      var link;\\\\n      if (!ad.type || ad.type === \\\\u0027w\\\\u0027) {\\\\n        link = \\\\u0027https:\\\\\\/\\\\\\/comic.pixiv.net\\\\\\/works\\\\\\/\\\\u0027 + ad.id + \\\\u0027?ads=tx-w\\\\u0027 + ad.id;\\\\n      } else if (ad.type === \\\\u0027m\\\\u0027) {\\\\n        link = \\\\u0027https:\\\\\\/\\\\\\/comic.pixiv.net\\\\\\/magazines\\\\\\/\\\\u0027 + ad.id + \\\\u0027?ads=tx-m\\\\u0027 + ad.id;\\\\n      }\\\\n      document.write(\\\\n        \\\\u0027\\\\u0027\\\\n        + \\\\u0027\\\\u003Ca class=\\\\u0022ads_anchor\\\\u0022 target=\\\\u0022_blank\\\\u0022 href=\\\\u0022\\\\u0027 + link + \\\\u0027\\\\u0022\\\\u003E\\\\u0027\\\\n        + \\\\u0027\\\\u003Cdiv class=\\\\u0022ads_value\\\\u0022 style=\\\\u0022padding-top:5px; padding-bottom:5px;\\\\u0022\\\\u003E\\\\u0027\\\\n        + \\\\u0027\\\\u003Cdiv class=\\\\u0022ads_inner\\\\u0022 style=\\\\u0022padding-top:5px; padding-bottom:5px;\\\\u0022\\\\u003E\\\\u0027\\\\n        + \\\\u0027\\\\u003Cspan class=\\\\u0022ads_pr\\\\u0022\\\\u003E\\\\u3010PR\\\\u3011\\\\u003C\\\\\\/span\\\\u003E\\\\u0027\\\\n        + \\\\u0027\\\\u003Cdiv class=\\\\u0022ads_title\\\\u0022 style=\\\\u0022margin-bottom:5px;\\\\u0022\\\\u003Epixiv\\\\u30b3\\\\u30df\\\\u30c3\\\\u30af\\\\u3067\\\\u300e\\\\u0027 + ad.title + \\\\u0027\\\\u300f\\\\u3092\\\\u8aad\\\\u3082\\\\u3046\\\\uff01\\\\u003C\\\\\\/div\\\\u003E\\\\u0027\\\\n        + \\\\u0027\\\\u003Cbr\\\\u003E\\\\u0027\\\\n        + \\\\u0027\\\\u003Cdiv class=\\\\u0022ads_desc\\\\u0022 style=\\\\u0022display: block; float: none; clear: both; padding-top: 1px; padding-bottom: 1px;\\\\u0022\\\\u003E\\\\u0027 + ad.desc + \\\\u0027\\\\u003C\\\\\\/div\\\\u003E\\\\u0027\\\\n        + \\\\u0027\\\\u003Cdiv class=\\\\u0022ads_link\\\\u0022 style=\\\\u0022display: block; float: none; clear: both; padding-top: 0px; padding-bottom: 1px;\\\\u0022\\\\u003Ecomic.pixiv.net\\\\u003C\\\\\\/div\\\\u003E\\\\u0027\\\\n        + \\\\u0027\\\\u003Cdiv class=\\\\u0022ads_clear\\\\u0022\\\\u003E\\\\u003C\\\\\\/div\\\\u003E\\\\u0027\\\\n        + \\\\u0027\\\\u003C\\\\\\/div\\\\u003E\\\\u0027\\\\n        + \\\\u0027\\\\u003C\\\\\\/div\\\\u003E\\\\u0027\\\\n        + \\\\u0027\\\\u003C\\\\\\/a\\\\u003E\\\\u0027\\\\n      );\\\\n      return;\\\\n    }\\\\n  } catch(e) {\\\\n  }\\\\n  document.write(\\\\n    \\\\u0027\\\\u0027\\\\n    + \\\\u0027\\\\u003Ca class=\\\\u0022ads_anchor\\\\u0022 target=\\\\u0022_blank\\\\u0022 href=\\\\u0022https:\\\\\\/\\\\\\/comic.pixiv.net\\\\\\/?ads=tx\\\\u0022\\\\u003E\\\\u0027\\\\n    + \\\\u0027\\\\u003Cdiv class=\\\\u0022ads_value\\\\u0022 style=\\\\u0022padding-top:5px; padding-bottom:5px;\\\\u0022\\\\u003E\\\\u0027\\\\n    + \\\\u0027\\\\u003Cdiv class=\\\\u0022ads_inner\\\\u0022 style=\\\\u0022padding-top:5px; padding-bottom:5px;\\\\u0022\\\\u003E\\\\u0027\\\\n    + \\\\u0027\\\\u003Cspan class=\\\\u0022ads_pr\\\\u0022\\\\u003E\\\\u3010PR\\\\u3011\\\\u003C\\\\\\/span\\\\u003E\\\\u0027\\\\n    + \\\\u0027\\\\u003Cdiv class=\\\\u0022ads_title\\\\u0022\\\\u003Epixiv\\\\u30b3\\\\u30df\\\\u30c3\\\\u30af\\\\u003C\\\\\\/div\\\\u003E\\\\u0027\\\\n    + \\\\u0027\\\\u003Cbr\\\\u003E\\\\u0027\\\\n    + \\\\u0027\\\\u003Cdiv class=\\\\u0022ads_desc\\\\u0022 style=\\\\u0022display: block; float: none; clear: both; padding-top: 1px; padding-bottom: 1px;\\\\u0022\\\\u003Epixiv\\\\u30b3\\\\u30df\\\\u30c3\\\\u30af\\\\u3067\\\\u6f2b\\\\u753b\\\\u3092\\\\u7121\\\\u6599\\\\u3067\\\\u8a66\\\\u3057\\\\u8aad\\\\u307f\\\\u003C\\\\\\/div\\\\u003E\\\\u0027\\\\n    + \\\\u0027\\\\u003Cdiv class=\\\\u0022ads_link\\\\u0022 style=\\\\u0022display: block; float: none; clear: both; padding-top: 0px; padding-bottom: 1px;\\\\u0022\\\\u003Ecomic.pixiv.net\\\\u003C\\\\\\/div\\\\u003E\\\\u0027\\\\n    + \\\\u0027\\\\u003Cdiv class=\\\\u0022ads_clear\\\\u0022\\\\u003E\\\\u003C\\\\\\/div\\\\u003E\\\\u0027\\\\n    + \\\\u0027\\\\u003C\\\\\\/div\\\\u003E\\\\u0027\\\\n    + \\\\u0027\\\\u003C\\\\\\/div\\\\u003E\\\\u0027\\\\n    + \\\\u0027\\\\u003C\\\\\\/a\\\\u003E\\\\u0027\\\\n  );\\\\n};\\\\n\\\\u003C\\\\\\/script\\\\u003E\\\\n\\\\n\\\\u003Cscript\\\\u003E\\\\n\\\\nvar ads_dokoiku_notfound_count = 0;\\\\nfunction ads_dokoiku_callback_make(apikey) {\\\\n    return function(data) {\\\\n        for (var i = 0, l = data.ads.length; i \\\\u003C l; ++i) {\\\\n            var ads = data.ads[i];\\\\n\\\\n            \\\\n            if (ads.adType == \\\\u0027u\\\\u0027) {\\\\n                \\\\n                \\\\\\/* \\\\u4e00\\\\u6642\\\\u7684\\\\u306bpixiv \\\\u30b3\\\\u30df\\\\u30c3\\\\u30af\\\\u5e83\\\\u544a\\\\u306e\\\\u4ee3\\\\u308f\\\\u308a\\\\u306bYDN\\\\u3092\\\\u914d\\\\u4fe1\\\\u3059\\\\u308b\\\\n                if (window.documentWritePixivComicAd) {\\\\n                    documentWritePixivComicAd();\\\\n                } else {\\\\n                    document.write(\\\\n                        \\\\u0027\\\\u0027\\\\n                        + \\\\u0027\\\\u003Ca class=\\\\u0022ads_anchor\\\\u0022 target=\\\\u0022_blank\\\\u0022 href=\\\\u0022https:\\\\\\/\\\\\\/comic.pixiv.net\\\\\\/?ads=tx\\\\u0022\\\\u003E\\\\u0027\\\\n                        + \\\\u0027\\\\u003Cdiv class=\\\\u0022ads_value\\\\u0022\\\\u003E\\\\u0027\\\\n                        + \\\\u0027\\\\u003Cdiv class=\\\\u0022ads_inner\\\\u0022\\\\u003E\\\\u0027\\\\n                        + \\\\u0027\\\\u003Cspan class=\\\\u0022ads_pr\\\\u0022\\\\u003E\\\\u3010PR\\\\u3011\\\\u003C\\\\\\/span\\\\u003E\\\\u0027\\\\n                        + \\\\u0027\\\\u003Cdiv class=\\\\u0022ads_title\\\\u0022\\\\u003Epixiv\\\\u30b3\\\\u30df\\\\u30c3\\\\u30af\\\\u003C\\\\\\/div\\\\u003E\\\\u0027\\\\n                        + \\\\u0027\\\\u003Cbr\\\\u003E\\\\u0027\\\\n                        + \\\\u0027\\\\u003Cdiv class=\\\\u0022ads_desc\\\\u0022\\\\u003Epixiv\\\\u30b3\\\\u30df\\\\u30c3\\\\u30af\\\\u3067\\\\u6f2b\\\\u753b\\\\u3092\\\\u7121\\\\u6599\\\\u3092\\\\u8a66\\\\u3057\\\\u8aad\\\\u307f\\\\u003C\\\\\\/div\\\\u003E\\\\u0027\\\\n                        + \\\\u0027\\\\u003Cdiv class=\\\\u0022ads_link\\\\u0022\\\\u003Ecomic.pixiv.net\\\\u003C\\\\\\/div\\\\u003E\\\\u0027\\\\n                        + \\\\u0027\\\\u003Cdiv class=\\\\u0022ads_clear\\\\u0022\\\\u003E\\\\u003C\\\\\\/div\\\\u003E\\\\u0027\\\\n                        + \\\\u0027\\\\u003C\\\\\\/div\\\\u003E\\\\u0027\\\\n                        + \\\\u0027\\\\u003C\\\\\\/div\\\\u003E\\\\u0027\\\\n                        + \\\\u0027\\\\u003C\\\\\\/a\\\\u003E\\\\u0027\\\\n                    );\\\\n                }\\\\n                *\\\\\\/\\\\n\\\\n\\\\nvar iframe = parent.document.querySelectorAll(\\\\u0027.ads_dokoiku_iframe\\\\u0027);\\\\nfor (var i = 0; i \\\\u003C iframe.length; i++) {\\\\n    iframe[i].height = 101;\\\\n}\\\\n\\\\n\\\\n                        \\\\n            document.write(\\\\u0027\\\\u003Cdiv style=\\\\u0022width:600px;\\\\u0022\\\\u003E\\\\u003Cscript type=\\\\u0022text\\\\\\/javascript\\\\u0022 language=\\\\u0022JavaScript\\\\u0022\\\\u003Eyads_ad_ds =\\\\u002271404_70302\\\\u0022;\\\\u003C\\\\\\/scri\\\\u0027 + \\\\u0027pt\\\\u003E\\\\u003Cscript type=\\\\u0022text\\\\\\/javascript\\\\u0022 language=\\\\u0022JavaScript\\\\u0022 src=\\\\u0022https:\\\\\\/\\\\\\/yads.c.yimg.jp\\\\\\/js\\\\\\/yads.js\\\\u0022\\\\u003E\\\\u003C\\\\\\/scri\\\\u0027 + \\\\u0027pt\\\\u003E\\\\u003C\\\\\\/div\\\\u003E\\\\u0027);\\\\n        \\\\n    \\\\n\\\\n            } else {\\\\n                document.write(\\\\n                    \\\\u0027\\\\u0027\\\\n                    + \\\\u0027\\\\u003Ca class=\\\\u0022ads_anchor\\\\u0022 target=\\\\u0022_blank\\\\u0022 href=\\\\u0022\\\\u0027 + ads.clickUrl + \\\\u0027\\\\u0022\\\\u003E\\\\u0027\\\\n                    + \\\\u0027\\\\u003Cdiv class=\\\\u0022ads_value\\\\u0022\\\\u003E\\\\u0027\\\\n                    + \\\\u0027\\\\u003Cdiv class=\\\\u0022ads_inner\\\\u0022\\\\u003E\\\\u0027\\\\n                    + \\\\u0027\\\\u003Cspan class=\\\\u0022ads_title\\\\u0022\\\\u003E\\\\u0027 + ads.adTitle + \\\\u0027\\\\u003C\\\\\\/span\\\\u003E\\\\u0027\\\\n                    + \\\\u0027\\\\u003Cspan class=\\\\u0022ads_desc\\\\u0022\\\\u003E\\\\u0027 + ads.adBodyText1 \\\\\\/*+ ads.adBodyText2*\\\\\\/ + \\\\u0027\\\\u003C\\\\\\/span\\\\u003E\\\\u0027\\\\n                    + \\\\u0027\\\\u003Cspan class=\\\\u0022ads_link\\\\u0022\\\\u003E\\\\u0027 + ads.adFooterText + \\\\u0027\\\\u003C\\\\\\/span\\\\u003E\\\\u0027\\\\n                    + \\\\u0027\\\\u003Cspan class=\\\\u0022ads_clear\\\\u0022\\\\u003E\\\\u003C\\\\\\/span\\\\u003E\\\\u0027\\\\n                    + \\\\u0027\\\\u003C\\\\\\/div\\\\u003E\\\\u0027\\\\n                    + \\\\u0027\\\\u003C\\\\\\/div\\\\u003E\\\\u0027\\\\n                    + \\\\u0027\\\\u003C\\\\\\/a\\\\u003E\\\\u0027\\\\n                );\\\\n            }\\\\n        }\\\\n    }\\\\n}\\\\nvar ads_dokoiku_callback_1 = ads_dokoiku_callback_make(\\\\u00270049600016\\\\u0027); \\\\\\/\\\\\\/ is_top == 1\\\\nvar ads_dokoiku_callback_0 = ads_dokoiku_callback_make(\\\\u00270049600017\\\\u0027);\\\\n\\\\n\\\\u003C\\\\\\/script\\\\u003E\\u0022\" + ');document.write(\\'<script type=\"text/javascript\" src=\"https://nw.ads.doko.jp/adparts/ad?sid=IGPIXIVN&prj=j&chn=illust&rnd=1&fmt=125X125&mfm=0&geo=1&bf=4&zyxrqp=5&callback=ads_dokoiku_callback_1\"><\\\\/script>\\');if(navigator.userAgent.match(/msie/i));else document.close();},1);<\\/script>'\n",
      "                            );\n",
      "                        ifr.document.write(content);\n",
      "                    } catch (e) {\n",
      "                    }\n",
      "                })();\n",
      "            \n",
      "            \n",
      "\n",
      "\n",
      "\n",
      "\n",
      "\n",
      "            \n",
      "                (function () {\n",
      "                    try {\n",
      "                        var id = 'ads_dokoiku_iframe_' + \"0\" + \"0\";\n",
      "                        document.write('<iframe style=\"clear:both;display:block;width:100%;\" id=\"'+id+'\" class=\"ads_dokoiku_iframe\" src=\"about:blank\" height=\"68\" scrolling=\"no\" frameborder=\"0\"></iframe>');\n",
      "                        var ifr = document.getElementById(id).contentWindow;\n",
      "                        \n",
      "                        \n",
      "                        ifr.document.open();\n",
      "                        ifr.document.close();\n",
      "                        var content = (\n",
      "                            '<!DOCTYPE html><html><head><meta http-equiv=\"content-type\" content=\"text/html; charset=UTF-8\">'\n",
      "                            + '<style>body{font-family:\"メイリオ\",\"Meiryo\",Sans-Serif;}ul{margin:0;padding:0;}a{color:#258FB8}.ads_anchor{text-decoration:none;}</style>'\n",
      "                            + '<body class=\"ads_area\" style=\"padding:0;margin:0;font-size:12px;line-height:1.5;background-color:#fff;\">'\n",
      "                            + '<script>setTimeout(function(){document.write(' + \"\\u0022\\\\u003Cstyle type=\\\\u0022text\\\\\\/css\\\\u0022\\\\u003E\\\\n    \\\\n        .one_column .ads_area_no_margin{\\\\n            background-color: #FFFFFF;\\\\n            text-align: center;\\\\n            width: 968px;\\\\n        }\\\\n        .ads_anchor {\\\\n            outline: none;\\\\n        }\\\\n\\\\n        .ads_anchor:hover .ads_value,\\\\n        .ads_anchor:hover {\\\\n            text-decoration: none;\\\\n            cursor: pointer;\\\\n            background-color: #FFFFFF;\\\\n        }\\\\n        .ads_inner .ads_anchor:hover {\\\\n            cursor: pointer;\\\\n            background-color: #FFFFCC;\\\\n        }\\\\n\\\\n        .ads_value {\\\\n            width: 100%;\\\\n            text-decoration: none;\\\\n            text-align: left;\\\\n        }\\\\n\\\\n        .ads_area {\\\\n            position: relative;\\\\n            margin: 2px 0;\\\\n            padding: 2px 0;\\\\n        }\\\\n        .ads_value .ads_inner {\\\\n    \\\\n            padding: 25px 0px 25px 20px;\\\\n    \\\\n            line-height: 14px;\\\\n        }\\\\n\\\\n        .ads_area_y {\\\\n        \\\\n                    \\\\n            position: relative;\\\\n            margin: 10px 0px 10px 0px;\\\\n            padding: 0px 0px 0px 11px;\\\\n        }\\\\n\\\\n        .ads_pr {\\\\n            padding: 0;\\\\n            float: left;\\\\n            color:#A0A0A0;\\\\n            font-size:13px;\\\\n            padding-right: 10px;\\\\n        }\\\\n\\\\n        .ads_anchor .ads_title,\\\\n        .ads_anchor:hover .ads_title {\\\\n            color: #258FB8;\\\\n            font-size: 15px;\\\\n            font-weight: bold;\\\\n            text-decoration: underline;\\\\n\\\\n\\\\n            display: inline;\\\\n            float: left;\\\\n            padding-right: 10px;\\\\n        }\\\\n\\\\n        .ads_value .ads_desc {\\\\n            color: #000000;\\\\n            display: inline;\\\\n            float: left;\\\\n            font-size: 13px;\\\\n            padding: 0;\\\\n        }\\\\n        .ads_value .ads_link {\\\\n            color: #008000;\\\\n            font-size:13px;\\\\n            display: none;\\\\n        }\\\\n\\\\n        .ads_value .ads_clear {\\\\n            display: block;\\\\n            clear: both;\\\\n        }\\\\n\\\\n        .ads_sponcer {\\\\n            color: #A0A0A0;\\\\n            font-size: 13px;\\\\n            position: absolute;\\\\n            bottom: 0;\\\\n            right: 0;\\\\n        }\\\\n        .ads_sponcer a,\\\\n        .ads_sponcer a:hover {\\\\n            color: #A0A0A0;\\\\n            text-decoration: underline;\\\\n        }\\\\n    \\\\n\\\\u003C\\\\\\/style\\\\u003E\\\\u003Cscript\\\\u003E\\\\nwindow.pixivComicHotWorks = [{\\\\u0022title\\\\u0022:\\\\u0022\\\\\\\\u3046\\\\\\\\u3089\\\\\\\\u307f\\\\\\\\u3061\\\\\\\\u304a\\\\\\\\u5144\\\\\\\\u3055\\\\\\\\u3093\\\\u0022,\\\\u0022desc\\\\u0022:\\\\u0022\\\\\\\\u3088\\\\\\\\u3044\\\\\\\\u5b50\\\\\\\\u306e\\\\\\\\u307f\\\\\\\\u3093\\\\\\\\u306a\\\\\\\\u301c\\\\\\\\uff01\\\\\\\\r\\\\\\\\n\\\\\\\\u88cf\\\\\\\\u8868\\\\\\\\u306e\\\\\\\\u3042\\\\\\\\u308b\\\\\\\\u304a\\\\\\\\u5144\\\\\\\\u3055\\\\\\\\u3093\\\\\\\\u306f\\\\\\\\u597d\\\\\\\\u304d\\\\\\\\u304b\\\\\\\\u306a\\\\\\\\u301c?\\\\\\\\r\\\\\\\\n\\\\\\\\r\\\\\\\\n\\\\\\\\u6559\\\\\\\\u80b2\\\\\\\\u756a\\\\\\\\u7d44\\\\\\\\u300c\\\\\\\\u30de\\\\\\\\u30de\\\\\\\\u30f3\\\\\\\\u3068\\\\\\\\u30c8\\\\\\\\u30a5\\\\\\\\u30ae\\\\\\\\u30e3\\\\\\\\u30b6\\\\\\\\u30fc\\\\\\\\u300d\\\\\\\\u306e\\\\\\\\u4f53\\\\\\\\u64cd\\\\\\\\u306e\\\\\\\\u304a\\\\\\\\u5144\\\\\\\\u3055\\\\\\\\u3093\\\\\\\\u30fb\\\\\\\\u8868\\\\\\\\u7530\\\\\\\\u88cf\\\\\\\\u9053\\\\\\\\uff08\\\\\\\\u304a\\\\\\\\u3082\\\\\\\\u305f\\\\\\\\u3046\\\\\\\\u3089\\\\\\\\u307f\\\\\\\\u3061\\\\\\\\uff0931\\\\\\\\u6b73\\\\\\\\u3002\\\\\\\\r\\\\\\\\n\\\\\\\\u723d\\\\\\\\u3084\\\\\\\\u304b\\\\\\\\u3060\\\\\\\\u3051\\\\\\\\u3069\\\\\\\\u60c5\\\\\\\\u7dd2\\\\\\\\u4e0d\\\\\\\\u5b89\\\\\\\\u5b9a\\\\\\\\u306a\\\\\\\\u201c\\\\\\\\u3046\\\\\\\\u3089\\\\\\\\u307f\\\\\\\\u3061\\\\\\\\u304a\\\\\\\\u5144\\\\\\\\u3055\\\\\\\\u3093\\\\\\\\u201d\\\\\\\\u304c\\\\\\\\u57a3\\\\\\\\u9593\\\\\\\\u2026\\\\u0022,\\\\u0022id\\\\u0022:3421},{\\\\u0022title\\\\u0022:\\\\u0022\\\\\\\\u30c9\\\\\\\\u30e9\\\\\\\\u30de\\\\\\\\u30c6\\\\\\\\u30a3\\\\\\\\u30c3\\\\\\\\u30af\\\\\\\\u30fb\\\\\\\\u30a2\\\\\\\\u30a4\\\\\\\\u30ed\\\\\\\\u30cb\\\\\\\\u30fc\\\\u0022,\\\\u0022desc\\\\u0022:\\\\u0022\\\\\\\\u9ad8\\\\\\\\u68212\\\\\\\\u5e74\\\\\\\\u751f\\\\\\\\u306e\\\\\\\\u5c0f\\\\\\\\u677e\\\\\\\\u7406\\\\\\\\u7d17\\\\\\\\u306f\\\\\\\\u3001\\\\\\\\u5e7c\\\\\\\\u306a\\\\\\\\u3058\\\\\\\\u307f\\\\\\\\u306e\\\\\\\\u4f50\\\\\\\\u91ce\\\\\\\\u5343\\\\\\\\u7d18\\\\\\\\u306b\\\\\\\\u7247\\\\\\\\u60f3\\\\\\\\u3044\\\\\\\\u4e2d\\\\\\\\u3002\\\\\\\\r\\\\\\\\n\\\\\\\\u3060\\\\\\\\u304c\\\\\\\\u3001\\\\\\\\u3042\\\\\\\\u308b\\\\\\\\u65e5\\\\\\\\u5343\\\\\\\\u7d18\\\\\\\\u304b\\\\\\\\u3089\\\\\\\\u300c\\\\\\\\u5f7c\\\\\\\\u5973\\\\\\\\u304c\\\\\\\\u3067\\\\\\\\u304d\\\\\\\\u305f\\\\\\\\u300d\\\\\\\\u3068\\\\\\\\u544a\\\\\\\\u767d\\\\\\\\u3055\\\\\\\\u308c\\\\\\\\u3001\\\\\\\\u7406\\\\\\\\u7d17\\\\\\\\u306f\\\\\\\\u3042\\\\\\\\u3063\\\\\\\\u3051\\\\\\\\u306a\\\\\\\\u304f\\\\\\\\u5931\\\\\\\\u604b\\\\\\\\u3057\\\\\\\\u3066\\\\\\\\u3057\\\\\\\\u307e\\\\\\\\u3046\\\\\\\\u3002\\\\\\\\r\\\\\\\\n\\\\\\\\u300c\\\\\\\\u5e7c\\\\\\\\u306a\\\\\\\\u3058\\\\\\\\u307f\\\\\\\\u300d\\\\\\\\u3068\\\\\\\\u3044\\\\\\\\u3046\\\\\\\\u95a2\\\\\\\\u4fc2\\\\\\\\u306b\\\\\\\\u7518\\\\\\\\u3048\\\\\\\\u3001\\\\\\\\u60f3\\\\\\\\u3044\\\\\\\\u3092\\\\\\\\u4f1d\\\\\\\\u3048\\\\\\\\u306a\\\\\\\\u304b\\\\\\\\u3063\\\\\\\\u305f\\\\\\\\u3053\\\\\\\\u3068\\\\\\\\u3092\\\\\\\\u6fc0\\\\\\\\u3057\\\\\\\\u2026\\\\u0022,\\\\u0022id\\\\u0022:3648},{\\\\u0022title\\\\u0022:\\\\u0022\\\\\\\\u8150\\\\\\\\u7537\\\\\\\\u5b50\\\\\\\\u9ad8\\\\\\\\u6821\\\\\\\\u751f\\\\\\\\u6d3b\\\\u0022,\\\\u0022desc\\\\u0022:\\\\u0022\\\\\\\\u3069\\\\\\\\u3053\\\\\\\\u306b\\\\\\\\u3067\\\\\\\\u3082\\\\\\\\u3044\\\\\\\\u308b\\\\\\\\u5e73\\\\\\\\u51e1\\\\\\\\u306a\\\\\\\\u7537\\\\\\\\u5b50\\\\\\\\u9ad8\\\\\\\\u6821\\\\\\\\u751f\\\\\\\\u30fb\\\\\\\\u5742\\\\\\\\u53e3\\\\\\\\u3002\\\\\\\\u5f7c\\\\\\\\u306f\\\\\\\\u7537\\\\\\\\u306a\\\\\\\\u304c\\\\\\\\u3089\\\\\\\\u306bBL\\\\\\\\u3092\\\\\\\\u3053\\\\\\\\u3088\\\\\\\\u306a\\\\\\\\u304f\\\\\\\\u611b\\\\\\\\u3059\\\\\\\\u308b\\\\\\\\u8150\\\\\\\\u7537\\\\\\\\u5b50\\\\\\\\u3067\\\\\\\\u3042\\\\\\\\u3063\\\\\\\\u305f\\\\\\\\u2026\\\\\\\\uff01BL\\\\\\\\u3060\\\\\\\\u3051\\\\\\\\u3067\\\\\\\\u3054\\\\\\\\u306f\\\\\\\\u3093\\\\\\\\u4f55\\\\\\\\u676f\\\\\\\\u3067\\\\\\\\u3082\\\\\\\\u3044\\\\\\\\u3051\\\\\\\\u308b\\\\\\\\u30c3!! \\\\\\\\r\\\\\\\\n\\\\\\\\u8150\\\\\\\\u7537\\\\\\\\u5b50\\\\\\\\u9ad8\\\\\\\\u6821\\\\\\\\u751f\\\\\\\\u30fb\\\\\\\\u5742\\\\\\\\u53e3\\\\\\\\u3068\\\\\\\\u3001\\\\\\\\u6109\\\\\\\\u5feb\\\\\\\\u306a\\\\\\\\u9762\\\\\\\\u3005\\\\\\\\u304c\\\\\\\\u7e54\\\\\\\\u308a\\\\\\\\u306a\\\\\\\\u3059\\\\\\\\u65e5\\\\\\\\u5e38\\\\\\\\u7cfb\\\\\\\\u30b3\\\\\\\\u30e1\\\\\\\\u30c7\\\\\\\\u30a3\\\\\\\\uff01 \\\\\\\\r\\\\\\\\n\\\\\\\\r\\\\\\\\n\\\\\\\\u2026\\\\u0022,\\\\u0022id\\\\u0022:1586}];\\\\n\\\\u003C\\\\\\/script\\\\u003E\\\\n\\\\n\\\\u003Cscript\\\\u003E\\\\nwindow.pixivComicAds = [];\\\\nif (window.pixivComicHotWorks) {\\\\n  pixivComicAds = pixivComicAds.concat(pixivComicHotWorks);\\\\n}\\\\nwindow.documentWritePixivComicAd = function() {\\\\n  try {\\\\n    if (window.pixivComicAds) {\\\\n      var ads = [];\\\\n      var pixiv = window.pixiv;\\\\n      if (!pixiv) {\\\\n        try {\\\\n          pixiv = window.parent.pixiv;\\\\n        } catch (e) {}\\\\n      }\\\\n      if (pixiv \\\\u0026\\\\u0026 pixiv.user \\\\u0026\\\\u0026 pixiv.user.gender) {\\\\n        var seg = pixiv.user.gender === \\\\u0027male\\\\u0027 ? 1 : pixiv.user.gender === \\\\u0027female\\\\u0027 ? 2 : 0;\\\\n        for (var i = 0, l = pixivComicAds.length; i \\\\u003C l; i++) {\\\\n          var ad = pixivComicAds[i];\\\\n          if (!ad.seg || ad.seg === seg) {\\\\n            ads.push(ad);\\\\n          }\\\\n        }\\\\n      }\\\\n      if (ads.length === 0) {\\\\n        ads = pixivComicAds;\\\\n      }\\\\n      var ad = ads[Math.floor(Math.random() * 10000) % ads.length];\\\\n      var link;\\\\n      if (!ad.type || ad.type === \\\\u0027w\\\\u0027) {\\\\n        link = \\\\u0027https:\\\\\\/\\\\\\/comic.pixiv.net\\\\\\/works\\\\\\/\\\\u0027 + ad.id + \\\\u0027?ads=tx-w\\\\u0027 + ad.id;\\\\n      } else if (ad.type === \\\\u0027m\\\\u0027) {\\\\n        link = \\\\u0027https:\\\\\\/\\\\\\/comic.pixiv.net\\\\\\/magazines\\\\\\/\\\\u0027 + ad.id + \\\\u0027?ads=tx-m\\\\u0027 + ad.id;\\\\n      }\\\\n      document.write(\\\\n        \\\\u0027\\\\u0027\\\\n        + \\\\u0027\\\\u003Ca class=\\\\u0022ads_anchor\\\\u0022 target=\\\\u0022_blank\\\\u0022 href=\\\\u0022\\\\u0027 + link + \\\\u0027\\\\u0022\\\\u003E\\\\u0027\\\\n        + \\\\u0027\\\\u003Cdiv class=\\\\u0022ads_value\\\\u0022 style=\\\\u0022padding-top:5px; padding-bottom:5px;\\\\u0022\\\\u003E\\\\u0027\\\\n        + \\\\u0027\\\\u003Cdiv class=\\\\u0022ads_inner\\\\u0022 style=\\\\u0022padding-top:5px; padding-bottom:5px;\\\\u0022\\\\u003E\\\\u0027\\\\n        + \\\\u0027\\\\u003Cspan class=\\\\u0022ads_pr\\\\u0022\\\\u003E\\\\u3010PR\\\\u3011\\\\u003C\\\\\\/span\\\\u003E\\\\u0027\\\\n        + \\\\u0027\\\\u003Cdiv class=\\\\u0022ads_title\\\\u0022 style=\\\\u0022margin-bottom:5px;\\\\u0022\\\\u003Epixiv\\\\u30b3\\\\u30df\\\\u30c3\\\\u30af\\\\u3067\\\\u300e\\\\u0027 + ad.title + \\\\u0027\\\\u300f\\\\u3092\\\\u8aad\\\\u3082\\\\u3046\\\\uff01\\\\u003C\\\\\\/div\\\\u003E\\\\u0027\\\\n        + \\\\u0027\\\\u003Cbr\\\\u003E\\\\u0027\\\\n        + \\\\u0027\\\\u003Cdiv class=\\\\u0022ads_desc\\\\u0022 style=\\\\u0022display: block; float: none; clear: both; padding-top: 1px; padding-bottom: 1px;\\\\u0022\\\\u003E\\\\u0027 + ad.desc + \\\\u0027\\\\u003C\\\\\\/div\\\\u003E\\\\u0027\\\\n        + \\\\u0027\\\\u003Cdiv class=\\\\u0022ads_link\\\\u0022 style=\\\\u0022display: block; float: none; clear: both; padding-top: 0px; padding-bottom: 1px;\\\\u0022\\\\u003Ecomic.pixiv.net\\\\u003C\\\\\\/div\\\\u003E\\\\u0027\\\\n        + \\\\u0027\\\\u003Cdiv class=\\\\u0022ads_clear\\\\u0022\\\\u003E\\\\u003C\\\\\\/div\\\\u003E\\\\u0027\\\\n        + \\\\u0027\\\\u003C\\\\\\/div\\\\u003E\\\\u0027\\\\n        + \\\\u0027\\\\u003C\\\\\\/div\\\\u003E\\\\u0027\\\\n        + \\\\u0027\\\\u003C\\\\\\/a\\\\u003E\\\\u0027\\\\n      );\\\\n      return;\\\\n    }\\\\n  } catch(e) {\\\\n  }\\\\n  document.write(\\\\n    \\\\u0027\\\\u0027\\\\n    + \\\\u0027\\\\u003Ca class=\\\\u0022ads_anchor\\\\u0022 target=\\\\u0022_blank\\\\u0022 href=\\\\u0022https:\\\\\\/\\\\\\/comic.pixiv.net\\\\\\/?ads=tx\\\\u0022\\\\u003E\\\\u0027\\\\n    + \\\\u0027\\\\u003Cdiv class=\\\\u0022ads_value\\\\u0022 style=\\\\u0022padding-top:5px; padding-bottom:5px;\\\\u0022\\\\u003E\\\\u0027\\\\n    + \\\\u0027\\\\u003Cdiv class=\\\\u0022ads_inner\\\\u0022 style=\\\\u0022padding-top:5px; padding-bottom:5px;\\\\u0022\\\\u003E\\\\u0027\\\\n    + \\\\u0027\\\\u003Cspan class=\\\\u0022ads_pr\\\\u0022\\\\u003E\\\\u3010PR\\\\u3011\\\\u003C\\\\\\/span\\\\u003E\\\\u0027\\\\n    + \\\\u0027\\\\u003Cdiv class=\\\\u0022ads_title\\\\u0022\\\\u003Epixiv\\\\u30b3\\\\u30df\\\\u30c3\\\\u30af\\\\u003C\\\\\\/div\\\\u003E\\\\u0027\\\\n    + \\\\u0027\\\\u003Cbr\\\\u003E\\\\u0027\\\\n    + \\\\u0027\\\\u003Cdiv class=\\\\u0022ads_desc\\\\u0022 style=\\\\u0022display: block; float: none; clear: both; padding-top: 1px; padding-bottom: 1px;\\\\u0022\\\\u003Epixiv\\\\u30b3\\\\u30df\\\\u30c3\\\\u30af\\\\u3067\\\\u6f2b\\\\u753b\\\\u3092\\\\u7121\\\\u6599\\\\u3067\\\\u8a66\\\\u3057\\\\u8aad\\\\u307f\\\\u003C\\\\\\/div\\\\u003E\\\\u0027\\\\n    + \\\\u0027\\\\u003Cdiv class=\\\\u0022ads_link\\\\u0022 style=\\\\u0022display: block; float: none; clear: both; padding-top: 0px; padding-bottom: 1px;\\\\u0022\\\\u003Ecomic.pixiv.net\\\\u003C\\\\\\/div\\\\u003E\\\\u0027\\\\n    + \\\\u0027\\\\u003Cdiv class=\\\\u0022ads_clear\\\\u0022\\\\u003E\\\\u003C\\\\\\/div\\\\u003E\\\\u0027\\\\n    + \\\\u0027\\\\u003C\\\\\\/div\\\\u003E\\\\u0027\\\\n    + \\\\u0027\\\\u003C\\\\\\/div\\\\u003E\\\\u0027\\\\n    + \\\\u0027\\\\u003C\\\\\\/a\\\\u003E\\\\u0027\\\\n  );\\\\n};\\\\n\\\\u003C\\\\\\/script\\\\u003E\\\\n\\\\n\\\\u003Cscript\\\\u003E\\\\n\\\\nvar ads_dokoiku_notfound_count = 0;\\\\nfunction ads_dokoiku_callback_make(apikey) {\\\\n    return function(data) {\\\\n        for (var i = 0, l = data.ads.length; i \\\\u003C l; ++i) {\\\\n            var ads = data.ads[i];\\\\n\\\\n            \\\\n            if (ads.adType == \\\\u0027u\\\\u0027) {\\\\n                \\\\n                \\\\\\/* \\\\u4e00\\\\u6642\\\\u7684\\\\u306bpixiv \\\\u30b3\\\\u30df\\\\u30c3\\\\u30af\\\\u5e83\\\\u544a\\\\u306e\\\\u4ee3\\\\u308f\\\\u308a\\\\u306bYDN\\\\u3092\\\\u914d\\\\u4fe1\\\\u3059\\\\u308b\\\\n                if (window.documentWritePixivComicAd) {\\\\n                    documentWritePixivComicAd();\\\\n                } else {\\\\n                    document.write(\\\\n                        \\\\u0027\\\\u0027\\\\n                        + \\\\u0027\\\\u003Ca class=\\\\u0022ads_anchor\\\\u0022 target=\\\\u0022_blank\\\\u0022 href=\\\\u0022https:\\\\\\/\\\\\\/comic.pixiv.net\\\\\\/?ads=tx\\\\u0022\\\\u003E\\\\u0027\\\\n                        + \\\\u0027\\\\u003Cdiv class=\\\\u0022ads_value\\\\u0022\\\\u003E\\\\u0027\\\\n                        + \\\\u0027\\\\u003Cdiv class=\\\\u0022ads_inner\\\\u0022\\\\u003E\\\\u0027\\\\n                        + \\\\u0027\\\\u003Cspan class=\\\\u0022ads_pr\\\\u0022\\\\u003E\\\\u3010PR\\\\u3011\\\\u003C\\\\\\/span\\\\u003E\\\\u0027\\\\n                        + \\\\u0027\\\\u003Cdiv class=\\\\u0022ads_title\\\\u0022\\\\u003Epixiv\\\\u30b3\\\\u30df\\\\u30c3\\\\u30af\\\\u003C\\\\\\/div\\\\u003E\\\\u0027\\\\n                        + \\\\u0027\\\\u003Cbr\\\\u003E\\\\u0027\\\\n                        + \\\\u0027\\\\u003Cdiv class=\\\\u0022ads_desc\\\\u0022\\\\u003Epixiv\\\\u30b3\\\\u30df\\\\u30c3\\\\u30af\\\\u3067\\\\u6f2b\\\\u753b\\\\u3092\\\\u7121\\\\u6599\\\\u3092\\\\u8a66\\\\u3057\\\\u8aad\\\\u307f\\\\u003C\\\\\\/div\\\\u003E\\\\u0027\\\\n                        + \\\\u0027\\\\u003Cdiv class=\\\\u0022ads_link\\\\u0022\\\\u003Ecomic.pixiv.net\\\\u003C\\\\\\/div\\\\u003E\\\\u0027\\\\n                        + \\\\u0027\\\\u003Cdiv class=\\\\u0022ads_clear\\\\u0022\\\\u003E\\\\u003C\\\\\\/div\\\\u003E\\\\u0027\\\\n                        + \\\\u0027\\\\u003C\\\\\\/div\\\\u003E\\\\u0027\\\\n                        + \\\\u0027\\\\u003C\\\\\\/div\\\\u003E\\\\u0027\\\\n                        + \\\\u0027\\\\u003C\\\\\\/a\\\\u003E\\\\u0027\\\\n                    );\\\\n                }\\\\n                *\\\\\\/\\\\n\\\\n\\\\nvar iframe = parent.document.querySelectorAll(\\\\u0027.ads_dokoiku_iframe\\\\u0027);\\\\nfor (var i = 0; i \\\\u003C iframe.length; i++) {\\\\n    iframe[i].height = 101;\\\\n}\\\\n\\\\n\\\\n                        \\\\n            document.write(\\\\u0027\\\\u003Cdiv style=\\\\u0022width:600px;\\\\u0022\\\\u003E\\\\u003Cscript type=\\\\u0022text\\\\\\/javascript\\\\u0022 language=\\\\u0022JavaScript\\\\u0022\\\\u003Eyads_ad_ds =\\\\u002291292_70282\\\\u0022;\\\\u003C\\\\\\/scri\\\\u0027 + \\\\u0027pt\\\\u003E\\\\u003Cscript type=\\\\u0022text\\\\\\/javascript\\\\u0022 language=\\\\u0022JavaScript\\\\u0022 src=\\\\u0022https:\\\\\\/\\\\\\/yads.c.yimg.jp\\\\\\/js\\\\\\/yads.js\\\\u0022\\\\u003E\\\\u003C\\\\\\/scri\\\\u0027 + \\\\u0027pt\\\\u003E\\\\u003C\\\\\\/div\\\\u003E\\\\u0027);\\\\n        \\\\n    \\\\n\\\\n            } else {\\\\n                document.write(\\\\n                    \\\\u0027\\\\u0027\\\\n                    + \\\\u0027\\\\u003Ca class=\\\\u0022ads_anchor\\\\u0022 target=\\\\u0022_blank\\\\u0022 href=\\\\u0022\\\\u0027 + ads.clickUrl + \\\\u0027\\\\u0022\\\\u003E\\\\u0027\\\\n                    + \\\\u0027\\\\u003Cdiv class=\\\\u0022ads_value\\\\u0022\\\\u003E\\\\u0027\\\\n                    + \\\\u0027\\\\u003Cdiv class=\\\\u0022ads_inner\\\\u0022\\\\u003E\\\\u0027\\\\n                    + \\\\u0027\\\\u003Cspan class=\\\\u0022ads_title\\\\u0022\\\\u003E\\\\u0027 + ads.adTitle + \\\\u0027\\\\u003C\\\\\\/span\\\\u003E\\\\u0027\\\\n                    + \\\\u0027\\\\u003Cspan class=\\\\u0022ads_desc\\\\u0022\\\\u003E\\\\u0027 + ads.adBodyText1 \\\\\\/*+ ads.adBodyText2*\\\\\\/ + \\\\u0027\\\\u003C\\\\\\/span\\\\u003E\\\\u0027\\\\n                    + \\\\u0027\\\\u003Cspan class=\\\\u0022ads_link\\\\u0022\\\\u003E\\\\u0027 + ads.adFooterText + \\\\u0027\\\\u003C\\\\\\/span\\\\u003E\\\\u0027\\\\n                    + \\\\u0027\\\\u003Cspan class=\\\\u0022ads_clear\\\\u0022\\\\u003E\\\\u003C\\\\\\/span\\\\u003E\\\\u0027\\\\n                    + \\\\u0027\\\\u003C\\\\\\/div\\\\u003E\\\\u0027\\\\n                    + \\\\u0027\\\\u003C\\\\\\/div\\\\u003E\\\\u0027\\\\n                    + \\\\u0027\\\\u003C\\\\\\/a\\\\u003E\\\\u0027\\\\n                );\\\\n            }\\\\n        }\\\\n    }\\\\n}\\\\nvar ads_dokoiku_callback_1 = ads_dokoiku_callback_make(\\\\u00270049600016\\\\u0027); \\\\\\/\\\\\\/ is_top == 1\\\\nvar ads_dokoiku_callback_0 = ads_dokoiku_callback_make(\\\\u00270049600017\\\\u0027);\\\\n\\\\n\\\\u003C\\\\\\/script\\\\u003E\\u0022\" + ');document.write(\\'<script type=\"text/javascript\" src=\"https://nw.ads.doko.jp/adparts/ad?sid=IGPIXIVN&prj=j&chn=illust&rnd=1&fmt=125X125&mfm=0&geo=1&bf=4&zyxrqp=5&callback=ads_dokoiku_callback_0\"><\\\\/script>\\');if(navigator.userAgent.match(/msie/i));else document.close();},1);<\\/script>'\n",
      "                            );\n",
      "                        ifr.document.write(content);\n",
      "                    } catch (e) {\n",
      "                    }\n",
      "                })();\n",
      "            \n",
      "            \n",
      "\n",
      "\n",
      "\n",
      "閲覧数1564いいね！97ブックマークに追加投稿した作品もっと見る \n",
      "この作品の前後に投稿された作品 |五月雨進水日２０１７０７０６2話 けんか新着記事もっと見るイラスト離れないようにつないで。恋人つなぎを描いたイラスト特集イラスト屋台の提灯に心が踊る！夏祭りを描いたイラスト特集イラスト浪漫少女から武闘派女子まで♡袴を履いた女の子のイラスト特集イラスト勝てる気がしない！戦闘中のイラスト特集イラストかわいい？おいしそう？動物と食べ物のイラスト特集\n",
      "\n",
      "\n",
      "\n",
      "\n",
      "\n",
      "\n",
      "BOOTH(簡単にネットショップが作れる)FACTORY(簡単にグッズがつくれて通販もできる)pixivFACTORY BOOKS(簡単に同人誌がつくれる。イベントや即売会に最適。)ピクシブ百科事典無料マンガ・漫画試し読み pixivコミックpixivノベルpixivisionsenseiPawoopixivについて利用規約プライバシーポリシーお問い合わせ広告掲載© pixiv\n",
      "\n"
     ]
    }
   ],
   "source": [
    "# bsa = BeautifulSoup(res.text,\"lxml\")\n",
    "# x=bsa.select(\"div#wrapper\")`\n",
    "# for n in x :\n",
    "#     content = bytes(n.text,\"utf-8\")\n",
    "#     content = content.decode(\"utf-8\")\n",
    "#     print(content)"
   ]
  },
  {
   "cell_type": "code",
   "execution_count": 4,
   "metadata": {},
   "outputs": [],
   "source": [
    "from splinter import Browser\n",
    "executablePath = {'executable_path':r'D:\\chromedriver\\chromedriver.exe'}\n",
    "browser = Browser('chrome', **executablePath)"
   ]
  },
  {
   "cell_type": "code",
   "execution_count": 8,
   "metadata": {
    "collapsed": true
   },
   "outputs": [],
   "source": [
    "browser.visit(\"https://www.pixiv.net/member_illust.php?mode=medium&illust_id=63732417\")\n",
    "elem = browser.find_by_css(\"div.img-container\")"
   ]
  },
  {
   "cell_type": "code",
   "execution_count": 9,
   "metadata": {
    "collapsed": true
   },
   "outputs": [],
   "source": [
    "link = elem[0].find_by_tag(\"img\")['src']"
   ]
  },
  {
   "cell_type": "code",
   "execution_count": 10,
   "metadata": {
    "collapsed": true
   },
   "outputs": [],
   "source": [
    "# referer:https://www.pixiv.net/member_illust.php?mode=medium&illust_id=63577828\n",
    "# upgrade-insecure-requests:1\n",
    "# user-agent:Mozilla/5.0 (Windows NT 6.1; Win64; x64) AppleWebKit/537.36 (KHTML, like Gecko) Chrome/59.0.3071.115 Safari/537.36\n",
    "import requests\n",
    "\n",
    "\n",
    "res = requests.get(link,headers = {\"referer\":\"https://www.pixiv.net\"})\n",
    "\n",
    "# print(res.text)\n",
    "# res.request.headers"
   ]
  },
  {
   "cell_type": "code",
   "execution_count": 11,
   "metadata": {
    "collapsed": true
   },
   "outputs": [],
   "source": [
    "with open('hshs.jpg','wb') as f:\n",
    "  f.write(res.content)"
   ]
  },
  {
   "cell_type": "code",
   "execution_count": 3,
   "metadata": {},
   "outputs": [
    {
     "name": "stdout",
     "output_type": "stream",
     "text": [
      "Collecting splinter\n",
      "  Downloading splinter-0.7.5.tar.gz\n",
      "Collecting selenium>=2.53.6 (from splinter)\n",
      "  Downloading selenium-3.4.3-py2.py3-none-any.whl (931kB)\n",
      "Building wheels for collected packages: splinter\n",
      "  Running setup.py bdist_wheel for splinter: started\n",
      "  Running setup.py bdist_wheel for splinter: finished with status 'done'\n",
      "  Stored in directory: C:\\Users\\Java\\AppData\\Local\\pip\\Cache\\wheels\\00\\42\\c2\\24111557fd99b18cb53e301d060d2f04b17cdab3ac467f3314\n",
      "Successfully built splinter\n",
      "Installing collected packages: selenium, splinter\n",
      "Successfully installed selenium-3.4.3 splinter-0.7.5\n"
     ]
    }
   ],
   "source": [
    "!pip install splinter"
   ]
  },
  {
   "cell_type": "code",
   "execution_count": null,
   "metadata": {
    "collapsed": true
   },
   "outputs": [],
   "source": []
  }
 ],
 "metadata": {
  "kernelspec": {
   "display_name": "Python 3",
   "language": "python",
   "name": "python3"
  },
  "language_info": {
   "codemirror_mode": {
    "name": "ipython",
    "version": 3
   },
   "file_extension": ".py",
   "mimetype": "text/x-python",
   "name": "python",
   "nbconvert_exporter": "python",
   "pygments_lexer": "ipython3",
   "version": "3.6.1"
  }
 },
 "nbformat": 4,
 "nbformat_minor": 2
}

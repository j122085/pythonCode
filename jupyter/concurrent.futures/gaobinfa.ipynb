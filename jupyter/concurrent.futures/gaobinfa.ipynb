{
 "cells": [
  {
   "cell_type": "code",
   "execution_count": null,
   "metadata": {
    "collapsed": true
   },
   "outputs": [],
   "source": [
    "import concurrent.futures\n",
    "import requests\n",
    "\n",
    "\n",
    "def geturltext(url):\n",
    "    res=requests.get(url)\n",
    "    with open('./'+url.split(\"/\")[-1]+'.txt','w') as f:\n",
    "        f.write(res.text)\n",
    "    return res.text\n",
    "\n",
    "urls=['https://www.facebook.com/groups/1910677845860446','https://drive.google.com/drive/u/1/my-drive']\n",
    "pttlist=[]\n",
    "\n",
    "with concurrent.futures.ThreadPoolExecutor(max_workers=5) as executor:\n",
    "    jobInfo = [executor.submit(geturltext, url) for url in urls]\n",
    "        for future in concurrent.futures.as_completed(jobInfo):\n",
    "        try:\n",
    "            textlist = future.result()\n",
    "            pttlist.append(textlist)\n",
    "        except Exception as e:\n",
    "            print(e)\n",
    "            print(\"zzz\")\n",
    "            pass"
   ]
  }
 ],
 "metadata": {
  "kernelspec": {
   "display_name": "Python 3",
   "language": "python",
   "name": "python3"
  },
  "language_info": {
   "codemirror_mode": {
    "name": "ipython",
    "version": 3
   },
   "file_extension": ".py",
   "mimetype": "text/x-python",
   "name": "python",
   "nbconvert_exporter": "python",
   "pygments_lexer": "ipython3",
   "version": "3.6.1"
  }
 },
 "nbformat": 4,
 "nbformat_minor": 2
}

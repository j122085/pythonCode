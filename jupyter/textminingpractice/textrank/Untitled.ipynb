{
 "cells": [
  {
   "cell_type": "code",
   "execution_count": 9,
   "metadata": {
    "collapsed": true
   },
   "outputs": [],
   "source": [
    "def sentence_coocurance(text,kw_num=3):\n",
    "    ## sentence_kw :\n",
    "\n",
    "    ## {'sen1':[word1,word2,word3],'sen2':[word2,word3,word4],\n",
    "\n",
    "    ##  'sen3':[word1,word3,word5]}\n",
    "\n",
    "    # sentence_kw = {'A':[1,2,3],'B':[2,3,4],'C':[1,3,5]} # test used!!\n",
    "\n",
    "    docs = re.split(u'，|。',text)\n",
    "    sentence_kw = defaultdict(list)\n",
    "    for sen in docs:\n",
    "        if sen == u'':\n",
    "            continue\n",
    "        keywords = textRank(coocurance(text,windows=5),kw_num=kw_num)\n",
    "        sentence_kw[sen] = keywords\n",
    "\n",
    "    cooc_dict = defaultdict(dict) # coocurance sentence with respect to keywords\n",
    "\n",
    "\n",
    "    for sentence,kw in sentence_kw.items():\n",
    "        # cooc_dict[sentence] = {sentence:0}\n",
    "\n",
    "        temp = {}\n",
    "        for sent_check, kw_check in sentence_kw.items():\n",
    "            if sentence == sent_check:\n",
    "                # print 'nope'\n",
    "\n",
    "                temp[sentence] =0\n",
    "                continue\n",
    "            else:\n",
    "                count = 0\n",
    "                for word in kw:\n",
    "                    if word in kw_check:\n",
    "                        count+=1\n",
    "                # print 'yes:\\t',count\n",
    "\n",
    "                temp[sent_check] = count\n",
    "        cooc_dict[sentence] = temp\n",
    "    return cooc_dict"
   ]
  },
  {
   "cell_type": "code",
   "execution_count": 19,
   "metadata": {},
   "outputs": [],
   "source": [
    "def abstractTextRank(graph,d=0.85,sent_num=3,with_weight=False):\n",
    "    sent_TR = defaultdict(float,[(sent,np.random.rand()) for sent,_ in graph.items()])\n",
    "\n",
    "    err = 1e-5\n",
    "    error = 1\n",
    "    iter_no = 100\n",
    "    index = 1\n",
    "    while (iter_no >index and  error > err):\n",
    "        error = 0\n",
    "        sent_TR_prev = sent_TR.copy()\n",
    "        for sent,cooc in graph.items():\n",
    "            temp = 0\n",
    "            for link_sent,weight in cooc.items():\n",
    "                temp += d*sent_TR[link_sent]*weight/sum(graph[link_sent].values())\n",
    "                # print 'add temp:',temp\n",
    "\n",
    "            # print '----'\n",
    "\n",
    "            sent_TR[sent] = 1 -d + temp\n",
    "        error += (sent_TR[sent] - sent_TR_prev[sent])**2\n",
    "\n",
    "        print ('key sentence finding...iter_no:{},\\terror:{}'.format(index,error))\n",
    "        index += 1\n",
    "    if with_weight:\n",
    "        ks = sorted(sent_TR.iteritems())#,key=lambda (k,v):(v,k),reverse=True)\n",
    "        ks = [(k,v/max(zip(*ks)[1])) for k,v in ks ][:sent_num]\n",
    "    else:\n",
    "        ks = [sent for sent,weight in sorted(sent_TR.iteritems())[:sent_num]]#,key=lambda (k,v):(v,k),reverse=True)\n",
    "    return ks"
   ]
  },
  {
   "cell_type": "code",
   "execution_count": 21,
   "metadata": {},
   "outputs": [],
   "source": [
    "x='''莫蘭蒂颱風步步逼近 \n",
    "中央氣象局今天表示\n",
    "這是1995年以來有發布陸警的最強颱風\n",
    "明天到中秋節上半天是影響最劇烈的時候'''"
   ]
  },
  {
   "cell_type": "code",
   "execution_count": 24,
   "metadata": {},
   "outputs": [
    {
     "ename": "ModuleNotFoundError",
     "evalue": "No module named 'defaultdict'",
     "output_type": "error",
     "traceback": [
      "\u001b[1;31m---------------------------------------------------------------------------\u001b[0m",
      "\u001b[1;31mModuleNotFoundError\u001b[0m                       Traceback (most recent call last)",
      "\u001b[1;32m<ipython-input-24-b8bf2468d38b>\u001b[0m in \u001b[0;36m<module>\u001b[1;34m()\u001b[0m\n\u001b[0;32m      1\u001b[0m \u001b[1;32mimport\u001b[0m \u001b[0mre\u001b[0m\u001b[1;33m\u001b[0m\u001b[0m\n\u001b[1;32m----> 2\u001b[1;33m \u001b[1;32mimport\u001b[0m \u001b[0mdefaultdict\u001b[0m\u001b[1;33m\u001b[0m\u001b[0m\n\u001b[0m\u001b[0;32m      3\u001b[0m \u001b[0msentence_coocurance\u001b[0m\u001b[1;33m(\u001b[0m\u001b[0mx\u001b[0m\u001b[1;33m)\u001b[0m\u001b[1;33m\u001b[0m\u001b[0m\n",
      "\u001b[1;31mModuleNotFoundError\u001b[0m: No module named 'defaultdict'"
     ]
    }
   ],
   "source": []
  },
  {
   "cell_type": "code",
   "execution_count": 25,
   "metadata": {},
   "outputs": [
    {
     "name": "stdout",
     "output_type": "stream",
     "text": [
      "Collecting defaultdict\n"
     ]
    },
    {
     "name": "stderr",
     "output_type": "stream",
     "text": [
      "  Could not find a version that satisfies the requirement defaultdict (from versions: )\n",
      "No matching distribution found for defaultdict\n"
     ]
    }
   ],
   "source": []
  },
  {
   "cell_type": "code",
   "execution_count": null,
   "metadata": {
    "collapsed": true
   },
   "outputs": [],
   "source": []
  }
 ],
 "metadata": {
  "kernelspec": {
   "display_name": "Python 3",
   "language": "python",
   "name": "python3"
  },
  "language_info": {
   "codemirror_mode": {
    "name": "ipython",
    "version": 3
   },
   "file_extension": ".py",
   "mimetype": "text/x-python",
   "name": "python",
   "nbconvert_exporter": "python",
   "pygments_lexer": "ipython3",
   "version": "3.6.1"
  }
 },
 "nbformat": 4,
 "nbformat_minor": 2
}

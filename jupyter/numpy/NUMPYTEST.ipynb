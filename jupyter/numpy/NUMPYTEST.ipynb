{
 "cells": [
  {
   "cell_type": "markdown",
   "metadata": {},
   "source": [
    "# try to play numpy"
   ]
  },
  {
   "cell_type": "code",
   "execution_count": 1,
   "metadata": {
    "collapsed": true
   },
   "outputs": [],
   "source": [
    "import numpy as np"
   ]
  },
  {
   "cell_type": "code",
   "execution_count": 2,
   "metadata": {},
   "outputs": [
    {
     "name": "stdout",
     "output_type": "stream",
     "text": [
      "[468, 614, 8, 468, 614, 8, 468, 614, 8, 468, 614, 8, 468, 614, 8, 468, 614, 8, 468, 614, 8, 468, 614, 8, 468, 614, 8, 468, 614, 8, 468, 614, 8, 468, 614, 8, 468, 614, 8, 468, 614, 8, 468, 614, 8, 468, 614, 8, 468, 614, 8, 468, 614, 8, 468, 614, 8, 468, 614, 8, 468, 614, 8, 468, 614, 8, 468, 614, 8, 468, 614, 8, 468, 614, 8, 468, 614, 8, 468, 614, 8, 468, 614, 8, 468, 614, 8, 468, 614, 8, 468, 614, 8, 468, 614, 8, 468, 614, 8, 468, 614, 8, 468, 614, 8, 468, 614, 8, 468, 614, 8, 468, 614, 8, 468, 614, 8, 468, 614, 8, 468, 614, 8, 468, 614, 8, 468, 614, 8, 468, 614, 8, 468, 614, 8, 468, 614, 8, 468, 614, 8, 468, 614, 8, 468, 614, 8, 468, 614, 8, 468, 614, 8, 468, 614, 8, 468, 614, 8, 468, 614, 8, 468, 614, 8, 468, 614, 8, 468, 614, 8, 468, 614, 8, 468, 614, 8, 468, 614, 8]\n"
     ]
    }
   ],
   "source": [
    "period =[468,614,8]\n",
    "print(period*60)"
   ]
  },
  {
   "cell_type": "code",
   "execution_count": 3,
   "metadata": {},
   "outputs": [
    {
     "ename": "TypeError",
     "evalue": "can't multiply sequence by non-int of type 'float'",
     "output_type": "error",
     "traceback": [
      "\u001b[1;31m---------------------------------------------------------------------------\u001b[0m",
      "\u001b[1;31mTypeError\u001b[0m                                 Traceback (most recent call last)",
      "\u001b[1;32m<ipython-input-3-cfa1d2d24509>\u001b[0m in \u001b[0;36m<module>\u001b[1;34m()\u001b[0m\n\u001b[0;32m      1\u001b[0m \u001b[0mbh_mass\u001b[0m\u001b[1;33m=\u001b[0m\u001b[1;33m[\u001b[0m\u001b[1;36m222.0\u001b[0m\u001b[1;33m,\u001b[0m\u001b[1;36m4.0\u001b[0m\u001b[1;33m]\u001b[0m\u001b[1;33m\u001b[0m\u001b[0m\n\u001b[0;32m      2\u001b[0m \u001b[0mmass_sun\u001b[0m\u001b[1;33m=\u001b[0m\u001b[1;36m1.99\u001b[0m\u001b[1;33m*\u001b[0m\u001b[1;36m10\u001b[0m\u001b[1;33m**\u001b[0m\u001b[1;36m30\u001b[0m\u001b[1;33m\u001b[0m\u001b[0m\n\u001b[1;32m----> 3\u001b[1;33m \u001b[0mmass_sun\u001b[0m\u001b[1;33m*\u001b[0m\u001b[0mbh_mass\u001b[0m\u001b[1;33m\u001b[0m\u001b[0m\n\u001b[0m",
      "\u001b[1;31mTypeError\u001b[0m: can't multiply sequence by non-int of type 'float'"
     ]
    }
   ],
   "source": [
    "bh_mass=[222.0,4.0]\n",
    "mass_sun=1.99*10**30\n",
    "mass_sun*bh_mass"
   ]
  },
  {
   "cell_type": "code",
   "execution_count": 4,
   "metadata": {},
   "outputs": [
    {
     "ename": "TypeError",
     "evalue": "'float' object cannot be interpreted as an integer",
     "output_type": "error",
     "traceback": [
      "\u001b[1;31m---------------------------------------------------------------------------\u001b[0m",
      "\u001b[1;31mTypeError\u001b[0m                                 Traceback (most recent call last)",
      "\u001b[1;32m<ipython-input-4-3814d2e69ac0>\u001b[0m in \u001b[0;36m<module>\u001b[1;34m()\u001b[0m\n\u001b[1;32m----> 1\u001b[1;33m \u001b[0mtime\u001b[0m\u001b[1;33m=\u001b[0m\u001b[0mlist\u001b[0m\u001b[1;33m(\u001b[0m\u001b[0mrange\u001b[0m\u001b[1;33m(\u001b[0m\u001b[1;36m1\u001b[0m\u001b[1;33m,\u001b[0m\u001b[1;36m10\u001b[0m\u001b[1;33m,\u001b[0m\u001b[1;36m0.1\u001b[0m\u001b[1;33m)\u001b[0m\u001b[1;33m)\u001b[0m\u001b[1;33m\u001b[0m\u001b[0m\n\u001b[0m",
      "\u001b[1;31mTypeError\u001b[0m: 'float' object cannot be interpreted as an integer"
     ]
    }
   ],
   "source": [
    "time=list(range(1,10,0.1))"
   ]
  },
  {
   "cell_type": "code",
   "execution_count": 29,
   "metadata": {
    "collapsed": true
   },
   "outputs": [],
   "source": [
    "import numpy as np"
   ]
  },
  {
   "cell_type": "code",
   "execution_count": 64,
   "metadata": {},
   "outputs": [
    {
     "name": "stdout",
     "output_type": "stream",
     "text": [
      "[120 240  60 120]\n"
     ]
    }
   ],
   "source": [
    "#array\n",
    "preio =np.array([2,4,1,2])\n",
    "print(preio*60)"
   ]
  },
  {
   "cell_type": "code",
   "execution_count": null,
   "metadata": {
    "collapsed": true
   },
   "outputs": [],
   "source": []
  },
  {
   "cell_type": "code",
   "execution_count": 31,
   "metadata": {},
   "outputs": [
    {
     "name": "stdout",
     "output_type": "stream",
     "text": [
      "[3.98e+30 7.96e+30 1.99e+30 3.98e+30]\n"
     ]
    }
   ],
   "source": [
    "print(preio*1.99*10**30)"
   ]
  },
  {
   "cell_type": "code",
   "execution_count": 37,
   "metadata": {},
   "outputs": [
    {
     "data": {
      "text/plain": [
       "array([1, 3, 5, 7, 9])"
      ]
     },
     "execution_count": 37,
     "metadata": {},
     "output_type": "execute_result"
    }
   ],
   "source": [
    "#a~b 間隔c\n",
    "np.arange(1,10,2)"
   ]
  },
  {
   "cell_type": "code",
   "execution_count": 34,
   "metadata": {},
   "outputs": [
    {
     "data": {
      "text/plain": [
       "array([  1.        ,   2.52631579,   4.05263158,   5.57894737,\n",
       "         7.10526316,   8.63157895,  10.15789474,  11.68421053,\n",
       "        13.21052632,  14.73684211,  16.26315789,  17.78947368,\n",
       "        19.31578947,  20.84210526,  22.36842105,  23.89473684,\n",
       "        25.42105263,  26.94736842,  28.47368421,  30.        ])"
      ]
     },
     "execution_count": 34,
     "metadata": {},
     "output_type": "execute_result"
    }
   ],
   "source": [
    "#a~b中間有20個原宿平均切開\n",
    "np.linspace(1,30,20)"
   ]
  },
  {
   "cell_type": "code",
   "execution_count": 39,
   "metadata": {},
   "outputs": [
    {
     "data": {
      "text/plain": [
       "array([ 0.,  0.,  0.,  0.,  0.,  0.,  0.,  0.,  0.,  0.])"
      ]
     },
     "execution_count": 39,
     "metadata": {},
     "output_type": "execute_result"
    }
   ],
   "source": [
    "np.zeros(10)"
   ]
  },
  {
   "cell_type": "code",
   "execution_count": 40,
   "metadata": {},
   "outputs": [
    {
     "data": {
      "text/plain": [
       "array([ 1.,  1.,  1.,  1.,  1.,  1.,  1.,  1.,  1.,  1.])"
      ]
     },
     "execution_count": 40,
     "metadata": {},
     "output_type": "execute_result"
    }
   ],
   "source": [
    "np.ones(10)"
   ]
  },
  {
   "cell_type": "code",
   "execution_count": 86,
   "metadata": {},
   "outputs": [
    {
     "name": "stdout",
     "output_type": "stream",
     "text": [
      "2\n",
      "(3, 4)\n",
      "float64\n"
     ]
    }
   ],
   "source": [
    "#numpy陣列應用\n",
    "period2=np.array([[9,3,6,7],[4.6,1,3,2],[3,1,5,7]])\n",
    "print(period2.ndim)#幾次元\n",
    "print(period2.shape)#邊長\n",
    "print(period2.dtype)#什麼格式的資料"
   ]
  },
  {
   "cell_type": "code",
   "execution_count": 87,
   "metadata": {},
   "outputs": [
    {
     "data": {
      "text/plain": [
       "array([ 9.,  3.,  6.,  7.])"
      ]
     },
     "execution_count": 87,
     "metadata": {},
     "output_type": "execute_result"
    }
   ],
   "source": [
    "period2[0]"
   ]
  },
  {
   "cell_type": "code",
   "execution_count": 88,
   "metadata": {},
   "outputs": [
    {
     "data": {
      "text/plain": [
       "array([ 9.,  3.])"
      ]
     },
     "execution_count": 88,
     "metadata": {},
     "output_type": "execute_result"
    }
   ],
   "source": [
    "period2[0][0:-2]"
   ]
  },
  {
   "cell_type": "code",
   "execution_count": 110,
   "metadata": {},
   "outputs": [
    {
     "name": "stdout",
     "output_type": "stream",
     "text": [
      "[ 3.  6.  7.  9.]\n",
      "[1 2 3 0]\n",
      "0\n",
      "(array([0, 2, 3], dtype=int64),)\n",
      "[ 9.  6.  7.]\n"
     ]
    }
   ],
   "source": [
    "print(np.sort(period2[0])) #排序\n",
    "print(np.argsort(period2[0]))\n",
    "print(np.argmax(period2[0]))\n",
    "print(np.where(period2[0] > 4.5))\n",
    "print(np.extract(period2[0] > 4.5, period2[0])) # (indexlist,array)"
   ]
  },
  {
   "cell_type": "code",
   "execution_count": 93,
   "metadata": {},
   "outputs": [
    {
     "name": "stdout",
     "output_type": "stream",
     "text": [
      "[ 586.60254038  574.31448255  558.77852523  540.67366431  520.79116908\n",
      "  500.          479.20883092  459.32633569  441.22147477  425.68551745\n",
      "  413.39745962  404.89434837  400.54781046  400.54781046  404.89434837\n",
      "  413.39745962  425.68551745  441.22147477  459.32633569  479.20883092\n",
      "  500.          520.79116908  540.67366431  558.77852523  574.31448255\n",
      "  586.60254038  595.10565163  599.45218954  599.45218954  595.10565163\n",
      "  586.60254038  574.31448255  558.77852523  540.67366431  520.79116908\n",
      "  500.          479.20883092  459.32633569  441.22147477  425.68551745\n",
      "  413.39745962  404.89434837  400.54781046  400.54781046  404.89434837\n",
      "  413.39745962  425.68551745  441.22147477  459.32633569  479.20883092\n",
      "  500.          520.79116908  540.67366431  558.77852523  574.31448255\n",
      "  586.60254038  595.10565163  599.45218954  599.45218954  595.10565163\n",
      "  586.60254038  574.31448255  558.77852523  540.67366431  520.79116908\n",
      "  500.          479.20883092  459.32633569  441.22147477  425.68551745\n",
      "  413.39745962  404.89434837  400.54781046  400.54781046  404.89434837\n",
      "  413.39745962  425.68551745  441.22147477  459.32633569  479.20883092\n",
      "  500.          520.79116908  540.67366431  558.77852523  574.31448255\n",
      "  586.60254038  595.10565163  599.45218954  599.45218954  595.10565163]\n"
     ]
    }
   ],
   "source": [
    "counts = 100 * np.sin(2 * np.pi * 1. / period2[0][1] * time) + 500\n",
    "print(counts)"
   ]
  },
  {
   "cell_type": "code",
   "execution_count": 102,
   "metadata": {
    "collapsed": true
   },
   "outputs": [],
   "source": [
    "import numpy.random"
   ]
  },
  {
   "cell_type": "code",
   "execution_count": 107,
   "metadata": {},
   "outputs": [
    {
     "name": "stdout",
     "output_type": "stream",
     "text": [
      "[ 0.74457002  0.13829597  0.06879903  0.1915065   0.40530265]\n"
     ]
    }
   ],
   "source": [
    "print(npr.rand(5)) #0~1"
   ]
  },
  {
   "cell_type": "code",
   "execution_count": 125,
   "metadata": {},
   "outputs": [
    {
     "ename": "NameError",
     "evalue": "name 'means' is not defined",
     "output_type": "error",
     "traceback": [
      "\u001b[1;31m---------------------------------------------------------------------------\u001b[0m",
      "\u001b[1;31mNameError\u001b[0m                                 Traceback (most recent call last)",
      "\u001b[1;32m<ipython-input-125-5fe7e233ac4c>\u001b[0m in \u001b[0;36m<module>\u001b[1;34m()\u001b[0m\n\u001b[1;32m----> 1\u001b[1;33m \u001b[0mmeans\u001b[0m\u001b[1;33m(\u001b[0m\u001b[0mprint\u001b[0m\u001b[1;33m(\u001b[0m\u001b[0mnpr\u001b[0m\u001b[1;33m.\u001b[0m\u001b[0mrandn\u001b[0m\u001b[1;33m(\u001b[0m\u001b[1;36m5\u001b[0m\u001b[1;33m)\u001b[0m\u001b[1;33m)\u001b[0m\u001b[1;33m)\u001b[0m\u001b[1;33m\u001b[0m\u001b[0m\n\u001b[0m",
      "\u001b[1;31mNameError\u001b[0m: name 'means' is not defined"
     ]
    }
   ],
   "source": [
    "print(npr.randn(5))  "
   ]
  },
  {
   "cell_type": "code",
   "execution_count": 117,
   "metadata": {},
   "outputs": [
    {
     "data": {
      "text/plain": [
       "array([  1.91628512,  12.80670906,  -7.09310811,   9.78083627,\n",
       "        -1.59612363,  22.9578553 ,   1.24658348,   5.24407625,\n",
       "        -1.38863957,  -0.15872892])"
      ]
     },
     "execution_count": 117,
     "metadata": {},
     "output_type": "execute_result"
    }
   ],
   "source": [
    "npr.normal(5, 10, 10) #5為準 +-10 10個"
   ]
  },
  {
   "cell_type": "code",
   "execution_count": 154,
   "metadata": {
    "collapsed": true
   },
   "outputs": [],
   "source": [
    "lc = np.array([time, counts])"
   ]
  },
  {
   "cell_type": "code",
   "execution_count": 155,
   "metadata": {
    "collapsed": true
   },
   "outputs": [],
   "source": [
    "np.savetxt('D:/jupyter/test.txt', lc)"
   ]
  },
  {
   "cell_type": "code",
   "execution_count": 156,
   "metadata": {
    "collapsed": true
   },
   "outputs": [],
   "source": [
    "input_time, input_counts = np.loadtxt('test.txt')"
   ]
  },
  {
   "cell_type": "code",
   "execution_count": 157,
   "metadata": {},
   "outputs": [
    {
     "name": "stdout",
     "output_type": "stream",
     "text": [
      "[ 1.   1.1  1.2  1.3  1.4  1.5  1.6  1.7  1.8  1.9  2.   2.1  2.2  2.3  2.4\n",
      "  2.5  2.6  2.7  2.8  2.9  3.   3.1  3.2  3.3  3.4  3.5  3.6  3.7  3.8  3.9\n",
      "  4.   4.1  4.2  4.3  4.4  4.5  4.6  4.7  4.8  4.9  5.   5.1  5.2  5.3  5.4\n",
      "  5.5  5.6  5.7  5.8  5.9  6.   6.1  6.2  6.3  6.4  6.5  6.6  6.7  6.8  6.9\n",
      "  7.   7.1  7.2  7.3  7.4  7.5  7.6  7.7  7.8  7.9  8.   8.1  8.2  8.3  8.4\n",
      "  8.5  8.6  8.7  8.8  8.9  9.   9.1  9.2  9.3  9.4  9.5  9.6  9.7  9.8  9.9]\n",
      "[ 586.60254038  574.31448255  558.77852523  540.67366431  520.79116908\n",
      "  500.          479.20883092  459.32633569  441.22147477  425.68551745\n",
      "  413.39745962  404.89434837  400.54781046  400.54781046  404.89434837\n",
      "  413.39745962  425.68551745  441.22147477  459.32633569  479.20883092\n",
      "  500.          520.79116908  540.67366431  558.77852523  574.31448255\n",
      "  586.60254038  595.10565163  599.45218954  599.45218954  595.10565163\n",
      "  586.60254038  574.31448255  558.77852523  540.67366431  520.79116908\n",
      "  500.          479.20883092  459.32633569  441.22147477  425.68551745\n",
      "  413.39745962  404.89434837  400.54781046  400.54781046  404.89434837\n",
      "  413.39745962  425.68551745  441.22147477  459.32633569  479.20883092\n",
      "  500.          520.79116908  540.67366431  558.77852523  574.31448255\n",
      "  586.60254038  595.10565163  599.45218954  599.45218954  595.10565163\n",
      "  586.60254038  574.31448255  558.77852523  540.67366431  520.79116908\n",
      "  500.          479.20883092  459.32633569  441.22147477  425.68551745\n",
      "  413.39745962  404.89434837  400.54781046  400.54781046  404.89434837\n",
      "  413.39745962  425.68551745  441.22147477  459.32633569  479.20883092\n",
      "  500.          520.79116908  540.67366431  558.77852523  574.31448255\n",
      "  586.60254038  595.10565163  599.45218954  599.45218954  595.10565163]\n"
     ]
    }
   ],
   "source": [
    "print(input_time)\n",
    "print(input_counts)"
   ]
  },
  {
   "cell_type": "code",
   "execution_count": 158,
   "metadata": {
    "collapsed": true
   },
   "outputs": [],
   "source": [
    "import matplotlib.pyplot as plt\n",
    "%matplotlib inline"
   ]
  },
  {
   "cell_type": "code",
   "execution_count": 159,
   "metadata": {},
   "outputs": [
    {
     "data": {
      "text/plain": [
       "([<matplotlib.axis.YTick at 0x8bc8a90>,\n",
       "  <matplotlib.axis.YTick at 0x8924588>,\n",
       "  <matplotlib.axis.YTick at 0x8bb9e48>],\n",
       " <a list of 3 Text yticklabel objects>)"
      ]
     },
     "execution_count": 159,
     "metadata": {},
     "output_type": "execute_result"
    },
    {
     "data": {
      "image/png": "[encoded data removed]",
      "text/plain": [
       "<matplotlib.figure.Figure at 0x88bb588>"
      ]
     },
     "metadata": {},
     "output_type": "display_data"
    }
   ],
   "source": [
    "plt.plot(input_time, input_counts)\n",
    "plt.xlabel('Time')\n",
    "plt.ylabel('Counts')\n",
    "plt.title('Light curve', fontsize=18)\n",
    "plt.axis([1, 15, 350, 700])\n",
    "plt.xticks([1, 5, 10])\n",
    "plt.yticks([350, 500, 700])\n",
    "#plt.show() "
   ]
  },
  {
   "cell_type": "code",
   "execution_count": 160,
   "metadata": {},
   "outputs": [
    {
     "data": {
      "text/plain": [
       "[<matplotlib.lines.Line2D at 0x8c822b0>]"
      ]
     },
     "execution_count": 160,
     "metadata": {},
     "output_type": "execute_result"
    },
    {
     "data": {
      "image/png": "[encoded data removed]",
      "text/plain": [
       "<matplotlib.figure.Figure at 0x876df28>"
      ]
     },
     "metadata": {},
     "output_type": "display_data"
    }
   ],
   "source": [
    "plt.plot(input_time, input_counts+100, 'r*')\n",
    "#plt.legend(('lc1', 'lc2', 'lc3'))\n",
    "#plt.hold(False)"
   ]
  },
  {
   "cell_type": "code",
   "execution_count": 161,
   "metadata": {},
   "outputs": [
    {
     "data": {
      "text/plain": [
       "[<matplotlib.lines.Line2D at 0x8d1db70>]"
      ]
     },
     "execution_count": 161,
     "metadata": {},
     "output_type": "execute_result"
    },
    {
     "data": {
      "image/png": "[encoded data removed]",
      "text/plain": [
       "<matplotlib.figure.Figure at 0x8c3bb70>"
      ]
     },
     "metadata": {},
     "output_type": "display_data"
    }
   ],
   "source": [
    "plt.subplot(211)\n",
    "plt.plot(input_time, input_counts)\n",
    "plt.subplot(212)\n",
    "plt.plot(input_time, input_counts, '.m')\n",
    "#plt.savefig('subplot.png')"
   ]
  },
  {
   "cell_type": "code",
   "execution_count": 162,
   "metadata": {},
   "outputs": [
    {
     "data": {
      "text/plain": [
       "<Container object of 3 artists>"
      ]
     },
     "execution_count": 162,
     "metadata": {},
     "output_type": "execute_result"
    },
    {
     "data": {
      "image/png": "[encoded data removed]",
      "text/plain": [
       "<matplotlib.figure.Figure at 0x8da80f0>"
      ]
     },
     "metadata": {},
     "output_type": "display_data"
    }
   ],
   "source": [
    "y_errors = 10 * npr.rand(len(input_time)) + 5\n",
    "plt.plot(input_time, input_counts, 'k.')\n",
    "plt.errorbar(input_time, input_counts, yerr=y_errors, fmt='r')"
   ]
  },
  {
   "cell_type": "code",
   "execution_count": null,
   "metadata": {
    "collapsed": true
   },
   "outputs": [],
   "source": []
  }
 ],
 "metadata": {
  "kernelspec": {
   "display_name": "Python 3",
   "language": "python",
   "name": "python3"
  },
  "language_info": {
   "codemirror_mode": {
    "name": "ipython",
    "version": 3
   },
   "file_extension": ".py",
   "mimetype": "text/x-python",
   "name": "python",
   "nbconvert_exporter": "python",
   "pygments_lexer": "ipython3",
   "version": "3.6.1"
  }
 },
 "nbformat": 4,
 "nbformat_minor": 2
}
